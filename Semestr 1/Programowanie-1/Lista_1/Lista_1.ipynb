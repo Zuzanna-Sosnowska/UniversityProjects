{
 "cells": [
  {
   "metadata": {},
   "cell_type": "markdown",
   "source": [
    "## Lista 1\n",
    "\n",
    "### Zadanie 1\n",
    "Wykonaj następujące polecenia w interpreterze Pythona: \n",
    "\n",
    "5 \n",
    "\n",
    "x = 5\n",
    "\n",
    "x = x + 1\n",
    "\n",
    "Następnie zapisz te polecenia do pliku tekstowego i uruchom go jako\n",
    "skrypt. Co widzisz na ekranie? Zmień skrypt tak, aby ponownie wyświetlić\n",
    "w konsoli wynik działania poszczególnych linii kodu.\n",
    "\n"
   ],
   "id": "82bb35ebec7154e0"
  },
  {
   "cell_type": "code",
   "execution_count": null,
   "id": "initial_id",
   "metadata": {
    "collapsed": true
   },
   "outputs": [],
   "source": [
    "# Wpisać polecenie w konsolę\n",
    "5\n",
    "x = 5\n",
    "x = x + 1\n",
    "print(x)"
   ]
  },
  {
   "metadata": {},
   "cell_type": "markdown",
   "source": [
    "### Zadanie 2\n",
    "\n",
    "Załóżmy, że wykonałeś w interpreterze następujące polecenia:\n",
    "\n",
    "szer = 13\n",
    "\n",
    "wys = 12.0\n",
    "\n",
    "znak = ’.’\n",
    "\n",
    "Jaki będzie wynik następujących wyrażeń (wykonaj ręcznie!):\n",
    "\n",
    "szer/2\n",
    "\n",
    "szer/2.0\n",
    "\n",
    "wys/3\n",
    "\n",
    "znak * 5\n",
    "\n",
    "znak + 5\n",
    "\n",
    "Czy wyniki zależą w jakiś sposób od używanej wersji Pythona? Skorzystaj\n",
    "z interpreterów Pythona, aby sprawdzić wyniki."
   ],
   "id": "7d076f747bf794ad"
  },
  {
   "metadata": {
    "ExecuteTime": {
     "end_time": "2025-04-10T20:52:53.719545Z",
     "start_time": "2025-04-10T20:52:53.660251Z"
    }
   },
   "cell_type": "code",
   "source": [
    "szer = 13\n",
    "wys = 12.0\n",
    "znak = \".\"\n",
    "\n",
    "print(szer/2)\n",
    "print(szer/2.0)\n",
    "print(wys/3)\n",
    "print(znak * 5)\n",
    "print(znak + 5)"
   ],
   "id": "3f620a7b0bc584a6",
   "outputs": [
    {
     "name": "stdout",
     "output_type": "stream",
     "text": [
      "6.5\n",
      "6.5\n",
      "4.0\n",
      ".....\n",
      "0\n"
     ]
    },
    {
     "ename": "TypeError",
     "evalue": "can only concatenate str (not \"int\") to str",
     "output_type": "error",
     "traceback": [
      "\u001B[1;31m---------------------------------------------------------------------------\u001B[0m",
      "\u001B[1;31mTypeError\u001B[0m                                 Traceback (most recent call last)",
      "Cell \u001B[1;32mIn[17], line 10\u001B[0m\n\u001B[0;32m      8\u001B[0m \u001B[38;5;28mprint\u001B[39m(znak \u001B[38;5;241m*\u001B[39m \u001B[38;5;241m5\u001B[39m)\n\u001B[0;32m      9\u001B[0m \u001B[38;5;28mprint\u001B[39m(\u001B[38;5;241m59\u001B[39m \u001B[38;5;241m/\u001B[39m\u001B[38;5;241m/\u001B[39m \u001B[38;5;241m60\u001B[39m)\n\u001B[1;32m---> 10\u001B[0m \u001B[38;5;28mprint\u001B[39m(\u001B[43mznak\u001B[49m\u001B[43m \u001B[49m\u001B[38;5;241;43m+\u001B[39;49m\u001B[43m \u001B[49m\u001B[38;5;241;43m5\u001B[39;49m)\n",
      "\u001B[1;31mTypeError\u001B[0m: can only concatenate str (not \"int\") to str"
     ]
    }
   ],
   "execution_count": 17
  },
  {
   "metadata": {},
   "cell_type": "markdown",
   "source": [
    "### Zadanie 3\n",
    "\n",
    "Oblicz objętość kuli o promieniu r = 5cm. Uwaga! 392.5 nie jest poprawną odpowiedzią w Pythonie 2.7"
   ],
   "id": "e85196a792b1aa26"
  },
  {
   "metadata": {
    "ExecuteTime": {
     "end_time": "2025-04-10T20:26:08.943074Z",
     "start_time": "2025-04-10T20:26:08.938766Z"
    }
   },
   "cell_type": "code",
   "source": [
    "import math\n",
    "\n",
    "r = float(5)\n",
    "objetosc = 4/3 * math.pi * r**3\n",
    "print(\"Objętość kuli wynosi:\", objetosc, \"[cm^3]\")"
   ],
   "id": "67d969a645715ad4",
   "outputs": [
    {
     "name": "stdout",
     "output_type": "stream",
     "text": [
      "Objętość kuli wynosi: 523.5987755982989 [cm^3]\n"
     ]
    }
   ],
   "execution_count": 6
  },
  {
   "metadata": {},
   "cell_type": "markdown",
   "source": [
    "### Zadanie 4\n",
    "Napisz prostą funkcję, która dla zadanego promienia jako argumentu wyliczy objętość kuli."
   ],
   "id": "351e2deacce5219d"
  },
  {
   "metadata": {
    "ExecuteTime": {
     "end_time": "2025-04-10T20:31:18.085473Z",
     "start_time": "2025-04-10T20:31:18.076597Z"
    }
   },
   "cell_type": "code",
   "source": [
    "import math\n",
    "\n",
    "def objetosc_kuli(r: float) -> float:\n",
    "    \"\"\"\n",
    "    Funkcja zwraca objętość kuli o zadanym promieniu\n",
    "    :param r: Promień kuli\n",
    "    :return: Funkcja zwraca objętość kuli.\n",
    "    \"\"\"\n",
    "    if r <= 0:\n",
    "        raise ValueError(\"Promień kuli musi być dodatni!\")\n",
    "    return 4/3 * math.pi * int(r)**3\n",
    "\n",
    "\n",
    "objetosc_kuli(r=5.0)\n",
    "# objetosc_kuli(r=-1.0)"
   ],
   "id": "fe2446be349828c1",
   "outputs": [
    {
     "data": {
      "text/plain": [
       "523.5987755982989"
      ]
     },
     "execution_count": 8,
     "metadata": {},
     "output_type": "execute_result"
    }
   ],
   "execution_count": 8
  },
  {
   "metadata": {},
   "cell_type": "markdown",
   "source": [
    "### Zadanie 5\n",
    "Rozwiąż przy pomocy Pythona: jeśli pójdę pobiegać o godz. 6:52 rano i pierwsze $1,5$ km przebiegnę w rekreacyjnym tempie 6:15/km, następne $4,8$ km w szybkim tempie 4:12/km, a ostatni kilometr znowu w tempie rekreacyjnym, to o której wrócę do domu?"
   ],
   "id": "f1ee4c286bdfd9e9"
  },
  {
   "metadata": {
    "ExecuteTime": {
     "end_time": "2025-04-10T20:59:15.011912Z",
     "start_time": "2025-04-10T20:59:15.004315Z"
    }
   },
   "cell_type": "code",
   "source": [
    "minuty = int((2.5 * (6 * 60 + 15) + 4.8 * (4 * 60 + 12)) / 60)\n",
    "\n",
    "godzina_powrotu = 6 + int((52 + minuty) / 60)\n",
    "minuta_powrotu = int((52 + minuty) % 60)\n",
    "\n",
    "print(f\"Biegacz wróci o {godzina_powrotu} : {minuta_powrotu}\")   "
   ],
   "id": "37ed89fc09a072c9",
   "outputs": [
    {
     "name": "stdout",
     "output_type": "stream",
     "text": [
      "Biegacz wróci o 7 : 27\n"
     ]
    }
   ],
   "execution_count": 18
  },
  {
   "metadata": {},
   "cell_type": "markdown",
   "source": [
    "### Zadanie 6\n",
    "\n",
    "Napisz program w Pythonie, który wygeneruje na ekranie trójkąt:\n",
    "\n",
    "\\*\n",
    "\n",
    "\\* \\*\n",
    "\n",
    "\\* \\* \\*\n",
    "\n",
    "\\* \\* \\* \\*"
   ],
   "id": "5afc09678bf1833a"
  },
  {
   "metadata": {
    "ExecuteTime": {
     "end_time": "2025-04-10T21:04:05.900271Z",
     "start_time": "2025-04-10T21:04:05.893373Z"
    }
   },
   "cell_type": "code",
   "source": [
    "symbol = \"*\"\n",
    "    \n",
    "def choinka(rozmiar):\n",
    "    for i in range(rozmiar+1):\n",
    "        print(i*\"*\")\n",
    "\n",
    "choinka(4)\n",
    "\n",
    "print(\"\\n\\n  *  \\n *** \\n*****\\n *** \\n*****\\n *** \\n*****\\n  *  \\n  *  \\n\")"
   ],
   "id": "a88c38589e7e9988",
   "outputs": [
    {
     "name": "stdout",
     "output_type": "stream",
     "text": [
      "\n",
      "*\n",
      "**\n",
      "***\n",
      "****\n",
      "\n",
      "\n",
      "  *  \n",
      " *** \n",
      "*****\n",
      " *** \n",
      "*****\n",
      " *** \n",
      "*****\n",
      "  *  \n",
      "  *  \n",
      "\n"
     ]
    }
   ],
   "execution_count": 24
  },
  {
   "metadata": {},
   "cell_type": "markdown",
   "source": [
    "### Zadanie 7\n",
    "Napisz program, którego wynik działania przedstawiony jest poniżej:\n"
   ],
   "id": "b326bd555f8f07d"
  },
  {
   "metadata": {
    "ExecuteTime": {
     "end_time": "2025-04-10T21:05:39.135498Z",
     "start_time": "2025-04-10T21:05:39.131073Z"
    }
   },
   "cell_type": "code",
   "source": "print(\"\\n  ____  \\n@/ ,. \\@\\n( \\__/ )\\n \\__U_/ \")",
   "id": "c2c476706b6a135a",
   "outputs": [
    {
     "name": "stdout",
     "output_type": "stream",
     "text": [
      "\n",
      "  ____  \n",
      "@/ ,. \\@\n",
      "( \\__/ )\n",
      " \\__U_/ \n"
     ]
    }
   ],
   "execution_count": 25
  }
 ],
 "metadata": {
  "kernelspec": {
   "display_name": "Python 3",
   "language": "python",
   "name": "python3"
  },
  "language_info": {
   "codemirror_mode": {
    "name": "ipython",
    "version": 2
   },
   "file_extension": ".py",
   "mimetype": "text/x-python",
   "name": "python",
   "nbconvert_exporter": "python",
   "pygments_lexer": "ipython2",
   "version": "2.7.6"
  }
 },
 "nbformat": 4,
 "nbformat_minor": 5
}
