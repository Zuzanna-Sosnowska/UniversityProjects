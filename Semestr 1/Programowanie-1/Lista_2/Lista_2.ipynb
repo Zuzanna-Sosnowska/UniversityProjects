{
 "cells": [
  {
   "metadata": {},
   "cell_type": "markdown",
   "source": [
    "# Lista 2\n",
    "\n",
    "### Zadanie 1\n",
    "Przeczytaj rozdziały 2, 5 i 8 z ”Think Python”.\n",
    "\n",
    "### Zadanie 2\n",
    "Napisz program, który w zadanym łańcuchu znaków znajdzie podany znak i wypisze na ekran jego pozycję"
   ],
   "id": "19d95be66680df78"
  },
  {
   "cell_type": "code",
   "id": "initial_id",
   "metadata": {
    "collapsed": true,
    "ExecuteTime": {
     "end_time": "2025-04-10T21:10:28.736704Z",
     "start_time": "2025-04-10T21:10:08.413801Z"
    }
   },
   "source": [
    "symbol = input(\"Symbol do wyszukania: \")\n",
    "text = input(\"Wprowadź tekst: \")\n",
    "len(text)\n",
    "for i in range(len(text)):\n",
    "    if symbol == text[i]:\n",
    "        print(\"Symbol na pozycji: \", i)\n",
    "        break  # Program wypisze nam tylko pierwszą pozycję, która będzie zgodna z symbolem.\n",
    "        # bez \"break\" program wypisze wszystkie pozycje, na których pojawia się symbol.\n"
   ],
   "outputs": [
    {
     "name": "stdout",
     "output_type": "stream",
     "text": [
      "Symbol na pozycji:  11\n"
     ]
    }
   ],
   "execution_count": 1
  },
  {
   "metadata": {},
   "cell_type": "markdown",
   "source": [
    "### Zadanie 3\n",
    "\n",
    "Zmodyfikuj program z poprzedniego zadania tak, aby możliwe było\n",
    "przeszukiwanie łańcucha znaków od podanej pozycji.\n"
   ],
   "id": "5c3fad08dd9e7c8f"
  },
  {
   "metadata": {
    "ExecuteTime": {
     "end_time": "2025-04-10T21:11:51.727147Z",
     "start_time": "2025-04-10T21:11:22.532943Z"
    }
   },
   "cell_type": "code",
   "source": [
    "symbol = input(\"Symbol do wyszukania: \")\n",
    "text = input(\"Wprowadź tekst: \")\n",
    "x = int(input(\"Zaczynamy od pozycji: \"))\n",
    "for i in range(x, len(text)):\n",
    "    if symbol == text[i]:\n",
    "        print(\"Symbol na pozycji: \", i)"
   ],
   "id": "d3957011717e0453",
   "outputs": [
    {
     "name": "stdout",
     "output_type": "stream",
     "text": [
      "Symbol na pozycji:  9\n"
     ]
    }
   ],
   "execution_count": 2
  },
  {
   "metadata": {},
   "cell_type": "markdown",
   "source": [
    "### Zadanie 4\n",
    "Napisz program, który policzy, jak często dany znak występuje w podanym łańcuchu znaków."
   ],
   "id": "4dc96e2d34599497"
  },
  {
   "metadata": {
    "ExecuteTime": {
     "end_time": "2025-04-10T21:12:54.080871Z",
     "start_time": "2025-04-10T21:12:43.287277Z"
    }
   },
   "cell_type": "code",
   "source": [
    "symbol = input(\"Symbol do wyszukania: \")\n",
    "text = input(\"Wprowadź tekst: \")\n",
    "x = 0\n",
    "for i in range(len(text)):\n",
    "    if symbol == text[i]:\n",
    "        x = x+1\n",
    "print(\"Ilość symboli w tekście: \", x)"
   ],
   "id": "a2a837c28f32ffc0",
   "outputs": [
    {
     "name": "stdout",
     "output_type": "stream",
     "text": [
      "Ilość symboli w tekście:  3\n"
     ]
    }
   ],
   "execution_count": 3
  },
  {
   "metadata": {},
   "cell_type": "markdown",
   "source": [
    "### Zadanie 5\n",
    "\n",
    "Zaimplementuj to samo przy pomocy metody count. Korzystając z polecenia time w konsoli linuksowej sprawdź czas wykonania obu wersji programu."
   ],
   "id": "b65a7f977c6c7e32"
  },
  {
   "metadata": {
    "ExecuteTime": {
     "end_time": "2025-04-10T21:14:06.690390Z",
     "start_time": "2025-04-10T21:13:59.218500Z"
    }
   },
   "cell_type": "code",
   "source": [
    "symbol = input(\"Symbol do wyszukania: \")\n",
    "text = input(\"Wprowadź tekst: \")\n",
    "x = text.count(symbol)\n",
    "print(\"Ilość symboli w tekście: \", x)"
   ],
   "id": "2fc04294b2adb501",
   "outputs": [
    {
     "name": "stdout",
     "output_type": "stream",
     "text": [
      "Ilość symboli w tekście:  3\n"
     ]
    }
   ],
   "execution_count": 5
  },
  {
   "metadata": {},
   "cell_type": "markdown",
   "source": [
    "### Zadanie 6\n",
    "Napisz program, który porówna dwa łańcuchy znaków znak po znaku.\n"
   ],
   "id": "513672ef5556adf8"
  },
  {
   "metadata": {
    "ExecuteTime": {
     "end_time": "2025-04-10T21:15:13.425607Z",
     "start_time": "2025-04-10T21:15:01.893759Z"
    }
   },
   "cell_type": "code",
   "source": [
    "x = input(\"Wprowadź tekst: \")\n",
    "y = input(\"Wprowadź tekst: \")\n",
    "len(x)\n",
    "len(y)\n",
    "p = min(len(x), len(y))\n",
    "for i in range(p):\n",
    "    if x[i] == y[i]:\n",
    "        print(\"Symbol na pozycji \", i ,\"zgodny\")\n",
    "    else:\n",
    "        print(\"Symbol na pozycji \", i ,\"niezgodny\")"
   ],
   "id": "fef5daaecbe33e89",
   "outputs": [
    {
     "name": "stdout",
     "output_type": "stream",
     "text": [
      "Symbol na pozycji  0 zgodny\n",
      "Symbol na pozycji  1 zgodny\n",
      "Symbol na pozycji  2 zgodny\n",
      "Symbol na pozycji  3 zgodny\n",
      "Symbol na pozycji  4 zgodny\n",
      "Symbol na pozycji  5 zgodny\n",
      "Symbol na pozycji  6 zgodny\n",
      "Symbol na pozycji  7 niezgodny\n",
      "Symbol na pozycji  8 niezgodny\n",
      "Symbol na pozycji  9 niezgodny\n",
      "Symbol na pozycji  10 niezgodny\n"
     ]
    }
   ],
   "execution_count": 6
  },
  {
   "metadata": {},
   "cell_type": "markdown",
   "source": [
    "### Zadanie 7\n",
    "Napisz program, który wypisze na ekranie n pierwszych wyrazów ciągu Fibonacciego."
   ],
   "id": "7e56806f6be3f352"
  },
  {
   "metadata": {
    "ExecuteTime": {
     "end_time": "2025-04-10T21:16:10.295009Z",
     "start_time": "2025-04-10T21:16:04.225606Z"
    }
   },
   "cell_type": "code",
   "source": [
    "a = int(input(\"Podaj zakres: \"))\n",
    "m = 1\n",
    "n = 1\n",
    "for i in range(a):\n",
    "    print(m)\n",
    "    p = m+n\n",
    "    m = n\n",
    "    n = p"
   ],
   "id": "c1cf90c5314760b",
   "outputs": [
    {
     "name": "stdout",
     "output_type": "stream",
     "text": [
      "1\n",
      "1\n",
      "2\n",
      "3\n",
      "5\n",
      "8\n",
      "13\n",
      "21\n",
      "34\n",
      "55\n"
     ]
    }
   ],
   "execution_count": 7
  }
 ],
 "metadata": {
  "kernelspec": {
   "display_name": "Python 3",
   "language": "python",
   "name": "python3"
  },
  "language_info": {
   "codemirror_mode": {
    "name": "ipython",
    "version": 2
   },
   "file_extension": ".py",
   "mimetype": "text/x-python",
   "name": "python",
   "nbconvert_exporter": "python",
   "pygments_lexer": "ipython2",
   "version": "2.7.6"
  }
 },
 "nbformat": 4,
 "nbformat_minor": 5
}
