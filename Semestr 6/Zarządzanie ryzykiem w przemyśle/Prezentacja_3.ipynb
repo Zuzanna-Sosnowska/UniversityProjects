{
 "cells": [
  {
   "metadata": {},
   "cell_type": "markdown",
   "source": "# Prezentacja 3",
   "id": "5482d2dbe287c646"
  },
  {
   "cell_type": "code",
   "id": "initial_id",
   "metadata": {
    "collapsed": true,
    "ExecuteTime": {
     "end_time": "2025-05-10T15:00:01.754967Z",
     "start_time": "2025-05-10T14:59:58.663977Z"
    }
   },
   "source": [
    "from pandas import read_csv, to_datetime, read_excel, Series, date_range\n",
    "import numpy as np\n",
    "from scipy.stats import t, norm"
   ],
   "outputs": [],
   "execution_count": 1
  },
  {
   "metadata": {},
   "cell_type": "markdown",
   "source": [
    "###  Notowania giełdowe PEPSICO (PEP) - od 13.04.2015 do 31.03.2025, co tydzień\n",
    "\n",
    "https://www.nasdaq.com/market-activity/stocks/pep/historical?page=1&rows_per_page=10&timeline=y10"
   ],
   "id": "58428ac6825f7315"
  },
  {
   "metadata": {
    "ExecuteTime": {
     "end_time": "2025-05-10T17:28:47.545519Z",
     "start_time": "2025-05-10T17:28:47.506886Z"
    }
   },
   "cell_type": "code",
   "source": [
    "dane_notowania = read_csv('dane\\\\notowania.csv')\n",
    "dane_notowania['Date'] = to_datetime(dane_notowania['Date'], format='%m/%d/%Y')\n",
    "dane_notowania = dane_notowania.sort_values('Date')\n",
    "dane_notowania.set_index('Date', inplace=True)\n",
    "# Ustalenie startowej daty: 13.04.2015\n",
    "start_date = to_datetime('2015-05-10')\n",
    "dane_notowania = dane_notowania[dane_notowania.index >= start_date]\n",
    "dane_notowania = dane_notowania.resample('7D').first()\n",
    "daty_notowania = dane_notowania.index.tolist()\n",
    "dane_notowania = dane_notowania[\"Close/Last\"].tolist()\n",
    "dane_notowania = [float(x.replace('$', '')) for x in dane_notowania]\n",
    "# aby uniknąć problemu związanemu z brakiem danych w weekendy i dni niehandlowe, bierzemy notowanie z każdego poniedziałku (jeśli nie ma z danego poniedziałku, to z wtorku etc.)"
   ],
   "id": "7b112dc68a54b6ae",
   "outputs": [],
   "execution_count": 27
  },
  {
   "metadata": {},
   "cell_type": "markdown",
   "source": [
    "## VaR dla notowań\n",
    "\n",
    "### Metoda parametryczna"
   ],
   "id": "55750fed0bc81514"
  },
  {
   "metadata": {
    "ExecuteTime": {
     "end_time": "2025-05-10T17:28:50.349166Z",
     "start_time": "2025-05-10T17:28:50.276472Z"
    }
   },
   "cell_type": "code",
   "source": [
    "# Obliczanie tygodniowych zmian procentowych\n",
    "zmiany_procentowe = Series(dane_notowania).pct_change().dropna() * 100\n",
    "daty_zmian = daty_notowania[1:]  # pierwszy tydzień nie ma zmiany\n",
    "\n",
    "# Unormowane dane lub oryginalne zmiany procentowe:\n",
    "data = -np.array(zmiany_procentowe)\n",
    "\n",
    "# Dopasuj rozkład t: zwraca df, loc, scale\n",
    "df_fit, loc_fit, scale_fit = t.fit(data)\n",
    "\n",
    "print(\"VaR rzędu 95% dla notowań:\", t.ppf(0.95, df_fit, loc=loc_fit, scale=scale_fit))\n",
    "print(\"VaR rzędu 99% dla notowań:\", t.ppf(0.99, df_fit, loc=loc_fit, scale=scale_fit))"
   ],
   "id": "47d1f2ab8e9ce799",
   "outputs": [
    {
     "name": "stdout",
     "output_type": "stream",
     "text": [
      "VaR rzędu 95% dla notowań: 3.514487206967012\n",
      "VaR rzędu 99% dla notowań: 5.876445890530571\n"
     ]
    }
   ],
   "execution_count": 28
  },
  {
   "metadata": {},
   "cell_type": "markdown",
   "source": "### Metoda historyczna (zwykła)",
   "id": "ef67048a8c6a2e35"
  },
  {
   "metadata": {
    "ExecuteTime": {
     "end_time": "2025-05-10T17:28:53.445986Z",
     "start_time": "2025-05-10T17:28:53.438804Z"
    }
   },
   "cell_type": "code",
   "source": [
    "print(\"Kwantyl empiryczny dla danych:\", np.quantile(data, 0.95))\n",
    "print(\"Kwantyl empiryczny dla danych:\", np.quantile(data, 0.99))"
   ],
   "id": "2ece1bdf14fa9575",
   "outputs": [
    {
     "name": "stdout",
     "output_type": "stream",
     "text": [
      "Kwantyl empiryczny dla danych: 3.5473920358945366\n",
      "Kwantyl empiryczny dla danych: 5.6245881905998685\n"
     ]
    }
   ],
   "execution_count": 29
  },
  {
   "metadata": {
    "ExecuteTime": {
     "end_time": "2025-05-10T18:15:43.357400Z",
     "start_time": "2025-05-10T18:15:43.349548Z"
    }
   },
   "cell_type": "code",
   "source": [
    "def weighted_historical_VaR(data, alpha, lambd=0.999):\n",
    "    n = len(data)\n",
    "    w_1 = (1 - lambd) / (1 - np.power(lambd, n))\n",
    "    weights = np.power(lambd, n - np.arange(1, n + 1)) * w_1\n",
    "    return np.quantile(data, alpha, weights=weights, method=\"inverted_cdf\")\n",
    "\n",
    "print(weighted_historical_VaR(data, 0.95))\n",
    "print(weighted_historical_VaR(data, 0.99))"
   ],
   "id": "7c99916946c29df8",
   "outputs": [
    {
     "name": "stdout",
     "output_type": "stream",
     "text": [
      "1.5973826020015403\n",
      "3.0062630480166996\n"
     ]
    }
   ],
   "execution_count": 65
  },
  {
   "metadata": {},
   "cell_type": "markdown",
   "source": "### VaR obliczony z użyciem filtrowania szeregiem GARCH",
   "id": "1baaeb13c54bf17b"
  },
  {
   "metadata": {
    "ExecuteTime": {
     "end_time": "2025-05-10T17:53:18.746917Z",
     "start_time": "2025-05-10T17:53:18.704687Z"
    }
   },
   "cell_type": "code",
   "source": [
    "from arch import arch_model\n",
    "\n",
    "\n",
    "# === 1. Dopasowanie modelu GARCH do zwrotów ===\n",
    "model = arch_model(data, vol='Garch', p=1, q=1, dist='t')\n",
    "res = model.fit(disp='off')\n",
    "\n",
    "mu_hat = res.params['mu']\n",
    "sigma_t = res.conditional_volatility\n",
    "L = data\n",
    "\n",
    "standardized_residuals = (L - mu_hat) / sigma_t\n",
    "\n",
    "alpha = 0.95\n",
    "q_alpha = np.quantile(standardized_residuals, alpha)\n",
    "\n",
    "forecast = res.forecast(horizon=1)\n",
    "sigma_n1 = np.sqrt(forecast.variance.values[-1, : ])[0]\n",
    "\n",
    "# === 5. Oblicz VaR ===\n",
    "VaR_alpha = sigma_n1 * q_alpha + mu_hat\n",
    "\n",
    "print(f\"📉 Value at Risk (VaR) na poziomie {alpha*100}%: {VaR_alpha:.4f}\")"
   ],
   "id": "e4d0c8bab4d4cbb2",
   "outputs": [
    {
     "name": "stdout",
     "output_type": "stream",
     "text": [
      "📉 Value at Risk (VaR) na poziomie 95.0%: 5.0414\n"
     ]
    }
   ],
   "execution_count": 52
  },
  {
   "metadata": {
    "ExecuteTime": {
     "end_time": "2025-05-10T17:31:25.590845Z",
     "start_time": "2025-05-10T17:31:25.491225Z"
    }
   },
   "cell_type": "code",
   "outputs": [
    {
     "ename": "ValueError",
     "evalue": "parameters must have 1 elements",
     "output_type": "error",
     "traceback": [
      "\u001B[1;31m---------------------------------------------------------------------------\u001B[0m",
      "\u001B[1;31mValueError\u001B[0m                                Traceback (most recent call last)",
      "Cell \u001B[1;32mIn[33], line 4\u001B[0m\n\u001B[0;32m      1\u001B[0m forecasts \u001B[38;5;241m=\u001B[39m res\u001B[38;5;241m.\u001B[39mforecast(align\u001B[38;5;241m=\u001B[39m\u001B[38;5;124m\"\u001B[39m\u001B[38;5;124mtarget\u001B[39m\u001B[38;5;124m\"\u001B[39m)\n\u001B[0;32m      2\u001B[0m \u001B[38;5;66;03m# cond_mean = forecasts.mean[\"2018\":].dropna()\u001B[39;00m\n\u001B[0;32m      3\u001B[0m \u001B[38;5;66;03m# cond_var = forecasts.variance[\"2018\":].dropna()\u001B[39;00m\n\u001B[1;32m----> 4\u001B[0m q \u001B[38;5;241m=\u001B[39m \u001B[43mmodel\u001B[49m\u001B[38;5;241;43m.\u001B[39;49m\u001B[43mdistribution\u001B[49m\u001B[38;5;241;43m.\u001B[39;49m\u001B[43mppf\u001B[49m\u001B[43m(\u001B[49m\u001B[43m[\u001B[49m\u001B[38;5;241;43m0.01\u001B[39;49m\u001B[43m,\u001B[49m\u001B[43m \u001B[49m\u001B[38;5;241;43m0.05\u001B[39;49m\u001B[43m]\u001B[49m\u001B[43m,\u001B[49m\u001B[43m \u001B[49m\u001B[43mres\u001B[49m\u001B[38;5;241;43m.\u001B[39;49m\u001B[43mparams\u001B[49m\u001B[43m[\u001B[49m\u001B[38;5;241;43m-\u001B[39;49m\u001B[38;5;241;43m2\u001B[39;49m\u001B[43m:\u001B[49m\u001B[43m]\u001B[49m\u001B[43m)\u001B[49m\n\u001B[0;32m      5\u001B[0m \u001B[38;5;28mprint\u001B[39m(q)\n",
      "File \u001B[1;32m~\\PycharmProjects\\pythonProject\\.venv\\Lib\\site-packages\\arch\\univariate\\distribution.py:662\u001B[0m, in \u001B[0;36mStudentsT.ppf\u001B[1;34m(self, pits, parameters)\u001B[0m\n\u001B[0;32m    657\u001B[0m \u001B[38;5;28;01mdef\u001B[39;00m \u001B[38;5;21mppf\u001B[39m(\n\u001B[0;32m    658\u001B[0m     \u001B[38;5;28mself\u001B[39m,\n\u001B[0;32m    659\u001B[0m     pits: Union[\u001B[38;5;28mfloat\u001B[39m, Sequence[\u001B[38;5;28mfloat\u001B[39m], ArrayLike1D],\n\u001B[0;32m    660\u001B[0m     parameters: Union[Sequence[\u001B[38;5;28mfloat\u001B[39m], ArrayLike1D, \u001B[38;5;28;01mNone\u001B[39;00m] \u001B[38;5;241m=\u001B[39m \u001B[38;5;28;01mNone\u001B[39;00m,\n\u001B[0;32m    661\u001B[0m ) \u001B[38;5;241m-\u001B[39m\u001B[38;5;241m>\u001B[39m Float64Array:\n\u001B[1;32m--> 662\u001B[0m     parameters \u001B[38;5;241m=\u001B[39m \u001B[38;5;28;43mself\u001B[39;49m\u001B[38;5;241;43m.\u001B[39;49m\u001B[43m_check_constraints\u001B[49m\u001B[43m(\u001B[49m\u001B[43mparameters\u001B[49m\u001B[43m)\u001B[49m\n\u001B[0;32m    663\u001B[0m     pits \u001B[38;5;241m=\u001B[39m asarray(pits, dtype\u001B[38;5;241m=\u001B[39m\u001B[38;5;28mfloat\u001B[39m)\n\u001B[0;32m    664\u001B[0m     nu \u001B[38;5;241m=\u001B[39m parameters[\u001B[38;5;241m0\u001B[39m]\n",
      "File \u001B[1;32m~\\PycharmProjects\\pythonProject\\.venv\\Lib\\site-packages\\arch\\univariate\\distribution.py:97\u001B[0m, in \u001B[0;36mDistribution._check_constraints\u001B[1;34m(self, parameters)\u001B[0m\n\u001B[0;32m     95\u001B[0m     params \u001B[38;5;241m=\u001B[39m empty(\u001B[38;5;241m0\u001B[39m)\n\u001B[0;32m     96\u001B[0m \u001B[38;5;28;01mif\u001B[39;00m nparams \u001B[38;5;241m!=\u001B[39m \u001B[38;5;28mlen\u001B[39m(bounds):\n\u001B[1;32m---> 97\u001B[0m     \u001B[38;5;28;01mraise\u001B[39;00m \u001B[38;5;167;01mValueError\u001B[39;00m(\u001B[38;5;124mf\u001B[39m\u001B[38;5;124m\"\u001B[39m\u001B[38;5;124mparameters must have \u001B[39m\u001B[38;5;132;01m{\u001B[39;00m\u001B[38;5;28mlen\u001B[39m(bounds)\u001B[38;5;132;01m}\u001B[39;00m\u001B[38;5;124m elements\u001B[39m\u001B[38;5;124m\"\u001B[39m)\n\u001B[0;32m     98\u001B[0m \u001B[38;5;28;01mif\u001B[39;00m \u001B[38;5;28mlen\u001B[39m(bounds) \u001B[38;5;241m==\u001B[39m \u001B[38;5;241m0\u001B[39m:\n\u001B[0;32m     99\u001B[0m     \u001B[38;5;28;01mreturn\u001B[39;00m empty(\u001B[38;5;241m0\u001B[39m)\n",
      "\u001B[1;31mValueError\u001B[0m: parameters must have 1 elements"
     ]
    }
   ],
   "source": "",
   "id": "8fa479c4125d7c92",
   "execution_count": null
  },
  {
   "metadata": {},
   "cell_type": "markdown",
   "source": "",
   "id": "3c131b757be2ae6"
  },
  {
   "metadata": {
    "ExecuteTime": {
     "end_time": "2025-05-10T18:18:05.330497Z",
     "start_time": "2025-05-10T18:18:05.223154Z"
    }
   },
   "cell_type": "code",
   "source": [
    "dane_cukier = [\n",
    "    2.55,2.52,2.45,2.45,2.41,2.38,2.33,2.69,2.89,2.86,2.77,2.86, # 2010\n",
    "    3.01,3.43,4.71,4.72,4.33,3.93,3.93,3.61,3.68,3.61,3.72,3.61, # 2011\n",
    "    3.78,3.79,3.79,3.84,3.80,3.84,3.80,3.77,3.78,3.73,3.78,3.76, # 2012\n",
    "    3.67,3.53,3.67,3.55,3.55,3.47,3.33,3.22,3.14,3.15,3.01,2.85, # 2013\n",
    "    2.83,2.73,2.58,2.35,2.18,2.24,2.04,2.16,1.93,1.98,1.89,1.81, # 2014\n",
    "    1.85,1.85,1.98,2.00,1.98,1.94,2.20,2.21,2.30,2.28,2.33,2.34, # 2015\n",
    "    2.32,2.55,2.60,2.61,2.67,2.65,2.91,2.82,3.07,2.96,3.11,2.98, # 2016\n",
    "    3.16,2.95,2.93,3.14,2.97,3.12,2.97,3.06,2.84,2.71,2.87,2.46, # 2017\n",
    "    2.02,2.48,1.96,2.41,1.96,1.91,2.14,2.00,2.03,2.21,2.06,1.87, # 2018\n",
    "    2.36,2.36,2.57,2.34,2.65,2.37,2.62,2.47,2.68,2.42,2.73,2.42, # 2019\n",
    "    2.70,2.50,2.54,2.63,2.72,2.66,2.47,2.65,2.38,2.38,2.59,2.57, # 2020\n",
    "    2.75,2.42,2.53,2.81,2.61,2.51,3.01,2.44,2.53,3.11,3.03,3.33, # 2021\n",
    "    3.06,3.06,3.33,3.34,3.93,3.33,4.25,5.49,6.76,5.65,6.64,6.00, # 2022\n",
    "    6.68,6.02,6.63,6.02,6.59,5.90,6.54,5.81,6.14,5.60,6.03,5.70, # 2023\n",
    "    6.12,4.76,4.90,5.09,4.55,5.31,4.40,4.86,3.65,4.53,3.51,3.30] # 2024\n",
    "\n",
    "# Obliczanie tygodniowych zmian procentowych\n",
    "zmiany_procentowe = Series(dane_cukier).pct_change().dropna() * 100\n",
    "\n",
    "data = -np.array(zmiany_procentowe)\n",
    "\n",
    "df_fit, loc_fit, scale_fit = t.fit(data)\n",
    "\n",
    "print(\"VaR rzędu 95% dla notowań:\", t.ppf(0.95, df=df_fit, loc=loc_fit, scale=scale_fit))\n",
    "print(\"VaR rzędu 99% dla notowań:\", t.ppf(0.99, df=df_fit, loc=loc_fit, scale=scale_fit))\n",
    "\n",
    "print(\"Kwantyl empiryczny dla danych:\", np.quantile(data, 0.95))\n",
    "print(\"Kwantyl empiryczny dla danych:\", np.quantile(data, 0.99))\n",
    "\n",
    "print(weighted_historical_VaR(data, 0.95))\n",
    "print(weighted_historical_VaR(data, 0.99))\n",
    "\n",
    "# === 1. Dopasowanie modelu GARCH do zwrotów ===\n",
    "model = arch_model(data, vol='Garch', p=1, q=1, dist='t')\n",
    "res = model.fit(disp='off')\n",
    "\n",
    "mu_hat = res.params['mu']\n",
    "sigma_t = res.conditional_volatility\n",
    "L = data\n",
    "\n",
    "standardized_residuals = (L - mu_hat) / sigma_t\n",
    "\n",
    "alpha_1 = 0.95\n",
    "alpha_2 = 0.99\n",
    "q_alpha_1 = np.quantile(standardized_residuals, alpha_1)\n",
    "q_alpha_2 = np.quantile(standardized_residuals, alpha_2)\n",
    "\n",
    "forecast = res.forecast(horizon=1)\n",
    "sigma_n1 = np.sqrt(forecast.variance.values[-1, : ])[0]\n",
    "\n",
    "# === 5. Oblicz VaR ===\n",
    "VaR_alpha_1 = sigma_n1 * q_alpha_1 + mu_hat\n",
    "VaR_alpha_2 = sigma_n1 * q_alpha_2 + mu_hat\n",
    "\n",
    "print(f\"📉 Value at Risk (VaR) na poziomie {alpha_1*100}%: {VaR_alpha_1:.4f}\")\n",
    "print(f\"📉 Value at Risk (VaR) na poziomie {alpha_2*100}%: {VaR_alpha_2:.4f}\")"
   ],
   "id": "e9fb8356d0ae4099",
   "outputs": [
    {
     "name": "stdout",
     "output_type": "stream",
     "text": [
      "VaR rzędu 95% dla notowań: 16.041620735736437\n",
      "VaR rzędu 99% dla notowań: 27.47799656916375\n",
      "Kwantyl empiryczny dla danych: 15.382469849586696\n",
      "Kwantyl empiryczny dla danych: 22.2869757174393\n",
      "16.420118343195256\n",
      "22.51655629139073\n",
      "📉 Value at Risk (VaR) na poziomie 95.0%: 20.5352\n",
      "📉 Value at Risk (VaR) na poziomie 99.0%: 29.5133\n"
     ]
    }
   ],
   "execution_count": 67
  },
  {
   "metadata": {},
   "cell_type": "markdown",
   "source": "## Testy dla wartości zagrożonej",
   "id": "12df41ea78a49bdd"
  },
  {
   "metadata": {},
   "cell_type": "markdown",
   "source": "### Test kupca",
   "id": "783617af772da4b0"
  },
  {
   "metadata": {},
   "cell_type": "code",
   "outputs": [],
   "execution_count": null,
   "source": "",
   "id": "4bd469bbc9d251ac"
  },
  {
   "metadata": {},
   "cell_type": "markdown",
   "source": "### Test niezależności (Christoffersena) ",
   "id": "6d0d396b46c6b5a7"
  },
  {
   "metadata": {},
   "cell_type": "code",
   "outputs": [],
   "execution_count": null,
   "source": "",
   "id": "1673e9fce15e5be2"
  }
 ],
 "metadata": {
  "kernelspec": {
   "display_name": "Python 3",
   "language": "python",
   "name": "python3"
  },
  "language_info": {
   "codemirror_mode": {
    "name": "ipython",
    "version": 2
   },
   "file_extension": ".py",
   "mimetype": "text/x-python",
   "name": "python",
   "nbconvert_exporter": "python",
   "pygments_lexer": "ipython2",
   "version": "2.7.6"
  }
 },
 "nbformat": 4,
 "nbformat_minor": 5
}
