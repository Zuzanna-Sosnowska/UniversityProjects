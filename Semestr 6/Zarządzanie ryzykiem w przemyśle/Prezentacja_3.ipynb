{
 "cells": [
  {
   "metadata": {},
   "cell_type": "markdown",
   "source": "# Prezentacja 3",
   "id": "5482d2dbe287c646"
  },
  {
   "cell_type": "code",
   "id": "initial_id",
   "metadata": {
    "collapsed": true,
    "ExecuteTime": {
     "end_time": "2025-05-12T17:41:25.830059Z",
     "start_time": "2025-05-12T17:41:25.825635Z"
    }
   },
   "source": [
    "from pandas import read_csv, to_datetime, read_excel, Series, date_range\n",
    "import numpy as np\n",
    "from scipy.stats import t, norm, chi2\n",
    "from collections import Counter\n",
    "from arch import arch_model\n",
    "from typing import Literal"
   ],
   "outputs": [],
   "execution_count": 16
  },
  {
   "metadata": {},
   "cell_type": "markdown",
   "source": [
    "###  Notowania giełdowe PEPSICO (PEP) - od 13.04.2015 do 31.03.2025, co tydzień\n",
    "\n",
    "https://www.nasdaq.com/market-activity/stocks/pep/historical?page=1&rows_per_page=10&timeline=y10"
   ],
   "id": "58428ac6825f7315"
  },
  {
   "metadata": {
    "ExecuteTime": {
     "end_time": "2025-05-12T17:32:28.830527Z",
     "start_time": "2025-05-12T17:32:28.741927Z"
    }
   },
   "cell_type": "code",
   "source": [
    "dane_notowania = read_csv('dane\\\\notowania.csv')\n",
    "dane_notowania['Date'] = to_datetime(dane_notowania['Date'], format='%m/%d/%Y')\n",
    "dane_notowania = dane_notowania.sort_values('Date')\n",
    "dane_notowania.set_index('Date', inplace=True)\n",
    "# Ustalenie startowej daty: 13.04.2015\n",
    "start_date = to_datetime('2015-05-10')\n",
    "dane_notowania = dane_notowania[dane_notowania.index >= start_date]\n",
    "dane_notowania = dane_notowania.resample('7D').first()\n",
    "daty_notowania = dane_notowania.index.tolist()\n",
    "dane_notowania = dane_notowania[\"Close/Last\"].tolist()\n",
    "dane_notowania = [float(x.replace('$', '')) for x in dane_notowania]\n",
    "# aby uniknąć problemu związanemu z brakiem danych w weekendy i dni niehandlowe, bierzemy notowanie z każdego poniedziałku (jeśli nie ma z danego poniedziałku, to z wtorku etc.)"
   ],
   "id": "7b112dc68a54b6ae",
   "outputs": [],
   "execution_count": 7
  },
  {
   "metadata": {},
   "cell_type": "markdown",
   "source": [
    "## VaR dla notowań\n",
    "\n",
    "### Metoda parametryczna"
   ],
   "id": "55750fed0bc81514"
  },
  {
   "metadata": {
    "ExecuteTime": {
     "end_time": "2025-05-12T17:32:31.151646Z",
     "start_time": "2025-05-12T17:32:31.079736Z"
    }
   },
   "cell_type": "code",
   "source": [
    "# Obliczanie tygodniowych zmian procentowych\n",
    "zmiany_procentowe = Series(dane_notowania).pct_change().dropna() * 100\n",
    "daty_zmian = daty_notowania[1:]  # pierwszy tydzień nie ma zmiany\n",
    "\n",
    "# straty\n",
    "L = -np.array(zmiany_procentowe)\n",
    "\n",
    "# Dopasuj rozkład t: zwraca df, loc, scale\n",
    "df_fit, loc_fit, scale_fit = t.fit(L)\n",
    "\n",
    "print(\"VaR rzędu 95% metodą parametryczną:\", t.ppf(0.95, df_fit, loc=loc_fit, scale=scale_fit))\n",
    "print(\"VaR rzędu 99% metodą parametryczną:\", t.ppf(0.99, df_fit, loc=loc_fit, scale=scale_fit))"
   ],
   "id": "47d1f2ab8e9ce799",
   "outputs": [
    {
     "name": "stdout",
     "output_type": "stream",
     "text": [
      "VaR rzędu 95% metodą parametryczną: 3.514487206967012\n",
      "VaR rzędu 99% metodą parametryczną: 5.876445890530571\n"
     ]
    }
   ],
   "execution_count": 8
  },
  {
   "metadata": {},
   "cell_type": "markdown",
   "source": "### Metoda historyczna (zwykła)",
   "id": "ef67048a8c6a2e35"
  },
  {
   "metadata": {
    "ExecuteTime": {
     "end_time": "2025-05-12T17:32:34.074238Z",
     "start_time": "2025-05-12T17:32:34.067536Z"
    }
   },
   "cell_type": "code",
   "source": [
    "print(\"VaR rzędu 95% metodą historyczną (zwykłą):\", np.quantile(L, 0.95))\n",
    "print(\"VaR rzędu 99% metodą historyczną (zwykłą):\", np.quantile(L, 0.99))"
   ],
   "id": "2ece1bdf14fa9575",
   "outputs": [
    {
     "name": "stdout",
     "output_type": "stream",
     "text": [
      "VaR rzędu 95% metodą historyczną (zwykłą): 3.5473920358945366\n",
      "VaR rzędu 99% metodą historyczną (zwykłą): 5.6245881905998685\n"
     ]
    }
   ],
   "execution_count": 9
  },
  {
   "metadata": {
    "ExecuteTime": {
     "end_time": "2025-05-12T17:32:36.411155Z",
     "start_time": "2025-05-12T17:32:36.398162Z"
    }
   },
   "cell_type": "code",
   "source": [
    "def weighted_historical_VaR(data, alpha, lambd=0.999):\n",
    "    n = len(data)\n",
    "    w_1 = (1 - lambd) / (1 - np.power(lambd, n))\n",
    "    weights = np.power(lambd, n - np.arange(1, n + 1)) * w_1\n",
    "    return np.quantile(data, alpha, weights=weights, method=\"inverted_cdf\")\n",
    "\n",
    "weights = np.arange(0.95, 0.99, 0.01)\n",
    "for w in weights:\n",
    "    print(f\"VaR rzędu 95% metodą historyczną ważoną z wagą {w}:\", weighted_historical_VaR(L, 0.95, w))\n",
    "    print(f\"VaR rzędu 99% metodą historyczną ważoną z wagą {w}:\", weighted_historical_VaR(L, 0.99, w))"
   ],
   "id": "7c99916946c29df8",
   "outputs": [
    {
     "name": "stdout",
     "output_type": "stream",
     "text": [
      "VaR rzędu 95% metodą historyczną ważoną z wagą 0.95: 4.501800720288118\n",
      "VaR rzędu 99% metodą historyczną ważoną z wagą 0.95: 5.623368376490512\n",
      "VaR rzędu 95% metodą historyczną ważoną z wagą 0.96: 4.501800720288118\n",
      "VaR rzędu 99% metodą historyczną ważoną z wagą 0.96: 5.623368376490512\n",
      "VaR rzędu 95% metodą historyczną ważoną z wagą 0.97: 4.501800720288118\n",
      "VaR rzędu 99% metodą historyczną ważoną z wagą 0.97: 5.623368376490512\n",
      "VaR rzędu 95% metodą historyczną ważoną z wagą 0.98: 3.9395754308910735\n",
      "VaR rzędu 99% metodą historyczną ważoną z wagą 0.98: 5.623368376490512\n",
      "VaR rzędu 95% metodą historyczną ważoną z wagą 0.99: 3.843380844101829\n",
      "VaR rzędu 99% metodą historyczną ważoną z wagą 0.99: 5.623368376490512\n"
     ]
    }
   ],
   "execution_count": 10
  },
  {
   "metadata": {},
   "cell_type": "markdown",
   "source": "### VaR obliczony z użyciem filtrowania szeregiem GARCH",
   "id": "1baaeb13c54bf17b"
  },
  {
   "metadata": {
    "ExecuteTime": {
     "end_time": "2025-05-12T17:36:09.851874Z",
     "start_time": "2025-05-12T17:36:09.807853Z"
    }
   },
   "cell_type": "code",
   "source": [
    "def garch_VaR(data, alpha, dist: Literal['Normal', 't'] = 'Normal'):\n",
    "    model = arch_model(data, vol='Garch', p=1, q=1, dist=dist)\n",
    "    res = model.fit(disp='off')\n",
    "\n",
    "    mu_hat = res.params['mu']\n",
    "    sigma_t = res.conditional_volatility\n",
    "\n",
    "    standardized_residuals = (data - mu_hat) / sigma_t\n",
    "\n",
    "    q_alpha = np.quantile(standardized_residuals, alpha)\n",
    "\n",
    "    forecast = res.forecast(horizon=1)\n",
    "    sigma_n1 = np.sqrt(forecast.variance.values[-1, :])[0]\n",
    "\n",
    "    VaR_alpha = sigma_n1 * q_alpha + mu_hat\n",
    "    return VaR_alpha\n",
    "\n",
    "print(f\"VaR na poziomie 95% z użyciem filtrowania szeregiem GARCH: {garch_VaR(L, 0.95)}\")\n",
    "print(f\"VaR na poziomie 99% z użyciem filtrowania szeregiem GARCH: {garch_VaR(L, 0.99)}\")"
   ],
   "id": "e4d0c8bab4d4cbb2",
   "outputs": [
    {
     "name": "stdout",
     "output_type": "stream",
     "text": [
      "VaR na poziomie 95% z użyciem filtrowania szeregiem GARCH: 5.043244842559927\n",
      "VaR na poziomie 99% z użyciem filtrowania szeregiem GARCH: 7.4926245431342835\n"
     ]
    }
   ],
   "execution_count": 14
  },
  {
   "metadata": {},
   "cell_type": "markdown",
   "source": "",
   "id": "3c131b757be2ae6"
  },
  {
   "metadata": {
    "ExecuteTime": {
     "end_time": "2025-05-12T17:40:21.605660Z",
     "start_time": "2025-05-12T17:40:21.480642Z"
    }
   },
   "cell_type": "code",
   "source": [
    "dane_cukier = [\n",
    "    2.55,2.52,2.45,2.45,2.41,2.38,2.33,2.69,2.89,2.86,2.77,2.86, # 2010\n",
    "    3.01,3.43,4.71,4.72,4.33,3.93,3.93,3.61,3.68,3.61,3.72,3.61, # 2011\n",
    "    3.78,3.79,3.79,3.84,3.80,3.84,3.80,3.77,3.78,3.73,3.78,3.76, # 2012\n",
    "    3.67,3.53,3.67,3.55,3.55,3.47,3.33,3.22,3.14,3.15,3.01,2.85, # 2013\n",
    "    2.83,2.73,2.58,2.35,2.18,2.24,2.04,2.16,1.93,1.98,1.89,1.81, # 2014\n",
    "    1.85,1.85,1.98,2.00,1.98,1.94,2.20,2.21,2.30,2.28,2.33,2.34, # 2015\n",
    "    2.32,2.55,2.60,2.61,2.67,2.65,2.91,2.82,3.07,2.96,3.11,2.98, # 2016\n",
    "    3.16,2.95,2.93,3.14,2.97,3.12,2.97,3.06,2.84,2.71,2.87,2.46, # 2017\n",
    "    2.02,2.48,1.96,2.41,1.96,1.91,2.14,2.00,2.03,2.21,2.06,1.87, # 2018\n",
    "    2.36,2.36,2.57,2.34,2.65,2.37,2.62,2.47,2.68,2.42,2.73,2.42, # 2019\n",
    "    2.70,2.50,2.54,2.63,2.72,2.66,2.47,2.65,2.38,2.38,2.59,2.57, # 2020\n",
    "    2.75,2.42,2.53,2.81,2.61,2.51,3.01,2.44,2.53,3.11,3.03,3.33, # 2021\n",
    "    3.06,3.06,3.33,3.34,3.93,3.33,4.25,5.49,6.76,5.65,6.64,6.00, # 2022\n",
    "    6.68,6.02,6.63,6.02,6.59,5.90,6.54,5.81,6.14,5.60,6.03,5.70, # 2023\n",
    "    6.12,4.76,4.90,5.09,4.55,5.31,4.40,4.86,3.65,4.53,3.51,3.30] # 2024\n",
    "\n",
    "# Obliczanie tygodniowych zmian procentowych\n",
    "zmiany_procentowe = Series(dane_cukier).pct_change().dropna() * 100\n",
    "\n",
    "Lc = -np.array(zmiany_procentowe)\n",
    "\n",
    "df_fit, loc_fit, scale_fit = t.fit(Lc)\n",
    "\n",
    "print(\"VaR rzędu 95% metodą parametryczną:\", t.ppf(0.95, df=df_fit, loc=loc_fit, scale=scale_fit))\n",
    "print(\"VaR rzędu 99% metodą parametryczną:\", t.ppf(0.99, df=df_fit, loc=loc_fit, scale=scale_fit))\n",
    "\n",
    "print(\"VaR rzędu 95% metodą historyczną (zwykłą):\", np.quantile(Lc, 0.95))\n",
    "print(\"VaR rzędu 99% metodą historyczną (zwykłą):\", np.quantile(Lc, 0.99))\n",
    "\n",
    "\n",
    "print(\"VaR rzędu 95% metodą historyczną ważoną z wagą 0.97:\",weighted_historical_VaR(Lc, 0.95, 0.97))\n",
    "print(\"VaR rzędu 99% metodą historyczną ważoną z wagą 0.97:\", weighted_historical_VaR(Lc, 0.99, 0.97))\n",
    "\n",
    "print(f\"VaR na poziomie 95% z użyciem filtrowania szeregiem GARCH: {garch_VaR(Lc, 0.95)}\")\n",
    "print(f\"VaR na poziomie 99% z użyciem filtrowania szeregiem GARCH: {garch_VaR(Lc, 0.99)}\")"
   ],
   "id": "e9fb8356d0ae4099",
   "outputs": [
    {
     "name": "stdout",
     "output_type": "stream",
     "text": [
      "VaR rzędu 95% metodą parametryczną: 16.041620735736437\n",
      "VaR rzędu 99% metodą parametryczną: 27.47799656916375\n",
      "VaR rzędu 95% metodą historyczną (zwykłą): 15.382469849586696\n",
      "VaR rzędu 99% metodą historyczną (zwykłą): 22.2869757174393\n",
      "VaR rzędu 95% metodą historyczną ważoną z wagą 0.97: 22.51655629139073\n",
      "VaR rzędu 99% metodą historyczną ważoną z wagą 0.97: 24.89711934156379\n",
      "VaR na poziomie 95% z użyciem filtrowania szeregiem GARCH: 19.322753138713622\n",
      "VaR na poziomie 99% z użyciem filtrowania szeregiem GARCH: 28.211834246942875\n"
     ]
    }
   ],
   "execution_count": 15
  },
  {
   "metadata": {},
   "cell_type": "markdown",
   "source": "## Testy dla wartości zagrożonej",
   "id": "12df41ea78a49bdd"
  },
  {
   "metadata": {},
   "cell_type": "markdown",
   "source": "### Test kupca",
   "id": "783617af772da4b0"
  },
  {
   "metadata": {
    "ExecuteTime": {
     "end_time": "2025-05-12T17:42:14.910816Z",
     "start_time": "2025-05-12T17:42:14.899761Z"
    }
   },
   "cell_type": "code",
   "source": [
    "def backtesting(data, alpha, method: Literal['t', 'norm', 'historical', 'weighted', 'garch'] = 'historical'):\n",
    "    I = []\n",
    "    n = (len(data)) // 2\n",
    "    for i in range((len(data) + 1) // 2):\n",
    "        if method == 'historical':\n",
    "            q = np.quantile(data[i:i + n], 1-alpha)\n",
    "        elif method == 'norm':\n",
    "            loc_fit, scale_fit = norm.fit(data[i:i + n])\n",
    "            q = norm.ppf(1-alpha, loc=loc_fit, scale=scale_fit)\n",
    "        elif method == 't':\n",
    "            df_fit, loc_fit, scale_fit = t.fit(data[i:i + n])\n",
    "            q = t.ppf(1-alpha, df=df_fit, loc=loc_fit, scale=scale_fit)\n",
    "        elif method == 'weighted':\n",
    "            q = weighted_historical_VaR(data[i:i + n], 1-alpha)\n",
    "        elif method == 'garch':\n",
    "            q = garch_VaR(data=data[i:i + n], alpha=1-alpha)\n",
    "        else:\n",
    "            raise ValueError('Niepoprawnie zadana metoda. Możliwe warianty: \\'t\\', \\'norm\\', \\'historical\\', \\'weighted\\', \\'garch\\'')\n",
    "        if data[i+n] >= q:\n",
    "            I.append(1)\n",
    "        else:\n",
    "            I.append(0)\n",
    "    return I\n",
    "\n",
    "\n",
    "def unconditional_coverage_test(data, alpha, method: Literal['t', 'norm', 'historical', 'weighted', 'garch'] = 'historical'):\n",
    "    I = backtesting(data, alpha, method=method)\n",
    "    i1 = np.sum(I)\n",
    "    i0 = len(I) - i1\n",
    "\n",
    "    p0 = np.mean(I)\n",
    "    LR = - np.log(((1-alpha) ** i0 * alpha ** i1) / ((1 - p0) ** i0 * p0 ** i1))\n",
    "    p_value = chi2.cdf(LR, df=1)\n",
    "    return p_value"
   ],
   "id": "4bd469bbc9d251ac",
   "outputs": [],
   "execution_count": 17
  },
  {
   "metadata": {
    "ExecuteTime": {
     "end_time": "2025-05-12T17:45:00.989832Z",
     "start_time": "2025-05-12T17:44:47.898103Z"
    }
   },
   "cell_type": "code",
   "source": [
    "VaR_method = ['t', 'historical', 'weighted', 'garch']\n",
    "for method in VaR_method:\n",
    "    print(f\"P-wartość w teście kupca dla metody {method}:\", unconditional_coverage_test(L, 0.05, method=method))"
   ],
   "id": "60f186f0c75f0fcb",
   "outputs": [
    {
     "name": "stdout",
     "output_type": "stream",
     "text": [
      "P-wartość w teście kupca dla metody t: 0.14963736900288463\n",
      "P-wartość w teście kupca dla metody historical: 0.552454256813111\n",
      "P-wartość w teście kupca dla metody weighted: 0.4334139868202683\n",
      "P-wartość w teście kupca dla metody garch: 0.2982125345113053\n"
     ]
    }
   ],
   "execution_count": 19
  },
  {
   "metadata": {},
   "cell_type": "markdown",
   "source": "### Test niezależności (Christoffersena) ",
   "id": "6d0d396b46c6b5a7"
  },
  {
   "metadata": {
    "ExecuteTime": {
     "end_time": "2025-05-12T17:45:31.942589Z",
     "start_time": "2025-05-12T17:45:31.935641Z"
    }
   },
   "cell_type": "code",
   "source": [
    "def christoffersen_test(data, alpha, method: Literal['t', 'norm', 'historical', 'weighted', 'garch'] = 'historical'):\n",
    "    I_alpha = backtesting(data, alpha, method=method)       # wektor 0 i 1 z rozkładu wielomianowego z pr sukcesu 1\n",
    "    I = list(zip(I_alpha[:-1], I_alpha[1:]))\n",
    "    I = Counter(I)                                          # słownik z listą wystąpień (0, 0), (0, 1), (1, 0) i (1, 1)\n",
    "    pi = np.matrix([[I[(0, 0)] / (I[(0, 0)] + I[(0, 1)]), I[(0, 1)] / (I[(0, 0)] + I[(0, 1)])],\n",
    "                    [I[(1, 0)] / (I[(1, 0)] + I[(1, 1)]), I[(1, 1)] / (I[(1, 0)] + I[(1, 1)])],])\n",
    "\n",
    "    pi_est = np.mean(I_alpha)\n",
    "\n",
    "    PI_est = np.matrix([[1 - pi_est, pi_est], [1 - pi_est, pi_est]])\n",
    "\n",
    "    def L(pi: np.matrix):\n",
    "        return ((1 - pi[0, 1]) ** I[(0, 0)] * pi[0, 1] ** I[(0, 1)] *\n",
    "                (1 - pi[1, 1]) ** I[(1, 0)] * pi[1, 1] ** I[(1, 1)])\n",
    "\n",
    "    LR = - np.log(L(PI_est) / L(pi))\n",
    "    p_value = chi2.cdf(LR, df=1)\n",
    "    return p_value"
   ],
   "id": "1673e9fce15e5be2",
   "outputs": [],
   "execution_count": 20
  },
  {
   "metadata": {
    "ExecuteTime": {
     "end_time": "2025-05-12T17:45:48.010006Z",
     "start_time": "2025-05-12T17:45:33.034557Z"
    }
   },
   "cell_type": "code",
   "source": [
    "VaR_method = ['t', 'historical', 'weighted', 'garch']\n",
    "for method in VaR_method:\n",
    "    print(f\"P-wartość w teście christoffersena dla metody {method}:\", christoffersen_test(L, 0.05, method=method))"
   ],
   "id": "9ee424e96d1e8f98",
   "outputs": [
    {
     "name": "stdout",
     "output_type": "stream",
     "text": [
      "P-wartość w teście christoffersena dla metody t: 0.6280943923820427\n",
      "P-wartość w teście christoffersena dla metody historical: 0.7247523761356631\n",
      "P-wartość w teście christoffersena dla metody weighted: 0.6945064920072925\n",
      "P-wartość w teście christoffersena dla metody garch: 0.6622778487364459\n"
     ]
    }
   ],
   "execution_count": 21
  }
 ],
 "metadata": {
  "kernelspec": {
   "display_name": "Python 3",
   "language": "python",
   "name": "python3"
  },
  "language_info": {
   "codemirror_mode": {
    "name": "ipython",
    "version": 2
   },
   "file_extension": ".py",
   "mimetype": "text/x-python",
   "name": "python",
   "nbconvert_exporter": "python",
   "pygments_lexer": "ipython2",
   "version": "2.7.6"
  }
 },
 "nbformat": 4,
 "nbformat_minor": 5
}
