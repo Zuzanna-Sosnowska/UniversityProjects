{
 "cells": [
  {
   "metadata": {},
   "cell_type": "markdown",
   "source": "# Prezentacja 3",
   "id": "5482d2dbe287c646"
  },
  {
   "cell_type": "code",
   "id": "initial_id",
   "metadata": {
    "collapsed": true,
    "ExecuteTime": {
     "end_time": "2025-05-08T07:28:17.307670Z",
     "start_time": "2025-05-08T07:28:09.196838Z"
    }
   },
   "source": [
    "from pandas import read_csv, to_datetime, read_excel, Series, date_range\n",
    "import numpy as np\n",
    "from scipy.stats import t, norm"
   ],
   "outputs": [],
   "execution_count": 2
  },
  {
   "metadata": {},
   "cell_type": "markdown",
   "source": [
    "### Średnia cena ziemniaka (2010-2024)\n",
    "\n",
    "https://www.dlahandlu.pl/koszyk/towar/ziemniaki-na-wage-1-kg,35.html"
   ],
   "id": "da320cf05aef3aeb"
  },
  {
   "metadata": {
    "ExecuteTime": {
     "end_time": "2025-05-08T07:28:18.769394Z",
     "start_time": "2025-05-08T07:28:18.747128Z"
    }
   },
   "cell_type": "code",
   "source": [
    "dane_ziemniak = [\n",
    "    1.37,1.50,1.66,1.81,1.95,2.15,1.70,1.44,1.45,1.43,1.52,1.67, #2010\n",
    "    1.82,2.14,2.27,2.46,2.47,2.07,1.33,0.85,0.83,0.77,0.80,0.78, #2011\n",
    "    0.78,0.76,0.89,0.83,0.97,1.20,0.89,0.70,0.72,0.70,0.81,0.97, #2012\n",
    "    1.07,1.21,1.27,1.35,1.83,2.00,1.54,1.33,1.34,1.41,1.39,1.47, #2013\n",
    "    1.55,1.72,1.71,1.68,1.86,1.74,0.90,0.93,0.76,0.88,0.91,0.75, #2014\n",
    "    0.87,0.89,0.82,0.89,1.28,1.41,1.05,1.03,1.08,1.16,1.15,1.28, #2015\n",
    "    1.37,1.47,1.55,1.82,2.24,2.09,1.34,1.17,1.00,1.11,1.39,1.20, #2016\n",
    "    1.34,1.13,1.28,1.67,2.09,2.21,1.34,1.38,1.32,1.45,1.24,1.36, #2017\n",
    "    1.54,1.55,1.49,1.61,2.20,1.41,1.69,1.38,1.67,1.53,1.97,1.83, #2018\n",
    "    2.07,2.15,2.48,2.82,3.82,3.74,3.28,2.76,3.03,2.58,2.90,2.36, #2019\n",
    "    3.03,3.03,3.23,2.92,2.60,2.27,2.29,1.40,1.43,1.52,1.39,1.41, #2020\n",
    "    1.56,1.66,1.91,2.41,1.65,3.06,2.12,1.77,2.11,2.15,2.04,2.26, #2021\n",
    "    2.41,2.19,2.17,2.00,2.32,2.39,2.38,2.21,1.84,2.14,2.72,2.17, #2022\n",
    "    2.14,2.10,2.31,2.21,2.51,3.36,3.67,2.64,2.91,2.55,2.56,2.48, #2023\n",
    "    2.78,2.43,3.09,3.46,3.26,3.50,3.29,2.83,2.86,2.45,2.76,2.68 #2024\n",
    "]\n",
    "daty_ziemniak = date_range(start=\"2010-01\", end=\"2024-12\", freq=\"MS\")\n",
    "# ze względu na brak danych w kwietniu 2020 uśredniono dane z marca i maja 2020"
   ],
   "id": "ef9106d0014128be",
   "outputs": [],
   "execution_count": 3
  },
  {
   "metadata": {},
   "cell_type": "markdown",
   "source": [
    "### Otyłość WHO (procent w Polsce, lata 1990-2022)\n",
    "\n",
    "https://data.who.int/indicators/i/C6262EC/BEFA58B"
   ],
   "id": "ffea702ae708e556"
  },
  {
   "metadata": {
    "ExecuteTime": {
     "end_time": "2025-05-08T07:28:22.863274Z",
     "start_time": "2025-05-08T07:28:22.736968Z"
    }
   },
   "cell_type": "code",
   "source": [
    "dane_otylosc_global = read_csv('dane\\\\otylosc_who.csv')\n",
    "dane_otylosc = dane_otylosc_global[\n",
    "    (dane_otylosc_global[\"GEO_NAME_SHORT\"] == \"Poland\") &\n",
    "    (dane_otylosc_global[\"DIM_SEX\"] == \"TOTAL\")\n",
    "]\n",
    "dane_otylosc = dane_otylosc.sort_values(by=\"DIM_TIME\")\n",
    "dane_otylosc = dane_otylosc[\"RATE_PER_100_N\"].tolist()\n",
    "daty_otylosc = list(range(1990, 2023))"
   ],
   "id": "5aa70702bd588157",
   "outputs": [],
   "execution_count": 4
  },
  {
   "metadata": {},
   "cell_type": "markdown",
   "source": [
    "### Cena cukru (dziennie, 2010-2024)\n",
    "\n",
    "https://www.dlahandlu.pl/koszyk/towar/cukier-bialy-krysztal-1-kg,22.html"
   ],
   "id": "c6608e27f5218026"
  },
  {
   "metadata": {
    "ExecuteTime": {
     "end_time": "2025-05-08T07:28:24.506614Z",
     "start_time": "2025-05-08T07:28:24.493570Z"
    }
   },
   "cell_type": "code",
   "source": [
    "dane_cukier = [\n",
    "    2.55,2.52,2.45,2.45,2.41,2.38,2.33,2.69,2.89,2.86,2.77,2.86, # 2010\n",
    "    3.01,3.43,4.71,4.72,4.33,3.93,3.93,3.61,3.68,3.61,3.72,3.61, # 2011\n",
    "    3.78,3.79,3.79,3.84,3.80,3.84,3.80,3.77,3.78,3.73,3.78,3.76, # 2012\n",
    "    3.67,3.53,3.67,3.55,3.55,3.47,3.33,3.22,3.14,3.15,3.01,2.85, # 2013\n",
    "    2.83,2.73,2.58,2.35,2.18,2.24,2.04,2.16,1.93,1.98,1.89,1.81, # 2014\n",
    "    1.85,1.85,1.98,2.00,1.98,1.94,2.20,2.21,2.30,2.28,2.33,2.34, # 2015\n",
    "    2.32,2.55,2.60,2.61,2.67,2.65,2.91,2.82,3.07,2.96,3.11,2.98, # 2016\n",
    "    3.16,2.95,2.93,3.14,2.97,3.12,2.97,3.06,2.84,2.71,2.87,2.46, # 2017\n",
    "    2.02,2.48,1.96,2.41,1.96,1.91,2.14,2.00,2.03,2.21,2.06,1.87, # 2018\n",
    "    2.36,2.36,2.57,2.34,2.65,2.37,2.62,2.47,2.68,2.42,2.73,2.42, # 2019\n",
    "    2.70,2.50,2.54,2.63,2.72,2.66,2.47,2.65,2.38,2.38,2.59,2.57, # 2020\n",
    "    2.75,2.42,2.53,2.81,2.61,2.51,3.01,2.44,2.53,3.11,3.03,3.33, # 2021\n",
    "    3.06,3.06,3.33,3.34,3.93,3.33,4.25,5.49,6.76,5.65,6.64,6.00, # 2022\n",
    "    6.68,6.02,6.63,6.02,6.59,5.90,6.54,5.81,6.14,5.60,6.03,5.70, # 2023\n",
    "    6.12,4.76,4.90,5.09,4.55,5.31,4.40,4.86,3.65,4.53,3.51,3.30] # 2024\n",
    "daty_cukier = date_range(start=\"2010-01\", end=\"2024-12\", freq=\"MS\")\n",
    "# ze względu na brak danych w kwietniu 2020 uśredniono dane z marca i maja 2020"
   ],
   "id": "d54b4512bb0ef4fe",
   "outputs": [],
   "execution_count": 5
  },
  {
   "metadata": {},
   "cell_type": "markdown",
   "source": [
    "###  Notowania giełdowe PEPSICO (PEP) - od 13.04.2015 do 31.03.2025, co tydzień\n",
    "\n",
    "https://www.nasdaq.com/market-activity/stocks/pep/historical?page=1&rows_per_page=10&timeline=y10"
   ],
   "id": "58428ac6825f7315"
  },
  {
   "metadata": {
    "ExecuteTime": {
     "end_time": "2025-05-08T07:28:28.843921Z",
     "start_time": "2025-05-08T07:28:28.778687Z"
    }
   },
   "cell_type": "code",
   "source": [
    "dane_notowania = read_csv('dane\\\\notowania.csv')\n",
    "dane_notowania['Date'] = to_datetime(dane_notowania['Date'], format='%m/%d/%Y')\n",
    "dane_notowania = dane_notowania.sort_values('Date')\n",
    "dane_notowania.set_index('Date', inplace=True)\n",
    "# Ustalenie startowej daty: 13.04.2015\n",
    "start_date = to_datetime('2015-04-13')\n",
    "dane_notowania = dane_notowania[dane_notowania.index >= start_date]\n",
    "dane_notowania = dane_notowania.resample('7D').first()\n",
    "daty_notowania = dane_notowania.index.tolist()\n",
    "dane_notowania = dane_notowania[\"Close/Last\"].tolist()\n",
    "dane_notowania = [float(x.replace('$', '')) for x in dane_notowania]\n",
    "# aby uniknąć problemu związanemu z brakiem danych w weekendy i dni niehandlowe, bierzemy notowanie z każdego poniedziałku (jeśli nie ma z danego poniedziałku, to z wtorku etc.)"
   ],
   "id": "7b112dc68a54b6ae",
   "outputs": [],
   "execution_count": 6
  },
  {
   "metadata": {},
   "cell_type": "markdown",
   "source": [
    "### Kursy walut (07.2020-04.2025)\n",
    "\n",
    "1) Bierzemy pod uwagę kurs sprzedaży obcej waluty (np. euro na pln) - zakładamy, że faktura wystawiona jest w obcej walucie\n",
    "2) Złym scenariuszem dla nas będzie, jeśli wartość portfela spada\n",
    "4) Bierzemy pod uwagę eksport PepsiCo Polska do Niemiec, Czech, Węgier i Słowacji (50% euro, 25% korona czeska, 25% forint węgierski)\n",
    "5) Ponownie bierzemy kurs z każdego poniedziałku\n",
    "\n",
    "https://www.bankier.pl/narzedzia/archiwum-kursow-walutowych"
   ],
   "id": "c2918abc16790bb4"
  },
  {
   "metadata": {},
   "cell_type": "markdown",
   "source": "### Euro",
   "id": "fa78f4dc396b60e0"
  },
  {
   "metadata": {
    "ExecuteTime": {
     "end_time": "2025-05-08T07:28:31.466840Z",
     "start_time": "2025-05-08T07:28:31.405085Z"
    }
   },
   "cell_type": "code",
   "source": [
    "dane = read_csv('dane\\\\euro.csv', sep=';', encoding='windows-1250', skiprows=1)\n",
    "# Usuń wiersze, które nie mają poprawnej daty\n",
    "dane = dane[to_datetime(dane['Data'], errors='coerce').notna()]\n",
    "dane['Data'] = to_datetime(dane['Data'], format='%Y-%m-%d')\n",
    "dane = dane.sort_values('Data')\n",
    "dane.set_index('Data', inplace=True)\n",
    "start_date = to_datetime('2020-07-13')\n",
    "dane = dane[dane.index >= start_date]\n",
    "dane = dane.resample('7D').first()\n",
    "daty_waluty = dane.index.tolist()\n",
    "dane_euro = dane[\"Kurs\"].tolist()"
   ],
   "id": "d370dcb16d2b39e",
   "outputs": [],
   "execution_count": 7
  },
  {
   "metadata": {},
   "cell_type": "markdown",
   "source": "### CZK",
   "id": "28945ec036764422"
  },
  {
   "metadata": {
    "ExecuteTime": {
     "end_time": "2025-05-08T07:28:35.373555Z",
     "start_time": "2025-05-08T07:28:35.335536Z"
    }
   },
   "cell_type": "code",
   "source": [
    "dane = read_csv('dane\\\\czk.csv', sep=';', encoding='windows-1250', skiprows=1)\n",
    "# Usuń wiersze, które nie mają poprawnej daty\n",
    "dane = dane[to_datetime(dane['Data'], errors='coerce').notna()]\n",
    "dane['Data'] = to_datetime(dane['Data'], format='%Y-%m-%d')\n",
    "dane = dane.sort_values('Data')\n",
    "dane.set_index('Data', inplace=True)\n",
    "start_date = to_datetime('2020-07-13')\n",
    "dane = dane[dane.index >= start_date]\n",
    "dane = dane.resample('7D').first()\n",
    "dane_czk = dane[\"Kurs\"].tolist()"
   ],
   "id": "aae72736cbdf5a13",
   "outputs": [],
   "execution_count": 8
  },
  {
   "metadata": {},
   "cell_type": "markdown",
   "source": "### HUF",
   "id": "5baf3c5ad60286ad"
  },
  {
   "metadata": {
    "ExecuteTime": {
     "end_time": "2025-05-08T07:28:37.934733Z",
     "start_time": "2025-05-08T07:28:37.890143Z"
    }
   },
   "cell_type": "code",
   "source": [
    "dane = read_csv('dane\\\\huf.csv', sep=';', encoding='windows-1250', skiprows=1)\n",
    "# Usuń wiersze, które nie mają poprawnej daty\n",
    "dane = dane[to_datetime(dane['Data'], errors='coerce').notna()]\n",
    "dane['Data'] = to_datetime(dane['Data'], format='%Y-%m-%d')\n",
    "dane = dane.sort_values('Data')\n",
    "dane.set_index('Data', inplace=True)\n",
    "start_date = to_datetime('2020-07-13')\n",
    "dane = dane[dane.index >= start_date]\n",
    "dane = dane.resample('7D').first()\n",
    "dane_huf = dane[\"Kurs\"].tolist()"
   ],
   "id": "d55b82fb2bebeefd",
   "outputs": [],
   "execution_count": 9
  },
  {
   "metadata": {},
   "cell_type": "markdown",
   "source": "### Portfel",
   "id": "c7e944c18b6edb7c"
  },
  {
   "metadata": {
    "ExecuteTime": {
     "end_time": "2025-05-08T07:28:39.191806Z",
     "start_time": "2025-05-08T07:28:39.185038Z"
    }
   },
   "cell_type": "code",
   "source": [
    "wagi = np.array([0.5, 0.25, 0.25])\n",
    "dane = np.array([dane_euro, dane_czk, dane_huf])\n",
    "n = len(dane)\n",
    "dane_waluty = sum([wagi[i]*dane[i] for i in range(n)])\n",
    "dane_waluty = dane_waluty.tolist()"
   ],
   "id": "720d038bb8d4f5d4",
   "outputs": [],
   "execution_count": 10
  },
  {
   "metadata": {},
   "cell_type": "markdown",
   "source": [
    "### Zysk netto Pepsico Inc. (12.2009-12.2024)\n",
    "\n",
    "https://www.macrotrends.net/stocks/charts/PEP/pepsico/gross-profit\n",
    "\n",
    "Dane w milionach dolarów"
   ],
   "id": "3efa14b1c23a4b00"
  },
  {
   "metadata": {
    "ExecuteTime": {
     "end_time": "2025-05-08T07:28:44.316058Z",
     "start_time": "2025-05-08T07:28:43.020773Z"
    }
   },
   "cell_type": "code",
   "source": [
    "dane = read_excel(\"dane/zysk_netto.xlsx\", header=None, names=[\"Data\", \"Cena\"])\n",
    "dane[\"Data\"] = to_datetime(dane[\"Data\"], format=\"%d.%m.%Y\")\n",
    "# Usuń symbol dolara i przecinki, zamień na float\n",
    "dane[\"Cena\"] = dane[\"Cena\"].replace(r'[\\$,]', '', regex=True).astype(float)\n",
    "df_sorted = dane.sort_values(\"Data\")\n",
    "daty_zysk = df_sorted[\"Data\"].tolist()\n",
    "dane_zysk = df_sorted[\"Cena\"].tolist()"
   ],
   "id": "2df40ecc5ea7aada",
   "outputs": [],
   "execution_count": 11
  },
  {
   "metadata": {
    "ExecuteTime": {
     "end_time": "2025-05-08T07:28:44.994146Z",
     "start_time": "2025-05-08T07:28:44.986374Z"
    }
   },
   "cell_type": "code",
   "source": [
    "print(\"1) Dane firmy matki:\")\n",
    "print(\"1.1) Notowania giełdowe: \")\n",
    "print(dane_notowania)\n",
    "print(\"1.2) Zysk brutto: \")\n",
    "print(dane_zysk)\n",
    "print(\"2) Dane walutowe: \")\n",
    "print(dane_waluty)\n",
    "print(\"3) Dane produktów: \")\n",
    "print(\"3.1) Ceny ziemniaka: \")\n",
    "print(dane_ziemniak)\n",
    "print(\"3.2) Cena cukru: \")\n",
    "print(dane_cukier)\n",
    "print(\"4) Dane otyłość: \")\n",
    "print(dane_otylosc)"
   ],
   "id": "b3a43ac6496a90cf",
   "outputs": [
    {
     "name": "stdout",
     "output_type": "stream",
     "text": [
      "1) Dane firmy matki:\n",
      "1.1) Notowania giełdowe: \n",
      "[95.95, 96.35, 98.05, 95.79, 95.97, 92.84, 92.64, 95.6, 93.69, 94.4, 97.22, 97.31, 95.66, 97.45, 99.09, 99.86, 91.83, 92.93, 92.37, 91.2, 93.71, 92.47, 95.81, 99.14, 100.18, 102.54, 101.4, 98.88, 99.56, 100.85, 100.16, 100.67, 97.95, 98.62, 100.68, 98.77, 97.44, 95.77, 95.94, 99.03, 97.52, 98.6, 99.87, 97.82, 99.25, 100.65, 101.54, 100.98, 103.82, 104.3, 103.72, 102.8, 103.43, 105.28, 104.13, 100.42, 101.17, 102.7, 103.06, 103.37, 102.13, 106.42, 108.91, 109.21, 109.02, 108.93, 108.14, 108.72, 107.96, 107.99, 107.92, 106.02, 105.67, 107.03, 108.25, 106.22, 106.85, 107.31, 107.2, 106.96, 101.39, 102.26, 102.79, 100.71, 104.72, 105.41, 105.13, 104.65, 103.46, 102.19, 104.01, 103.69, 104.57, 106.52, 109.36, 109.27, 109.63, 109.41, 111.15, 111.83, 111.86, 112.02, 113.32, 114.32, 112.28, 113.22, 113.94, 114.7, 118.01, 117.88, 116.23, 117.29, 117.12, 115.44, 114.27, 114.93, 116.13, 116.61, 116.96, 117.84, 118.26, 115.54, 115.87, 115.69, 114.99, 111.94, 109.12, 110.01, 113.57, 111.69, 109.65, 109.26, 114.04, 114.91, 115.85, 117.46, 117.39, 118.05, 118.89, 118.06, 117.99, 117.86, 121.51, 119.67, 114.46, 111.93, 109.48, 110.94, 109.43, 112.75, 110.36, 106.81, 107.05, 109.38, 109.92, 102.58, 100.94, 98.23, 97.15, 99.51, 101.1, 100.12, 103.21, 105.38, 108.99, 109.53, 107.76, 112.96, 114.39, 114.18, 117.38, 113.02, 114.84, 112.41, 111.0, 113.57, 115.4, 112.27, 110.71, 108.19, 105.63, 109.4, 112.89, 114.39, 116.97, 119.01, 115.86, 118.98, 116.19, 112.87, 106.03, 110.48, 109.53, 107.32, 109.91, 108.82, 113.09, 112.97, 115.93, 116.06, 116.17, 116.59, 117.27, 120.85, 122.0, 122.0, 123.66, 126.44, 126.69, 127.27, 127.16, 129.99, 127.63, 128.98, 133.59, 132.52, 134.14, 131.87, 132.56, 134.15, 130.28, 131.53, 124.4, 128.35, 132.57, 133.74, 137.46, 136.4, 134.88, 135.44, 137.1, 138.34, 137.45, 136.12, 136.57, 135.16, 132.39, 134.06, 133.83, 135.88, 137.16, 137.06, 137.04, 136.81, 136.15, 136.53, 141.86, 142.14, 142.51, 145.66, 145.6, 142.64, 137.58, 130.16, 113.09, 105.18, 125.48, 131.16, 130.89, 134.55, 134.46, 130.92, 134.38, 135.52, 129.75, 132.99, 132.21, 130.48, 131.05, 131.08, 133.3, 134.91, 133.11, 137.67, 136.7, 135.98, 137.92, 137.64, 140.06, 135.55, 136.67, 131.24, 137.97, 137.93, 142.13, 139.68, 138.06, 135.15, 138.45, 145.76, 143.02, 144.23, 145.37, 144.23, 145.4, 146.91, 144.27, 142.09, 142.06, 140.18, 136.98, 140.4, 134.38, 131.99, 130.62, 132.13, 133.03, 137.8, 144.81, 143.16, 143.02, 144.75, 143.36, 145.79, 146.72, 146.17, 147.85, 147.63, 147.75, 148.57, 146.56, 147.04, 149.13, 149.51, 155.8, 157.07, 156.32, 154.35, 158.05, 157.85, 156.0, 154.53, 155.76, 153.61, 152.72, 150.2, 156.24, 158.09, 159.22, 161.26, 162.43, 163.8, 164.15, 164.14, 166.42, 169.81, 169.42, 171.47, 172.98, 174.17, 173.96, 173.33, 173.52, 171.81, 166.7, 168.35, 163.74, 162.45, 155.89, 162.56, 165.73, 169.32, 172.6, 170.42, 173.74, 167.76, 171.7, 175.47, 165.6, 167.75, 165.54, 159.74, 160.71, 166.35, 169.01, 170.47, 168.26, 169.85, 176.95, 173.85, 179.28, 178.45, 174.49, 169.51, 173.9, 168.73, 168.45, 165.25, 161.82, 172.73, 177.68, 181.58, 180.21, 176.73, 184.82, 183.89, 183.12, 183.97, 181.34, 183.07, 179.41, 179.33, 176.06, 169.12, 169.48, 171.82, 177.77, 176.18, 175.91, 173.5, 173.71, 177.59, 179.49, 182.5, 183.2, 184.45, 185.5, 191.68, 193.35, 194.27, 186.64, 181.61, 184.19, 181.9, 185.31, 184.89, 185.6, 184.3, 185.63, 190.92, 187.46, 186.89, 183.62, 177.05, 180.25, 174.16, 178.93, 179.38, 174.33, 169.17, 161.36, 161.08, 160.08, 162.28, 166.7, 167.77, 166.52, 168.32, 169.14, 167.82, 168.91, 168.86, 172.91, 169.11, 166.17, 165.11, 168.15, 170.92, 170.61, 168.65, 168.26, 165.37, 164.73, 171.26, 172.6, 172.98, 169.58, 166.95, 176.46, 176.14, 175.82, 180.9, 180.31, 173.38, 171.23, 165.9, 166.14, 168.08, 162.89, 162.12, 163.86, 167.66, 173.21, 174.04, 171.42, 173.82, 175.97, 177.54, 178.19, 177.21, 172.11, 170.05, 167.21, 176.1, 175.01, 169.84, 166.34, 164.26, 158.33, 163.05, 163.05, 159.47, 156.02, 151.29, 151.72, 146.27, 144.5, 148.55, 154.61, 150.27, 144.35, 144.1, 153.85, 155.99, 156.25, 151.34, 146.45, 149.94, 143.19, 146.75, 141.73, 133.76]\n",
      "1.2) Zysk brutto: \n",
      "[4519.0, 5711.0, 5899.0, 7004.0, 4905.0, 8056.0, 8506.0, 9796.0, 6490.0, 8864.0, 9130.0, 10427.0, 6539.0, 8543.0, 8819.0, 10300.0, 6747.0, 8909.0, 8963.0, 10553.0, 6876.0, 9116.0, 9223.0, 10230.0, 6714.0, 8672.0, 8841.0, 10098.0, 6711.0, 8565.0, 8743.0, 10558.0, 6759.0, 8651.0, 8872.0, 10447.0, 6907.0, 8827.0, 8958.0, 10588.0, 7196.0, 9045.0, 9494.0, 11294.0, 7754.0, 8857.0, 9935.0, 12029.0, 8149.0, 10337.0, 10795.0, 13118.0, 8767.0, 10810.0, 11663.0, 14576.0, 9858.0, 12201.0, 12778.0, 14753.0, 10002.0, 12582.0, 12923.0, 14603.0, 9993.0]\n",
      "2) Dane walutowe: \n",
      "[2.595275, 2.59325, 2.561425, 2.57065, 2.5617, 2.5519, 2.5584499999999997, 2.5508499999999996, 2.580025, 2.577175, 2.590275, 2.6293249999999997, 2.602375, 2.5951999999999997, 2.6281250000000003, 2.644125, 2.65855, 2.599075, 2.59255, 2.586325, 2.5925, 2.5901, 2.5778499999999998, 2.6129999999999995, 2.5953999999999997, 2.63285, 2.623675, 2.632275, 2.6331749999999996, 2.6167000000000002, 2.600025, 2.597475, 2.6043749999999997, 2.6165000000000003, 2.650675, 2.647525, 2.6651000000000002, 2.693425, 2.66455, 2.627275, 2.6321749999999997, 2.6355, 2.63685, 2.6445, 2.6306, 2.6105000000000005, 2.6058250000000003, 2.5953749999999998, 2.6171249999999997, 2.6368, 2.6199, 2.61895, 2.642675, 2.657075, 2.6546250000000002, 2.64495, 2.6528, 2.651825, 2.6663250000000005, 2.6572499999999994, 2.6259499999999996, 2.6384999999999996, 2.670225, 2.661675, 2.6517500000000003, 2.6702250000000003, 2.6474, 2.6614, 2.6717, 2.66225, 2.67985, 2.725925, 2.7134, 2.6548249999999998, 2.67095, 2.680825, 2.6695, 2.65265, 2.6323499999999997, 2.623825, 2.630525, 2.6671250000000004, 2.6469750000000003, 2.65405, 2.62345, 2.709625, 2.84265, 2.7357750000000003, 2.707375, 2.7137249999999997, 2.6807, 2.675775, 2.676025, 2.6787500000000004, 2.697275, 2.706575, 2.68715, 2.6572750000000003, 2.631675, 2.6353, 2.6536000000000004, 2.675675, 2.68685, 2.6912999999999996, 2.7409000000000003, 2.7336250000000004, 2.7055499999999997, 2.7162249999999997, 2.6979249999999997, 2.684575, 2.71545, 2.7140250000000004, 2.70375, 2.7016, 2.6991750000000003, 2.7190999999999996, 2.7483000000000004, 2.7687500000000003, 2.74815, 2.7320499999999996, 2.688925, 2.682575, 2.675975, 2.6864749999999997, 2.676625, 2.6795, 2.6746250000000003, 2.682925, 2.66585, 2.6795, 2.692825, 2.693625, 2.7076000000000002, 2.7082750000000004, 2.7122, 2.7536500000000004, 2.73705, 2.71875, 2.71465, 2.6963000000000004, 2.69975, 2.6956749999999996, 2.6978000000000004, 2.7014, 2.677175, 2.66165, 2.651975, 2.63845, 2.607675, 2.61265, 2.6173, 2.593575, 2.5662750000000005, 2.5669250000000003, 2.561475, 2.5593500000000002, 2.5644750000000003, 2.5707500000000003, 2.5656999999999996, 2.539275, 2.5432, 2.553975, 2.5774, 2.574, 2.5708, 2.65805, 2.667975, 2.635725, 2.6492, 2.6313500000000003, 2.57505, 2.5646999999999998, 2.560475, 2.570325, 2.555975, 2.5166000000000004, 2.5082999999999998, 2.496725, 2.497175, 2.489025, 2.493075, 2.499825, 2.50995, 2.5196249999999996, 2.5067500000000003, 2.50715, 2.488575, 2.486025, 2.490775, 2.475225, 2.476725, 2.460875, 2.4701750000000002, 2.468525, 2.460725, 2.45685, 2.4574249999999997, 2.47645, 2.477875, 2.4857, 2.469575, 2.4473000000000003, 2.4459, 2.45845, 2.478475, 2.4998750000000003, 2.4762999999999997, 2.465175, 2.45315, 2.4383500000000002, 2.456575, 2.4583, 2.46635, 2.4726249999999994, 2.4483000000000006, 2.4537750000000003, 2.455875, 2.4547999999999996, 2.451475, 2.453075, 2.4511499999999997, 2.4707500000000002, 2.456575, 2.470475, 2.48555, 2.4814249999999998, 2.4872, 2.4732000000000003, 2.471625, 2.447775, 2.430325, 2.434475, 2.4304000000000006, 2.4390499999999995, 2.4236500000000003, 2.436025, 2.42915, 2.4088000000000003, 2.41555, 2.393675, 2.381875, 2.38025, 2.393175, 2.396975, 2.392175, 2.395975, 2.3941250000000003]\n",
      "3) Dane produktów: \n",
      "3.1) Ceny ziemniaka: \n",
      "[1.37, 1.5, 1.66, 1.81, 1.95, 2.15, 1.7, 1.44, 1.45, 1.43, 1.52, 1.67, 1.82, 2.14, 2.27, 2.46, 2.47, 2.07, 1.33, 0.85, 0.83, 0.77, 0.8, 0.78, 0.78, 0.76, 0.89, 0.83, 0.97, 1.2, 0.89, 0.7, 0.72, 0.7, 0.81, 0.97, 1.07, 1.21, 1.27, 1.35, 1.83, 2.0, 1.54, 1.33, 1.34, 1.41, 1.39, 1.47, 1.55, 1.72, 1.71, 1.68, 1.86, 1.74, 0.9, 0.93, 0.76, 0.88, 0.91, 0.75, 0.87, 0.89, 0.82, 0.89, 1.28, 1.41, 1.05, 1.03, 1.08, 1.16, 1.15, 1.28, 1.37, 1.47, 1.55, 1.82, 2.24, 2.09, 1.34, 1.17, 1.0, 1.11, 1.39, 1.2, 1.34, 1.13, 1.28, 1.67, 2.09, 2.21, 1.34, 1.38, 1.32, 1.45, 1.24, 1.36, 1.54, 1.55, 1.49, 1.61, 2.2, 1.41, 1.69, 1.38, 1.67, 1.53, 1.97, 1.83, 2.07, 2.15, 2.48, 2.82, 3.82, 3.74, 3.28, 2.76, 3.03, 2.58, 2.9, 2.36, 3.03, 3.03, 3.23, 2.92, 2.6, 2.27, 2.29, 1.4, 1.43, 1.52, 1.39, 1.41, 1.56, 1.66, 1.91, 2.41, 1.65, 3.06, 2.12, 1.77, 2.11, 2.15, 2.04, 2.26, 2.41, 2.19, 2.17, 2.0, 2.32, 2.39, 2.38, 2.21, 1.84, 2.14, 2.72, 2.17, 2.14, 2.1, 2.31, 2.21, 2.51, 3.36, 3.67, 2.64, 2.91, 2.55, 2.56, 2.48, 2.78, 2.43, 3.09, 3.46, 3.26, 3.5, 3.29, 2.83, 2.86, 2.45, 2.76, 2.68]\n",
      "3.2) Cena cukru: \n",
      "[2.55, 2.52, 2.45, 2.45, 2.41, 2.38, 2.33, 2.69, 2.89, 2.86, 2.77, 2.86, 3.01, 3.43, 4.71, 4.72, 4.33, 3.93, 3.93, 3.61, 3.68, 3.61, 3.72, 3.61, 3.78, 3.79, 3.79, 3.84, 3.8, 3.84, 3.8, 3.77, 3.78, 3.73, 3.78, 3.76, 3.67, 3.53, 3.67, 3.55, 3.55, 3.47, 3.33, 3.22, 3.14, 3.15, 3.01, 2.85, 2.83, 2.73, 2.58, 2.35, 2.18, 2.24, 2.04, 2.16, 1.93, 1.98, 1.89, 1.81, 1.85, 1.85, 1.98, 2.0, 1.98, 1.94, 2.2, 2.21, 2.3, 2.28, 2.33, 2.34, 2.32, 2.55, 2.6, 2.61, 2.67, 2.65, 2.91, 2.82, 3.07, 2.96, 3.11, 2.98, 3.16, 2.95, 2.93, 3.14, 2.97, 3.12, 2.97, 3.06, 2.84, 2.71, 2.87, 2.46, 2.02, 2.48, 1.96, 2.41, 1.96, 1.91, 2.14, 2.0, 2.03, 2.21, 2.06, 1.87, 2.36, 2.36, 2.57, 2.34, 2.65, 2.37, 2.62, 2.47, 2.68, 2.42, 2.73, 2.42, 2.7, 2.5, 2.54, 2.63, 2.72, 2.66, 2.47, 2.65, 2.38, 2.38, 2.59, 2.57, 2.75, 2.42, 2.53, 2.81, 2.61, 2.51, 3.01, 2.44, 2.53, 3.11, 3.03, 3.33, 3.06, 3.06, 3.33, 3.34, 3.93, 3.33, 4.25, 5.49, 6.76, 5.65, 6.64, 6.0, 6.68, 6.02, 6.63, 6.02, 6.59, 5.9, 6.54, 5.81, 6.14, 5.6, 6.03, 5.7, 6.12, 4.76, 4.9, 5.09, 4.55, 5.31, 4.4, 4.86, 3.65, 4.53, 3.51, 3.3]\n",
      "4) Dane otyłość: \n",
      "[13.941874, 14.110756, 14.292116, 14.487833, 14.704412, 14.945045, 15.21325, 15.515286, 15.852134, 16.223936, 16.628349, 17.059608, 17.504528, 17.961979, 18.428074, 18.897688, 19.371687, 19.849785, 20.328422, 20.803718, 21.273522, 21.739896, 22.209713, 22.685766, 23.173168, 23.678488, 24.198614, 24.725793, 25.256565, 25.795126, 26.348734, 26.92011, 27.499697]\n"
     ]
    }
   ],
   "execution_count": 12
  },
  {
   "metadata": {},
   "cell_type": "markdown",
   "source": [
    "## VaR dla notowań\n",
    "\n",
    "### Metoda parametryczna"
   ],
   "id": "55750fed0bc81514"
  },
  {
   "metadata": {
    "ExecuteTime": {
     "end_time": "2025-05-08T07:29:07.952055Z",
     "start_time": "2025-05-08T07:29:07.860687Z"
    }
   },
   "cell_type": "code",
   "source": [
    "# Obliczanie tygodniowych zmian procentowych\n",
    "zmiany_procentowe = Series(dane_notowania).pct_change().dropna() * 100\n",
    "daty_zmian = daty_notowania[1:]  # pierwszy tydzień nie ma zmiany\n",
    "\n",
    "# Unormowane dane lub oryginalne zmiany procentowe:\n",
    "data = np.array(zmiany_procentowe)\n",
    "\n",
    "# Dopasuj rozkład t: zwraca df, loc, scale\n",
    "df_fit, loc_fit, scale_fit = t.fit(data)\n",
    "\n",
    "print(\"VaR rzędu 95% dla notowań:\", -t.ppf(0.05, df_fit, loc=loc_fit, scale=scale_fit))\n",
    "print(\"VaR rzędu 99% dla notowań:\", -t.ppf(0.01, df_fit, loc=loc_fit, scale=scale_fit))"
   ],
   "id": "47d1f2ab8e9ce799",
   "outputs": [
    {
     "name": "stdout",
     "output_type": "stream",
     "text": [
      "VaR rzędu 95% dla notowań: 3.507347877298922\n",
      "VaR rzędu 99% dla notowań: 5.875055254739729\n"
     ]
    }
   ],
   "execution_count": 13
  },
  {
   "metadata": {},
   "cell_type": "markdown",
   "source": "### Metoda historyczna (zwykła)",
   "id": "ef67048a8c6a2e35"
  },
  {
   "metadata": {
    "ExecuteTime": {
     "end_time": "2025-05-08T07:29:09.968193Z",
     "start_time": "2025-05-08T07:29:09.962721Z"
    }
   },
   "cell_type": "code",
   "source": [
    "print(\"Kwantyl empiryczny dla danych:\", -np.quantile(data, 0.05))\n",
    "print(\"Kwantyl empiryczny dla danych:\", -np.quantile(data, 0.01))"
   ],
   "id": "2ece1bdf14fa9575",
   "outputs": [
    {
     "name": "stdout",
     "output_type": "stream",
     "text": [
      "Kwantyl empiryczny dla danych: 3.5473920358945366\n",
      "Kwantyl empiryczny dla danych: 5.6245881905998685\n"
     ]
    }
   ],
   "execution_count": 14
  },
  {
   "metadata": {
    "ExecuteTime": {
     "end_time": "2025-05-08T07:41:02.290422Z",
     "start_time": "2025-05-08T07:41:02.283145Z"
    }
   },
   "cell_type": "code",
   "source": [
    "def weighted_historical_VaR(data, alpha, lambd=0.96):\n",
    "    n = len(data)\n",
    "    w_1 = (1 - lambd) / (1 - np.power(lambd, n))\n",
    "    weights = np.power(lambd, n - np.arange(1, n + 1)) * w_1\n",
    "    return -np.quantile(data, alpha, weights=weights, method=\"inverted_cdf\")\n",
    "\n",
    "print(weighted_historical_VaR(data, 0.05))\n",
    "print(weighted_historical_VaR(data, 0.01))"
   ],
   "id": "7c99916946c29df8",
   "outputs": [
    {
     "name": "stdout",
     "output_type": "stream",
     "text": [
      "4.501800720288118\n",
      "5.623368376490512\n"
     ]
    }
   ],
   "execution_count": 26
  },
  {
   "metadata": {},
   "cell_type": "markdown",
   "source": "### VaR obliczony z użyciem filtrowania szeregiem GARCH",
   "id": "1baaeb13c54bf17b"
  },
  {
   "metadata": {
    "ExecuteTime": {
     "end_time": "2025-05-08T08:22:15.564684Z",
     "start_time": "2025-05-08T08:22:15.559268Z"
    }
   },
   "cell_type": "code",
   "source": [
    "import scipy.optimize as optimize\n",
    "\n",
    "\n",
    "def sigma_i_func(L: np.array, i: int, c: np.array, b:np.array, sigma: np.array):\n",
    "    return c[0] + np.sum(c[1:] * np.power(L[i-2::-1], 2)) + np.sum(b * np.power(sigma[i-2::-1], 2))\n",
    "\n",
    "\n",
    "def max_likelihood_t_student(x, df, loc, scale):\n",
    "    return np.sum(np.log(t.ppf(x, df=df, loc=loc, scale=scale)))\n"
   ],
   "id": "e4d0c8bab4d4cbb2",
   "outputs": [],
   "execution_count": 32
  },
  {
   "metadata": {
    "ExecuteTime": {
     "end_time": "2025-05-08T08:22:18.600676Z",
     "start_time": "2025-05-08T08:22:18.215839Z"
    }
   },
   "cell_type": "code",
   "source": [
    "def max_likelihood_normal(L, c, b, mu, sigma0):\n",
    "    return np.sum(np.log(norm.ppf(L, loc=mu, scale=sigma_func(L=L, c=c, b=b, sigma=sigma0))))\n",
    "\n",
    "\n",
    "def sigma_func(L: np.array, c: np.array, b:np.array, sigma: np.array):\n",
    "    sigma_lst = []\n",
    "    for i in range(len(L)):\n",
    "        sigma_lst.append(c[0] + np.sum(c[1:] * np.power(L[i-2::-1], 2)) + np.sum(b * np.power(sigma[i-2::-1], 2)))\n",
    "    return sigma_lst\n",
    "\n",
    "\n",
    "def estimate_parameters(data):\n",
    "    return optimize.fmin(lambda c, b, sigma0, mu: max_likelihood_normal(L=data, c=c, b=b, mu=mu, sigma0=sigma0), 0)\n",
    "\n",
    "print(estimate_parameters(data))"
   ],
   "id": "2d663a67b311b211",
   "outputs": [
    {
     "ename": "TypeError",
     "evalue": "estimate_parameters.<locals>.<lambda>() missing 3 required positional arguments: 'b', 'sigma0', and 'mu'",
     "output_type": "error",
     "traceback": [
      "\u001B[1;31m---------------------------------------------------------------------------\u001B[0m",
      "\u001B[1;31mTypeError\u001B[0m                                 Traceback (most recent call last)",
      "Cell \u001B[1;32mIn[33], line 15\u001B[0m\n\u001B[0;32m     12\u001B[0m \u001B[38;5;28;01mdef\u001B[39;00m \u001B[38;5;21mestimate_parameters\u001B[39m(data):\n\u001B[0;32m     13\u001B[0m     \u001B[38;5;28;01mreturn\u001B[39;00m optimize\u001B[38;5;241m.\u001B[39mfmin(\u001B[38;5;28;01mlambda\u001B[39;00m c, b, sigma0, mu: max_likelihood_normal(L\u001B[38;5;241m=\u001B[39mdata, c\u001B[38;5;241m=\u001B[39mc, b\u001B[38;5;241m=\u001B[39mb, mu\u001B[38;5;241m=\u001B[39mmu, sigma0\u001B[38;5;241m=\u001B[39msigma0), \u001B[38;5;241m0\u001B[39m)\n\u001B[1;32m---> 15\u001B[0m \u001B[38;5;28mprint\u001B[39m(\u001B[43mestimate_parameters\u001B[49m\u001B[43m(\u001B[49m\u001B[43mdata\u001B[49m\u001B[43m)\u001B[49m)\n",
      "Cell \u001B[1;32mIn[33], line 13\u001B[0m, in \u001B[0;36mestimate_parameters\u001B[1;34m(data)\u001B[0m\n\u001B[0;32m     12\u001B[0m \u001B[38;5;28;01mdef\u001B[39;00m \u001B[38;5;21mestimate_parameters\u001B[39m(data):\n\u001B[1;32m---> 13\u001B[0m     \u001B[38;5;28;01mreturn\u001B[39;00m \u001B[43moptimize\u001B[49m\u001B[38;5;241;43m.\u001B[39;49m\u001B[43mfmin\u001B[49m\u001B[43m(\u001B[49m\u001B[38;5;28;43;01mlambda\u001B[39;49;00m\u001B[43m \u001B[49m\u001B[43mc\u001B[49m\u001B[43m,\u001B[49m\u001B[43m \u001B[49m\u001B[43mb\u001B[49m\u001B[43m,\u001B[49m\u001B[43m \u001B[49m\u001B[43msigma0\u001B[49m\u001B[43m,\u001B[49m\u001B[43m \u001B[49m\u001B[43mmu\u001B[49m\u001B[43m:\u001B[49m\u001B[43m \u001B[49m\u001B[43mmax_likelihood_normal\u001B[49m\u001B[43m(\u001B[49m\u001B[43mL\u001B[49m\u001B[38;5;241;43m=\u001B[39;49m\u001B[43mdata\u001B[49m\u001B[43m,\u001B[49m\u001B[43m \u001B[49m\u001B[43mc\u001B[49m\u001B[38;5;241;43m=\u001B[39;49m\u001B[43mc\u001B[49m\u001B[43m,\u001B[49m\u001B[43m \u001B[49m\u001B[43mb\u001B[49m\u001B[38;5;241;43m=\u001B[39;49m\u001B[43mb\u001B[49m\u001B[43m,\u001B[49m\u001B[43m \u001B[49m\u001B[43mmu\u001B[49m\u001B[38;5;241;43m=\u001B[39;49m\u001B[43mmu\u001B[49m\u001B[43m,\u001B[49m\u001B[43m \u001B[49m\u001B[43msigma0\u001B[49m\u001B[38;5;241;43m=\u001B[39;49m\u001B[43msigma0\u001B[49m\u001B[43m)\u001B[49m\u001B[43m,\u001B[49m\u001B[43m \u001B[49m\u001B[38;5;241;43m0\u001B[39;49m\u001B[43m)\u001B[49m\n",
      "File \u001B[1;32m~\\PycharmProjects\\pythonProject\\.venv\\Lib\\site-packages\\scipy\\optimize\\_optimize.py:653\u001B[0m, in \u001B[0;36mfmin\u001B[1;34m(func, x0, args, xtol, ftol, maxiter, maxfun, full_output, disp, retall, callback, initial_simplex)\u001B[0m\n\u001B[0;32m    644\u001B[0m opts \u001B[38;5;241m=\u001B[39m {\u001B[38;5;124m'\u001B[39m\u001B[38;5;124mxatol\u001B[39m\u001B[38;5;124m'\u001B[39m: xtol,\n\u001B[0;32m    645\u001B[0m         \u001B[38;5;124m'\u001B[39m\u001B[38;5;124mfatol\u001B[39m\u001B[38;5;124m'\u001B[39m: ftol,\n\u001B[0;32m    646\u001B[0m         \u001B[38;5;124m'\u001B[39m\u001B[38;5;124mmaxiter\u001B[39m\u001B[38;5;124m'\u001B[39m: maxiter,\n\u001B[1;32m   (...)\u001B[0m\n\u001B[0;32m    649\u001B[0m         \u001B[38;5;124m'\u001B[39m\u001B[38;5;124mreturn_all\u001B[39m\u001B[38;5;124m'\u001B[39m: retall,\n\u001B[0;32m    650\u001B[0m         \u001B[38;5;124m'\u001B[39m\u001B[38;5;124minitial_simplex\u001B[39m\u001B[38;5;124m'\u001B[39m: initial_simplex}\n\u001B[0;32m    652\u001B[0m callback \u001B[38;5;241m=\u001B[39m _wrap_callback(callback)\n\u001B[1;32m--> 653\u001B[0m res \u001B[38;5;241m=\u001B[39m \u001B[43m_minimize_neldermead\u001B[49m\u001B[43m(\u001B[49m\u001B[43mfunc\u001B[49m\u001B[43m,\u001B[49m\u001B[43m \u001B[49m\u001B[43mx0\u001B[49m\u001B[43m,\u001B[49m\u001B[43m \u001B[49m\u001B[43margs\u001B[49m\u001B[43m,\u001B[49m\u001B[43m \u001B[49m\u001B[43mcallback\u001B[49m\u001B[38;5;241;43m=\u001B[39;49m\u001B[43mcallback\u001B[49m\u001B[43m,\u001B[49m\u001B[43m \u001B[49m\u001B[38;5;241;43m*\u001B[39;49m\u001B[38;5;241;43m*\u001B[39;49m\u001B[43mopts\u001B[49m\u001B[43m)\u001B[49m\n\u001B[0;32m    654\u001B[0m \u001B[38;5;28;01mif\u001B[39;00m full_output:\n\u001B[0;32m    655\u001B[0m     retlist \u001B[38;5;241m=\u001B[39m res[\u001B[38;5;124m'\u001B[39m\u001B[38;5;124mx\u001B[39m\u001B[38;5;124m'\u001B[39m], res[\u001B[38;5;124m'\u001B[39m\u001B[38;5;124mfun\u001B[39m\u001B[38;5;124m'\u001B[39m], res[\u001B[38;5;124m'\u001B[39m\u001B[38;5;124mnit\u001B[39m\u001B[38;5;124m'\u001B[39m], res[\u001B[38;5;124m'\u001B[39m\u001B[38;5;124mnfev\u001B[39m\u001B[38;5;124m'\u001B[39m], res[\u001B[38;5;124m'\u001B[39m\u001B[38;5;124mstatus\u001B[39m\u001B[38;5;124m'\u001B[39m]\n",
      "File \u001B[1;32m~\\PycharmProjects\\pythonProject\\.venv\\Lib\\site-packages\\scipy\\optimize\\_optimize.py:817\u001B[0m, in \u001B[0;36m_minimize_neldermead\u001B[1;34m(func, x0, args, callback, maxiter, maxfev, disp, return_all, initial_simplex, xatol, fatol, adaptive, bounds, **unknown_options)\u001B[0m\n\u001B[0;32m    815\u001B[0m \u001B[38;5;28;01mtry\u001B[39;00m:\n\u001B[0;32m    816\u001B[0m     \u001B[38;5;28;01mfor\u001B[39;00m k \u001B[38;5;129;01min\u001B[39;00m \u001B[38;5;28mrange\u001B[39m(N \u001B[38;5;241m+\u001B[39m \u001B[38;5;241m1\u001B[39m):\n\u001B[1;32m--> 817\u001B[0m         fsim[k] \u001B[38;5;241m=\u001B[39m \u001B[43mfunc\u001B[49m\u001B[43m(\u001B[49m\u001B[43msim\u001B[49m\u001B[43m[\u001B[49m\u001B[43mk\u001B[49m\u001B[43m]\u001B[49m\u001B[43m)\u001B[49m\n\u001B[0;32m    818\u001B[0m \u001B[38;5;28;01mexcept\u001B[39;00m _MaxFuncCallError:\n\u001B[0;32m    819\u001B[0m     \u001B[38;5;28;01mpass\u001B[39;00m\n",
      "File \u001B[1;32m~\\PycharmProjects\\pythonProject\\.venv\\Lib\\site-packages\\scipy\\optimize\\_optimize.py:526\u001B[0m, in \u001B[0;36m_wrap_scalar_function_maxfun_validation.<locals>.function_wrapper\u001B[1;34m(x, *wrapper_args)\u001B[0m\n\u001B[0;32m    524\u001B[0m ncalls[\u001B[38;5;241m0\u001B[39m] \u001B[38;5;241m+\u001B[39m\u001B[38;5;241m=\u001B[39m \u001B[38;5;241m1\u001B[39m\n\u001B[0;32m    525\u001B[0m \u001B[38;5;66;03m# A copy of x is sent to the user function (gh13740)\u001B[39;00m\n\u001B[1;32m--> 526\u001B[0m fx \u001B[38;5;241m=\u001B[39m \u001B[43mfunction\u001B[49m\u001B[43m(\u001B[49m\u001B[43mnp\u001B[49m\u001B[38;5;241;43m.\u001B[39;49m\u001B[43mcopy\u001B[49m\u001B[43m(\u001B[49m\u001B[43mx\u001B[49m\u001B[43m)\u001B[49m\u001B[43m,\u001B[49m\u001B[43m \u001B[49m\u001B[38;5;241;43m*\u001B[39;49m\u001B[43m(\u001B[49m\u001B[43mwrapper_args\u001B[49m\u001B[43m \u001B[49m\u001B[38;5;241;43m+\u001B[39;49m\u001B[43m \u001B[49m\u001B[43margs\u001B[49m\u001B[43m)\u001B[49m\u001B[43m)\u001B[49m\n\u001B[0;32m    527\u001B[0m \u001B[38;5;66;03m# Ideally, we'd like to a have a true scalar returned from f(x). For\u001B[39;00m\n\u001B[0;32m    528\u001B[0m \u001B[38;5;66;03m# backwards-compatibility, also allow np.array([1.3]),\u001B[39;00m\n\u001B[0;32m    529\u001B[0m \u001B[38;5;66;03m# np.array([[1.3]]) etc.\u001B[39;00m\n\u001B[0;32m    530\u001B[0m \u001B[38;5;28;01mif\u001B[39;00m \u001B[38;5;129;01mnot\u001B[39;00m np\u001B[38;5;241m.\u001B[39misscalar(fx):\n",
      "\u001B[1;31mTypeError\u001B[0m: estimate_parameters.<locals>.<lambda>() missing 3 required positional arguments: 'b', 'sigma0', and 'mu'"
     ]
    }
   ],
   "execution_count": 33
  },
  {
   "metadata": {},
   "cell_type": "markdown",
   "source": [
    "## VaR dla zysku brutto\n",
    "\n",
    "### Metoda parametryczna"
   ],
   "id": "e9d3a5587f677642"
  },
  {
   "metadata": {},
   "cell_type": "code",
   "outputs": [],
   "execution_count": null,
   "source": "# Do zrobienia - te dane są nie takie jakie miały być",
   "id": "c30704b9efd48fed"
  },
  {
   "metadata": {},
   "cell_type": "markdown",
   "source": "## VaR dla cen cukru",
   "id": "c1d1a3ecf77e11c0"
  },
  {
   "metadata": {
    "ExecuteTime": {
     "end_time": "2025-05-05T20:44:37.948807Z",
     "start_time": "2025-05-05T20:44:37.793094Z"
    }
   },
   "cell_type": "code",
   "source": [
    "# Obliczanie tygodniowych zmian procentowych\n",
    "zmiany_procentowe = Series(dane_cukier).pct_change().dropna() * 100\n",
    "daty_zmian = daty_cukier[1:]  # pierwszy tydzień nie ma zmiany\n",
    "\n",
    "# Unormowane dane lub oryginalne zmiany procentowe:\n",
    "data = np.array(zmiany_procentowe)\n",
    "\n",
    "# Dopasuj rozkład t: zwraca df, loc, scale\n",
    "df_fit, loc_fit, scale_fit = t.fit(data)\n",
    "# print(f\"Dopasowane parametry rozkładu t:\\n - df: {df_fit:.2f}\\n - loc: {loc_fit:.4f}\\n - scale: {scale_fit:.4f}\")\n",
    "\n",
    "print(\"VaR rzędu 95% dla cen cukru:\", -t.ppf(0.05, df_fit, loc=loc_fit, scale=scale_fit))\n",
    "print(\"VaR rzędu 99% dla cen cukru:\", -t.ppf(0.01, df_fit, loc=loc_fit, scale=scale_fit))"
   ],
   "id": "ff388b82e4ec6fc2",
   "outputs": [
    {
     "name": "stdout",
     "output_type": "stream",
     "text": [
      "VaR rzędu 95% dla cen cukru: 16.04156488298372\n",
      "VaR rzędu 99% dla cen cukru: 27.477891637324824\n"
     ]
    }
   ],
   "execution_count": 45
  },
  {
   "metadata": {},
   "cell_type": "markdown",
   "source": "### Metoda historyczna (zwykła)",
   "id": "55b52abf381a6405"
  },
  {
   "metadata": {
    "ExecuteTime": {
     "end_time": "2025-05-05T20:44:40.463703Z",
     "start_time": "2025-05-05T20:44:40.453842Z"
    }
   },
   "cell_type": "code",
   "source": [
    "print(\"Kwantyl empiryczny dla danych:\", -np.quantile(data, 0.05))\n",
    "print(\"Kwantyl empiryczny dla danych:\", -np.quantile(data, 0.01))"
   ],
   "id": "b0eea23ef4f4a52f",
   "outputs": [
    {
     "name": "stdout",
     "output_type": "stream",
     "text": [
      "Kwantyl empiryczny dla danych: 15.382469849586704\n",
      "Kwantyl empiryczny dla danych: 22.2869757174393\n"
     ]
    }
   ],
   "execution_count": 46
  },
  {
   "metadata": {},
   "cell_type": "markdown",
   "source": "### Metoda historyczna ważona",
   "id": "e593d889ba2a2e66"
  },
  {
   "metadata": {
    "ExecuteTime": {
     "end_time": "2025-05-05T20:45:36.958118Z",
     "start_time": "2025-05-05T20:45:36.947407Z"
    }
   },
   "cell_type": "code",
   "source": [
    "print(weighted_historical_VaR(data, 0.05))\n",
    "print(weighted_historical_VaR(data, 0.01))"
   ],
   "id": "f8e063943ee4a7b5",
   "outputs": [
    {
     "name": "stdout",
     "output_type": "stream",
     "text": [
      "22.51655629139073\n",
      "24.89711934156379\n"
     ]
    }
   ],
   "execution_count": 47
  },
  {
   "metadata": {},
   "cell_type": "markdown",
   "source": "## VaR dla cen ziemniaka",
   "id": "187047eb6dda1cc8"
  },
  {
   "metadata": {
    "ExecuteTime": {
     "end_time": "2025-05-05T20:49:13.678823Z",
     "start_time": "2025-05-05T20:49:13.527571Z"
    }
   },
   "cell_type": "code",
   "source": [
    "# Obliczanie tygodniowych zmian procentowych\n",
    "zmiany_procentowe = Series(dane_ziemniak).pct_change().dropna() * 100\n",
    "daty_zmian = daty_cukier[1:]  # pierwszy tydzień nie ma zmiany\n",
    "\n",
    "# Unormowane dane lub oryginalne zmiany procentowe:\n",
    "data = np.array(zmiany_procentowe)\n",
    "\n",
    "# Dopasuj rozkład t: zwraca df, loc, scale\n",
    "df_fit, loc_fit, scale_fit = t.fit(data)\n",
    "# print(f\"Dopasowane parametry rozkładu t:\\n - df: {df_fit:.2f}\\n - loc: {loc_fit:.4f}\\n - scale: {scale_fit:.4f}\")\n",
    "\n",
    "print(\"VaR rzędu 95% dla cen cukru:\", -t.ppf(0.05, df_fit, loc=loc_fit, scale=scale_fit))\n",
    "print(\"VaR rzędu 99% dla cen cukru:\", -t.ppf(0.01, df_fit, loc=loc_fit, scale=scale_fit))"
   ],
   "id": "6d5c16b81895540c",
   "outputs": [
    {
     "name": "stdout",
     "output_type": "stream",
     "text": [
      "VaR rzędu 95% dla cen cukru: 24.743751525666717\n",
      "VaR rzędu 99% dla cen cukru: 42.75390592413834\n"
     ]
    }
   ],
   "execution_count": 54
  },
  {
   "metadata": {
    "ExecuteTime": {
     "end_time": "2025-05-05T20:49:15.162167Z",
     "start_time": "2025-05-05T20:49:15.150675Z"
    }
   },
   "cell_type": "code",
   "source": [
    "print(\"Kwantyl empiryczny dla danych:\", -np.quantile(data, 0.05))\n",
    "print(\"Kwantyl empiryczny dla danych:\", -np.quantile(data, 0.01))"
   ],
   "id": "181b09534be36daa",
   "outputs": [
    {
     "name": "stdout",
     "output_type": "stream",
     "text": [
      "Kwantyl empiryczny dla danych: 28.330751010667658\n",
      "Kwantyl empiryczny dla danych: 38.975043964512246\n"
     ]
    }
   ],
   "execution_count": 55
  },
  {
   "metadata": {
    "ExecuteTime": {
     "end_time": "2025-05-05T20:49:29.910822Z",
     "start_time": "2025-05-05T20:49:29.898116Z"
    }
   },
   "cell_type": "code",
   "source": [
    "print(weighted_historical_VaR(data, 0.05))\n",
    "print(weighted_historical_VaR(data, 0.01))"
   ],
   "id": "aef450fd811a0947",
   "outputs": [
    {
     "name": "stdout",
     "output_type": "stream",
     "text": [
      "20.220588235294123\n",
      "31.535269709543577\n"
     ]
    }
   ],
   "execution_count": 56
  },
  {
   "metadata": {},
   "cell_type": "markdown",
   "source": "## VaR dla Euro",
   "id": "38c154107a8bb6fb"
  },
  {
   "metadata": {
    "ExecuteTime": {
     "end_time": "2025-05-05T20:52:36.346898Z",
     "start_time": "2025-05-05T20:52:36.205072Z"
    }
   },
   "cell_type": "code",
   "source": [
    "# Obliczanie tygodniowych zmian procentowych\n",
    "zmiany_procentowe = Series(dane_euro).pct_change().dropna() * 100\n",
    "zmiany_procentowe_euro = zmiany_procentowe\n",
    "daty_zmian = daty_waluty[1:]  # pierwszy tydzień nie ma zmiany\n",
    "\n",
    "# Unormowane dane lub oryginalne zmiany procentowe:\n",
    "data = np.array(zmiany_procentowe)\n",
    "\n",
    "# Dopasuj rozkład t: zwraca df, loc, scale\n",
    "df_fit, loc_fit, scale_fit = t.fit(data)\n",
    "# print(f\"Dopasowane parametry rozkładu t:\\n - df: {df_fit:.2f}\\n - loc: {loc_fit:.4f}\\n - scale: {scale_fit:.4f}\")\n",
    "\n",
    "print(\"VaR rzędu 95% dla cen cukru:\", -t.ppf(0.05, df_fit, loc=loc_fit, scale=scale_fit))\n",
    "print(\"VaR rzędu 99% dla cen cukru:\", -t.ppf(0.01, df_fit, loc=loc_fit, scale=scale_fit))"
   ],
   "id": "7421b2353ea34b0d",
   "outputs": [
    {
     "name": "stdout",
     "output_type": "stream",
     "text": [
      "VaR rzędu 95% dla cen cukru: 1.3790513891286642\n",
      "VaR rzędu 99% dla cen cukru: 2.4693065518165347\n"
     ]
    }
   ],
   "execution_count": 59
  },
  {
   "metadata": {
    "ExecuteTime": {
     "end_time": "2025-05-05T20:52:53.627812Z",
     "start_time": "2025-05-05T20:52:53.617442Z"
    }
   },
   "cell_type": "code",
   "source": [
    "print(\"Kwantyl empiryczny dla danych:\", -np.quantile(data, 0.05))\n",
    "print(\"Kwantyl empiryczny dla danych:\", -np.quantile(data, 0.01))"
   ],
   "id": "36cd2292144c684e",
   "outputs": [
    {
     "name": "stdout",
     "output_type": "stream",
     "text": [
      "Kwantyl empiryczny dla danych: 1.202175060287014\n",
      "Kwantyl empiryczny dla danych: 2.251406017385159\n"
     ]
    }
   ],
   "execution_count": 60
  },
  {
   "metadata": {
    "ExecuteTime": {
     "end_time": "2025-05-05T20:53:10.126404Z",
     "start_time": "2025-05-05T20:53:10.115090Z"
    }
   },
   "cell_type": "code",
   "source": [
    "print(weighted_historical_VaR(data, 0.05))\n",
    "print(weighted_historical_VaR(data, 0.01))"
   ],
   "id": "bd91a0e95924782",
   "outputs": [
    {
     "name": "stdout",
     "output_type": "stream",
     "text": [
      "0.9780544884532172\n",
      "1.023519678525009\n"
     ]
    }
   ],
   "execution_count": 61
  },
  {
   "metadata": {},
   "cell_type": "markdown",
   "source": "## VaR dla CZK",
   "id": "80b01978e94b7a95"
  },
  {
   "metadata": {
    "ExecuteTime": {
     "end_time": "2025-05-05T21:00:26.616372Z",
     "start_time": "2025-05-05T21:00:26.606505Z"
    }
   },
   "cell_type": "code",
   "source": [
    "# Obliczanie tygodniowych zmian procentowych\n",
    "zmiany_procentowe = Series(dane_czk).pct_change().dropna() * 100\n",
    "zmiany_procentowe_czk = zmiany_procentowe\n",
    "daty_zmian = daty_waluty[1:]  # pierwszy tydzień nie ma zmiany\n",
    "\n",
    "# Unormowane dane lub oryginalne zmiany procentowe:\n",
    "data = np.array(zmiany_procentowe)\n",
    "\n",
    "loc_fit, scale_fit = norm.fit(data)\n",
    "\n",
    "print(\"VaR rzędu 95% dla cen cukru:\", -norm.ppf(0.05, loc=loc_fit, scale=scale_fit))\n",
    "print(\"VaR rzędu 99% dla cen cukru:\", -norm.ppf(0.01, loc=loc_fit, scale=scale_fit))"
   ],
   "id": "1b0fe25a2788b902",
   "outputs": [
    {
     "name": "stdout",
     "output_type": "stream",
     "text": [
      "VaR rzędu 95% dla cen cukru: 1.2742094202525072\n",
      "VaR rzędu 99% dla cen cukru: 1.803590247366587\n"
     ]
    }
   ],
   "execution_count": 68
  },
  {
   "metadata": {
    "ExecuteTime": {
     "end_time": "2025-05-05T21:00:28.326396Z",
     "start_time": "2025-05-05T21:00:28.317123Z"
    }
   },
   "cell_type": "code",
   "source": [
    "print(\"Kwantyl empiryczny dla danych:\", -np.quantile(data, 0.05))\n",
    "print(\"Kwantyl empiryczny dla danych:\", -np.quantile(data, 0.01))"
   ],
   "id": "37ca521921b0c16e",
   "outputs": [
    {
     "name": "stdout",
     "output_type": "stream",
     "text": [
      "Kwantyl empiryczny dla danych: 1.2620713414957352\n",
      "Kwantyl empiryczny dla danych: 1.7867554787471884\n"
     ]
    }
   ],
   "execution_count": 69
  },
  {
   "metadata": {
    "ExecuteTime": {
     "end_time": "2025-05-05T21:00:41.959775Z",
     "start_time": "2025-05-05T21:00:41.950819Z"
    }
   },
   "cell_type": "code",
   "source": [
    "print(weighted_historical_VaR(data, 0.05))\n",
    "print(weighted_historical_VaR(data, 0.01))"
   ],
   "id": "efdc38bebf865559",
   "outputs": [
    {
     "name": "stdout",
     "output_type": "stream",
     "text": [
      "0.9227220299884653\n",
      "1.8675721561969394\n"
     ]
    }
   ],
   "execution_count": 70
  },
  {
   "metadata": {},
   "cell_type": "markdown",
   "source": "## VaR dla HUF",
   "id": "33a4be5929f5337"
  },
  {
   "metadata": {
    "ExecuteTime": {
     "end_time": "2025-05-05T21:03:59.591544Z",
     "start_time": "2025-05-05T21:03:59.570556Z"
    }
   },
   "cell_type": "code",
   "source": [
    "# Obliczanie tygodniowych zmian procentowych\n",
    "zmiany_procentowe = Series(dane_huf).pct_change().dropna() * 100\n",
    "zmiany_procentowe_huf = zmiany_procentowe\n",
    "daty_zmian = daty_waluty[1:]  # pierwszy tydzień nie ma zmiany\n",
    "\n",
    "# Unormowane dane lub oryginalne zmiany procentowe:\n",
    "data = np.array(zmiany_procentowe)\n",
    "\n",
    "loc_fit, scale_fit = norm.fit(data)\n",
    "\n",
    "print(\"VaR rzędu 95% dla HUF:\", -norm.ppf(0.05, loc=loc_fit, scale=scale_fit))\n",
    "print(\"VaR rzędu 99% dla HUF:\", -norm.ppf(0.01, loc=loc_fit, scale=scale_fit))"
   ],
   "id": "66e3308e49a50b86",
   "outputs": [
    {
     "name": "stdout",
     "output_type": "stream",
     "text": [
      "VaR rzędu 95% dla HUF: 1.7772763930054978\n",
      "VaR rzędu 99% dla HUF: 2.4831023457058428\n"
     ]
    }
   ],
   "execution_count": 71
  },
  {
   "metadata": {
    "ExecuteTime": {
     "end_time": "2025-05-05T21:04:01.528847Z",
     "start_time": "2025-05-05T21:04:01.522634Z"
    }
   },
   "cell_type": "code",
   "source": [
    "print(\"Kwantyl empiryczny dla danych:\", -np.quantile(data, 0.05))\n",
    "print(\"Kwantyl empiryczny dla danych:\", -np.quantile(data, 0.01))"
   ],
   "id": "d5e44e06131248b",
   "outputs": [
    {
     "name": "stdout",
     "output_type": "stream",
     "text": [
      "Kwantyl empiryczny dla danych: 1.5842729065573353\n",
      "Kwantyl empiryczny dla danych: 2.9021526353819125\n"
     ]
    }
   ],
   "execution_count": 72
  },
  {
   "metadata": {
    "ExecuteTime": {
     "end_time": "2025-05-05T21:04:14.524637Z",
     "start_time": "2025-05-05T21:04:14.512277Z"
    }
   },
   "cell_type": "code",
   "source": [
    "print(weighted_historical_VaR(data, 0.05))\n",
    "print(weighted_historical_VaR(data, 0.01))"
   ],
   "id": "157bb3dffd427ac9",
   "outputs": [
    {
     "name": "stdout",
     "output_type": "stream",
     "text": [
      "1.4667817083692691\n",
      "1.5973826020015403\n"
     ]
    }
   ],
   "execution_count": 73
  },
  {
   "metadata": {},
   "cell_type": "markdown",
   "source": "",
   "id": "3c131b757be2ae6"
  }
 ],
 "metadata": {
  "kernelspec": {
   "display_name": "Python 3",
   "language": "python",
   "name": "python3"
  },
  "language_info": {
   "codemirror_mode": {
    "name": "ipython",
    "version": 2
   },
   "file_extension": ".py",
   "mimetype": "text/x-python",
   "name": "python",
   "nbconvert_exporter": "python",
   "pygments_lexer": "ipython2",
   "version": "2.7.6"
  }
 },
 "nbformat": 4,
 "nbformat_minor": 5
}
