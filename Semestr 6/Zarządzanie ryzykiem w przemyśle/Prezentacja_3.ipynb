{
 "cells": [
  {
   "metadata": {},
   "cell_type": "markdown",
   "source": "# Prezentacja 3",
   "id": "5482d2dbe287c646"
  },
  {
   "cell_type": "code",
   "id": "initial_id",
   "metadata": {
    "collapsed": true,
    "ExecuteTime": {
     "end_time": "2025-05-10T13:56:41.403770Z",
     "start_time": "2025-05-10T13:56:41.399731Z"
    }
   },
   "source": [
    "from pandas import read_csv, to_datetime, read_excel, Series, date_range\n",
    "import numpy as np\n",
    "from scipy.stats import t, norm"
   ],
   "outputs": [],
   "execution_count": 70
  },
  {
   "metadata": {},
   "cell_type": "markdown",
   "source": [
    "###  Notowania giełdowe PEPSICO (PEP) - od 13.04.2015 do 31.03.2025, co tydzień\n",
    "\n",
    "https://www.nasdaq.com/market-activity/stocks/pep/historical?page=1&rows_per_page=10&timeline=y10"
   ],
   "id": "58428ac6825f7315"
  },
  {
   "metadata": {
    "ExecuteTime": {
     "end_time": "2025-05-10T13:56:41.518055Z",
     "start_time": "2025-05-10T13:56:41.446542Z"
    }
   },
   "cell_type": "code",
   "source": [
    "dane_notowania = read_csv('dane\\\\notowania.csv')\n",
    "dane_notowania['Date'] = to_datetime(dane_notowania['Date'], format='%m/%d/%Y')\n",
    "dane_notowania = dane_notowania.sort_values('Date')\n",
    "dane_notowania.set_index('Date', inplace=True)\n",
    "# Ustalenie startowej daty: 13.04.2015\n",
    "start_date = to_datetime('2015-04-13')\n",
    "dane_notowania = dane_notowania[dane_notowania.index >= start_date]\n",
    "dane_notowania = dane_notowania.resample('7D').first()\n",
    "daty_notowania = dane_notowania.index.tolist()\n",
    "dane_notowania = dane_notowania[\"Close/Last\"].tolist()\n",
    "dane_notowania = [float(x.replace('$', '')) for x in dane_notowania]\n",
    "# aby uniknąć problemu związanemu z brakiem danych w weekendy i dni niehandlowe, bierzemy notowanie z każdego poniedziałku (jeśli nie ma z danego poniedziałku, to z wtorku etc.)"
   ],
   "id": "7b112dc68a54b6ae",
   "outputs": [],
   "execution_count": 71
  },
  {
   "metadata": {},
   "cell_type": "markdown",
   "source": [
    "## VaR dla notowań\n",
    "\n",
    "### Metoda parametryczna"
   ],
   "id": "55750fed0bc81514"
  },
  {
   "metadata": {
    "ExecuteTime": {
     "end_time": "2025-05-10T14:02:57.098337Z",
     "start_time": "2025-05-10T14:02:56.965707Z"
    }
   },
   "cell_type": "code",
   "source": [
    "# Obliczanie tygodniowych zmian procentowych\n",
    "zmiany_procentowe = Series(dane_notowania).pct_change().dropna() * 100\n",
    "daty_zmian = daty_notowania[1:]  # pierwszy tydzień nie ma zmiany\n",
    "\n",
    "# Unormowane dane lub oryginalne zmiany procentowe:\n",
    "data = -np.array(zmiany_procentowe)\n",
    "\n",
    "# Dopasuj rozkład t: zwraca df, loc, scale\n",
    "df_fit, loc_fit, scale_fit = t.fit(data)\n",
    "\n",
    "print(\"VaR rzędu 95% dla notowań:\", t.ppf(0.95, df_fit, loc=loc_fit, scale=scale_fit))\n",
    "print(\"VaR rzędu 99% dla notowań:\", t.ppf(0.99, df_fit, loc=loc_fit, scale=scale_fit))"
   ],
   "id": "47d1f2ab8e9ce799",
   "outputs": [
    {
     "name": "stdout",
     "output_type": "stream",
     "text": [
      "VaR rzędu 95% dla notowań: 3.5073387002719807\n",
      "VaR rzędu 99% dla notowań: 5.875043542907393\n"
     ]
    }
   ],
   "execution_count": 82
  },
  {
   "metadata": {},
   "cell_type": "markdown",
   "source": "### Metoda historyczna (zwykła)",
   "id": "ef67048a8c6a2e35"
  },
  {
   "metadata": {
    "ExecuteTime": {
     "end_time": "2025-05-10T14:03:21.257509Z",
     "start_time": "2025-05-10T14:03:21.241971Z"
    }
   },
   "cell_type": "code",
   "source": [
    "print(\"Kwantyl empiryczny dla danych:\", np.quantile(data, 0.95))\n",
    "print(\"Kwantyl empiryczny dla danych:\", np.quantile(data, 0.99))"
   ],
   "id": "2ece1bdf14fa9575",
   "outputs": [
    {
     "name": "stdout",
     "output_type": "stream",
     "text": [
      "Kwantyl empiryczny dla danych: 3.5473920358945366\n",
      "Kwantyl empiryczny dla danych: 5.6245881905998685\n"
     ]
    }
   ],
   "execution_count": 83
  },
  {
   "metadata": {
    "ExecuteTime": {
     "end_time": "2025-05-10T14:06:42.526473Z",
     "start_time": "2025-05-10T14:06:42.504425Z"
    }
   },
   "cell_type": "code",
   "source": [
    "def weighted_historical_VaR(data, alpha, lambd=0.96):\n",
    "    n = len(data)\n",
    "    w_1 = (1 - lambd) / (1 - np.power(lambd, n))\n",
    "    weights = np.power(lambd, n - np.arange(1, n + 1)) * w_1\n",
    "    return np.quantile(data, alpha, weights=weights, method=\"inverted_cdf\")\n",
    "\n",
    "print(weighted_historical_VaR(data, 0.95))\n",
    "print(weighted_historical_VaR(data, 0.99))"
   ],
   "id": "7c99916946c29df8",
   "outputs": [
    {
     "name": "stdout",
     "output_type": "stream",
     "text": [
      "4.501800720288118\n",
      "5.623368376490512\n"
     ]
    }
   ],
   "execution_count": 85
  },
  {
   "metadata": {},
   "cell_type": "markdown",
   "source": "### VaR obliczony z użyciem filtrowania szeregiem GARCH",
   "id": "1baaeb13c54bf17b"
  },
  {
   "metadata": {
    "ExecuteTime": {
     "end_time": "2025-05-10T14:12:21.868640Z",
     "start_time": "2025-05-10T14:12:21.834811Z"
    }
   },
   "cell_type": "code",
   "source": [
    "from arch import arch_model\n",
    "\n",
    "# === 1. Dopasowanie modelu GARCH do zwrotów ===\n",
    "model = arch_model(data, vol='Garch', p=1, q=1, dist='normal')\n",
    "res = model.fit(disp='off')\n",
    "\n",
    "mu_hat = res.params['mu']  # Estymowana wartość średnia\n",
    "sigma_t = res.conditional_volatility  # σₜ dla t = 1,...,n\n",
    "L = data # Zwroty\n",
    "\n",
    "# === 2. Oblicz standaryzowane reszty ===\n",
    "standardized_residuals = (L - mu_hat) / sigma_t\n",
    "\n",
    "# === 3. Wyznacz kwantyl empiryczny dla *L_i ===\n",
    "alpha = 0.99  # poziom istotności\n",
    "q_alpha = np.quantile(standardized_residuals, alpha)\n",
    "\n",
    "# === 4. Prognoza sigma_{n+1} ===\n",
    "# GARCH(1,1): σ²_{t+1} = ω + α * ε²_t + β * σ²_t\n",
    "\n",
    "# Wyciągamy parametry modelu\n",
    "omega = res.params['omega']\n",
    "alpha1 = res.params['alpha[1]']\n",
    "beta1 = res.params['beta[1]']\n",
    "\n",
    "# Prognoza wariancji\n",
    "sigma_n1_sq = omega + alpha1 * (L[-1] - mu_hat)**2 + beta1 * sigma_t[-1]**2\n",
    "sigma_n1 = np.sqrt(sigma_n1_sq)\n",
    "\n",
    "# === 5. Oblicz VaR ===\n",
    "VaR_alpha = sigma_n1 * q_alpha + mu_hat\n",
    "\n",
    "print(f\"📉 Value at Risk (VaR) na poziomie {alpha*100}%: {VaR_alpha:.4f}\")"
   ],
   "id": "e4d0c8bab4d4cbb2",
   "outputs": [
    {
     "name": "stdout",
     "output_type": "stream",
     "text": [
      "📉 Value at Risk (VaR) na poziomie 99.0%: 8.9195\n"
     ]
    }
   ],
   "execution_count": 91
  },
  {
   "metadata": {},
   "cell_type": "markdown",
   "source": "",
   "id": "3c131b757be2ae6"
  }
 ],
 "metadata": {
  "kernelspec": {
   "display_name": "Python 3",
   "language": "python",
   "name": "python3"
  },
  "language_info": {
   "codemirror_mode": {
    "name": "ipython",
    "version": 2
   },
   "file_extension": ".py",
   "mimetype": "text/x-python",
   "name": "python",
   "nbconvert_exporter": "python",
   "pygments_lexer": "ipython2",
   "version": "2.7.6"
  }
 },
 "nbformat": 4,
 "nbformat_minor": 5
}
