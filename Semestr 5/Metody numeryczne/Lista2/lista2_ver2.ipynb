{
 "cells": [
  {
   "cell_type": "code",
   "id": "initial_id",
   "metadata": {
    "collapsed": true,
    "ExecuteTime": {
     "end_time": "2024-11-02T14:15:09.276466Z",
     "start_time": "2024-11-02T14:15:09.101024Z"
    }
   },
   "source": [
    "from collections.abc import Iterable\n",
    "import copy\n",
    "import numpy as np\n",
    "import scipy"
   ],
   "outputs": [],
   "execution_count": 2
  },
  {
   "metadata": {
    "ExecuteTime": {
     "end_time": "2024-11-02T14:35:16.818129Z",
     "start_time": "2024-11-02T14:35:16.794722Z"
    }
   },
   "cell_type": "code",
   "source": [
    "class Vector(Iterable):\n",
    "    def __init__(self, elems=None):\n",
    "        if elems is None:\n",
    "            elems = []\n",
    "        self.__elems = elems\n",
    "\n",
    "    def __getitem__(self, key):\n",
    "        return self.__elems[key]\n",
    "\n",
    "    def __setitem__(self, key, val):\n",
    "        self.__elems[key] = val\n",
    "\n",
    "    def __len__(self):\n",
    "        return len(self.__elems)\n",
    "\n",
    "    def __iter__(self):\n",
    "        return self.__elems.__iter__()\n",
    "\n",
    "    def __add__(self, other):\n",
    "        if len(self) != len(other):\n",
    "            raise ValueError(\"Vector must be of equal length\")\n",
    "        return Vector([a + b for a, b in zip(self, other)])\n",
    "\n",
    "    def __neg__(self):\n",
    "        return Vector([-a for a in self.__elems])\n",
    "\n",
    "    def __sub__(self, other):\n",
    "        if len(self) != len(other):\n",
    "            raise ValueError(\"Vector must be of equal length\")\n",
    "        return Vector([a - b for a, b in zip(self, other)])\n",
    "\n",
    "    def __mul__(self, other):\n",
    "        if len(self) != len(other):\n",
    "            raise ValueError(\"Vector must be of equal length\")\n",
    "        return Vector([a * b for a, b in zip(self, other)])\n",
    "\n",
    "    def __rmul__(self, other):\n",
    "        return Vector([other * a for a in self.__elems])\n",
    "\n",
    "    def __str__(self):\n",
    "        comma_list = ''.join([str(a) + ', ' for a in self.__elems])\n",
    "        return '<' + comma_list[:-2] + '>'\n",
    "\n",
    "    def append(self, val):\n",
    "        self.__elems.append(val)\n",
    "\n",
    "\n",
    "class Matrix:\n",
    "    def __init__(self):\n",
    "        self.__rows = []\n",
    "\n",
    "    @staticmethod\n",
    "    def create_from_list(list_of_lists):\n",
    "        m = Matrix()\n",
    "        for row in list_of_lists:\n",
    "            m.add_row(Vector(row))\n",
    "        return m\n",
    "\n",
    "    @staticmethod\n",
    "    def identity_matrix(n):\n",
    "        I = [[1 if i == j  else 0 for i in range(n)] for j in range(n)]\n",
    "        return Matrix.create_from_list(I)\n",
    "\n",
    "    def number_of_rows(self):\n",
    "        return len(self.__rows)\n",
    "\n",
    "    def number_of_columns(self):\n",
    "        return 0 if len(self.__rows) == 0 else len(self.__rows[0])\n",
    "\n",
    "    def is_empty(self):\n",
    "        return len(self.__rows) == 0\n",
    "\n",
    "    def __len__(self):\n",
    "        return self.number_of_rows() * self.number_of_columns()\n",
    "\n",
    "    def __getitem__(self, item):\n",
    "        return self.__rows[item]\n",
    "\n",
    "    def __setitem__(self, key, new_row):\n",
    "        self.__rows[key] = new_row\n",
    "\n",
    "    def __str__(self):\n",
    "        return ''.join([str(row) + '\\n' for row in self.__rows])\n",
    "\n",
    "    def add_row(self, new_row):\n",
    "        if len(new_row) != self.number_of_columns() and not self.is_empty():\n",
    "            raise ValueError(\"Matrix rows must be of equal length\")\n",
    "        self.__rows.append(new_row)\n",
    "\n",
    "    def add_column(self, new_column):\n",
    "        if len(new_column) != self.number_of_rows():\n",
    "            raise ValueError(\"Matrix columns must be of equal length\")\n",
    "        for i in range(self.number_of_rows()):\n",
    "            self.__rows[i].append(new_column[i])\n",
    "\n",
    "    def subtract_rows(self, row1, row2):\n",
    "        self.__rows[row1] -= self.__rows[row2]\n",
    "\n",
    "    def multiply_row(self, key, scalar):\n",
    "        self.__rows[key] *= scalar\n",
    "\n",
    "    def swap_rows(self, row1, row2):\n",
    "        self.__rows[row1], self.__rows[row2] = self.__rows[row2], self.__rows[row1]\n",
    "\n",
    "    def multiply_column(self, column, scalar):\n",
    "        for row in self.__rows:\n",
    "            row[column] *= scalar\n",
    "\n",
    "    def subtract_column(self, index1, index2):\n",
    "        for row in self.__rows:\n",
    "            row[index1] -= row[index2]\n",
    "\n",
    "    def upper_triangular_matrix(self):\n",
    "        matrix = copy.deepcopy(self)\n",
    "        if matrix.number_of_rows() == matrix.number_of_columns():\n",
    "            for j in range(matrix.number_of_columns()):\n",
    "                find_nullifying_row = False\n",
    "                for i in range(j, matrix.number_of_rows()):\n",
    "                    if matrix[i][j] != 0 and find_nullifying_row == False:\n",
    "                        matrix.swap_rows(i, j)\n",
    "                        find_nullifying_row = True\n",
    "                        continue\n",
    "                    if find_nullifying_row:\n",
    "                        a = matrix[i][j] / matrix[j][j]\n",
    "                        matrix[i] = matrix[i] - a * matrix[j]\n",
    "                if not find_nullifying_row:\n",
    "                    raise ValueError(\"Macierz osobliwa\")\n",
    "        return matrix\n",
    "\n",
    "    def det(self):\n",
    "        matrix = self.upper_triangular_matrix()\n",
    "        det = 1\n",
    "        for i in range(len(self.__rows)):\n",
    "            det *= matrix[i][i]\n",
    "        return det\n",
    "    \n",
    "    def multiply_matrix_by_vector(self, vector: Vector) -> Vector:\n",
    "        if self.number_of_columns() != len(vector):\n",
    "            raise ValueError(\"Vector length must be of equal to number of columns in matrix\")\n",
    "        new_vector = Vector()\n",
    "        for row in self.__rows:\n",
    "            new_vector.append(sum(row * vector))\n",
    "        return new_vector"
   ],
   "id": "7cc7dc94df686437",
   "outputs": [],
   "execution_count": 7
  },
  {
   "metadata": {
    "ExecuteTime": {
     "end_time": "2024-11-02T14:15:11.864407Z",
     "start_time": "2024-11-02T14:15:11.854225Z"
    }
   },
   "cell_type": "code",
   "source": [
    "def calculate_upper_triangular_matrix(A: Matrix, b: Vector):\n",
    "    A, b = copy.deepcopy(A), copy.deepcopy(b)\n",
    "    n = A.number_of_rows()\n",
    "    for column in range(n):\n",
    "        find_nullifying_row = False\n",
    "        for row in range(column, n):\n",
    "            if A[row][column] != 0 and find_nullifying_row == False:\n",
    "                A.swap_rows(row, column)\n",
    "                b[row], b[column] = b[column], b[row]\n",
    "                find_nullifying_row = True\n",
    "                continue\n",
    "            if find_nullifying_row:\n",
    "                multiplier = row_nullify_multiplier_for_column(\n",
    "                    row_to_nullify=A[row],\n",
    "                    base_row=A[column],\n",
    "                    column=column\n",
    "                )\n",
    "                A[row] = A[row] - multiplier * A[column]\n",
    "                b[row] = b[row] - multiplier * b[column]\n",
    "        if not find_nullifying_row:\n",
    "            raise ValueError(\"Macierz osobliwa\")\n",
    "    return A, b\n",
    "\n",
    "\n",
    "def row_nullify_multiplier_for_column(row_to_nullify, base_row, column):\n",
    "    return row_to_nullify[column] / base_row[column]\n",
    "\n",
    "\n",
    "def gaussian_solver(A: Matrix, b: Vector) -> Vector:\n",
    "    A, b = calculate_upper_triangular_matrix(A, b)\n",
    "    solutions = Vector([0 for _ in range(A.number_of_rows())])\n",
    "    for column in range(A.number_of_columns()-1, -1, -1):\n",
    "        for row in range(column-1, -1, -1):\n",
    "            multiplier = row_nullify_multiplier_for_column(\n",
    "                row_to_nullify=A[row],\n",
    "                base_row=A[column],\n",
    "                column=column\n",
    "            )\n",
    "            A[row] = A[row] - multiplier * A[column]\n",
    "            b[row] = b[row] - multiplier * b[column]\n",
    "        solutions[column] = b[column] / A[column][column]\n",
    "    return solutions"
   ],
   "id": "812241b02e73c75d",
   "outputs": [],
   "execution_count": 4
  },
  {
   "metadata": {},
   "cell_type": "markdown",
   "source": "### Zadanie 4",
   "id": "4f3610ccdc8b6b3"
  },
  {
   "metadata": {
    "ExecuteTime": {
     "end_time": "2024-11-02T14:15:15.347335Z",
     "start_time": "2024-11-02T14:15:14.119639Z"
    }
   },
   "cell_type": "code",
   "source": [
    "A = Matrix.create_from_list(\n",
    "    [[0, 0, 2, 1, 2],\n",
    "    [0, 1, 0, 2, -1],\n",
    "    [1, 2, 0, -2, 0],\n",
    "    [0, 0, 0, -1, 1],\n",
    "    [0, 1, -1, 1, -1]])\n",
    "b = Vector([1, 1, -4, -2, -1])\n",
    "\n",
    "print(gaussian_solver(A, b))\n",
    "print(scipy.linalg.solve(A, b))"
   ],
   "id": "afd3ffd5a8aa3ffb",
   "outputs": [
    {
     "name": "stdout",
     "output_type": "stream",
     "text": [
      "<2.0, -2.0, 1.0, 1.0, -1.0>\n",
      "[ 2. -2.  1.  1. -1.]\n"
     ]
    }
   ],
   "execution_count": 5
  },
  {
   "metadata": {},
   "cell_type": "markdown",
   "source": "### Zadanie 5",
   "id": "da5e4543e50e5aec"
  },
  {
   "metadata": {
    "ExecuteTime": {
     "end_time": "2024-11-02T14:16:58.501982Z",
     "start_time": "2024-11-02T14:16:58.492927Z"
    }
   },
   "cell_type": "code",
   "source": [
    "def polynomial_coeffs_lst(x0):\n",
    "    return [x0 ** i for i in range(5)]\n",
    "\n",
    "\n",
    "points = [(0, -1), (1, 1), (3, 3), (5, 2), (6, -2)]\n",
    "A = []\n",
    "b = []\n",
    "for x, y in points:\n",
    "    A.append(polynomial_coeffs_lst(x))\n",
    "    b.append(y)\n",
    "\n",
    "A = Matrix.create_from_list(A)\n",
    "b = Vector(b)\n",
    "\n",
    "print(gaussian_solver(A, b))\n",
    "print(scipy.linalg.solve(A, b))"
   ],
   "id": "6262c6196b053aaa",
   "outputs": [
    {
     "name": "stdout",
     "output_type": "stream",
     "text": [
      "<-1.0, 2.6833333333333336, -0.8750000000000003, 0.21666666666666679, -0.02500000000000001>\n",
      "[-1.          2.68333333 -0.875       0.21666667 -0.025     ]\n"
     ]
    }
   ],
   "execution_count": 6
  },
  {
   "metadata": {},
   "cell_type": "markdown",
   "source": "### Zadanie 6",
   "id": "e930e437c9d71a02"
  },
  {
   "metadata": {
    "ExecuteTime": {
     "end_time": "2024-11-02T14:36:02.595620Z",
     "start_time": "2024-11-02T14:36:02.587994Z"
    }
   },
   "cell_type": "code",
   "source": [
    "A = Matrix.create_from_list(\n",
    "    [[3.50, 2.77, -0.76, 1.80],\n",
    "     [-1.80, 2.68, 3.44, -0.09],\n",
    "     [0.27, 5.07, 6.90, 1.61],\n",
    "     [1.71, 5.45, 2.68, 1.71]])\n",
    "\n",
    "b = Vector([7.31, 4.23, 13.85, 11.55])\n",
    "\n",
    "x = gaussian_solver(A, b)\n",
    "print(A.multiply_matrix_by_vector(x))\n",
    "print(b)"
   ],
   "id": "4ac1a6ea6e1bdd05",
   "outputs": [
    {
     "name": "stdout",
     "output_type": "stream",
     "text": [
      "<7.310000000000077, 4.2299999999999605, 13.850000000000003, 11.550000000000038>\n",
      "<7.31, 4.23, 13.85, 11.55>\n"
     ]
    }
   ],
   "execution_count": 8
  },
  {
   "metadata": {},
   "cell_type": "markdown",
   "source": "### Zadanie 7",
   "id": "fab9d03708dfe43"
  },
  {
   "metadata": {
    "ExecuteTime": {
     "end_time": "2024-11-02T14:39:58.695714Z",
     "start_time": "2024-11-02T14:39:58.685463Z"
    }
   },
   "cell_type": "code",
   "source": [
    "A = Matrix.create_from_list(\n",
    "    [[10, -2, -1, 2, 3, 1, -4, 7],\n",
    "     [5, 11, 3, 10, -3, 3, 3, -4],\n",
    "     [7, 12, 1, 5, 3, -12, 2, 3],\n",
    "     [8, 7, -2, 1, 3, 2, 2, 4],\n",
    "     [2, -15, -1, 1, 4, -1, 8, 3],\n",
    "     [4, 2, 9, 1, 12, -1, 4, 1],\n",
    "     [-1, 4, -7, -1, 1, 1, -1, -3],\n",
    "     [-1, 3, 4, 1, 3, -4, 7, 6]])\n",
    "\n",
    "b = Vector([0, 12, -5, 3, -25, -26, 9, -7])\n",
    "\n",
    "print(gaussian_solver(A, b))\n",
    "print(scipy.linalg.solve(A, b))\n",
    "print(np.linalg.solve(A, b))"
   ],
   "id": "37d160c94f294602",
   "outputs": [
    {
     "name": "stdout",
     "output_type": "stream",
     "text": [
      "<-0.9999999999999982, 0.9999999999999997, -1.0000000000000018, 0.9999999999999991, -1.000000000000001, 0.9999999999999993, -0.9999999999999991, 0.9999999999999987>\n",
      "[-1.  1. -1.  1. -1.  1. -1.  1.]\n",
      "[-1.  1. -1.  1. -1.  1. -1.  1.]\n"
     ]
    }
   ],
   "execution_count": 12
  },
  {
   "metadata": {},
   "cell_type": "markdown",
   "source": "### Zadanie 8",
   "id": "2bd8f5df04e976d8"
  },
  {
   "metadata": {},
   "cell_type": "code",
   "outputs": [],
   "execution_count": null,
   "source": "",
   "id": "15f3ce0518c39a12"
  },
  {
   "metadata": {},
   "cell_type": "markdown",
   "source": "### Zadanie 9",
   "id": "728b7ccbfdceb536"
  },
  {
   "metadata": {},
   "cell_type": "code",
   "outputs": [],
   "execution_count": null,
   "source": "",
   "id": "5743a1d848e3dadb"
  }
 ],
 "metadata": {
  "kernelspec": {
   "display_name": "Python 3",
   "language": "python",
   "name": "python3"
  },
  "language_info": {
   "codemirror_mode": {
    "name": "ipython",
    "version": 2
   },
   "file_extension": ".py",
   "mimetype": "text/x-python",
   "name": "python",
   "nbconvert_exporter": "python",
   "pygments_lexer": "ipython2",
   "version": "2.7.6"
  }
 },
 "nbformat": 4,
 "nbformat_minor": 5
}
