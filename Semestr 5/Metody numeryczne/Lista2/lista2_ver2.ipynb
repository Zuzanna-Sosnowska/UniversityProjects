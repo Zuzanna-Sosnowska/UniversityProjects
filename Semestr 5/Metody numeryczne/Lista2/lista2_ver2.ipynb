{
 "cells": [
  {
   "cell_type": "markdown",
   "id": "5ad883a7b7404918",
   "metadata": {},
   "source": [
    "# Lista 2 Metody numeryczne\n",
    "Zuzanna Sosnowska"
   ]
  },
  {
   "cell_type": "code",
   "execution_count": 59,
   "id": "initial_id",
   "metadata": {
    "ExecuteTime": {
     "end_time": "2024-11-03T13:44:28.025664Z",
     "start_time": "2024-11-03T13:44:28.021238Z"
    }
   },
   "outputs": [],
   "source": [
    "from collections.abc import Iterable\n",
    "import copy\n",
    "import numpy as np\n",
    "import scipy\n",
    "import matplotlib.pyplot as plt"
   ]
  },
  {
   "cell_type": "markdown",
   "id": "dc138bfd010a7745",
   "metadata": {},
   "source": [
    "Używane klasy:"
   ]
  },
  {
   "cell_type": "code",
   "execution_count": 60,
   "id": "7cc7dc94df686437",
   "metadata": {
    "ExecuteTime": {
     "end_time": "2024-11-03T13:44:40.380915Z",
     "start_time": "2024-11-03T13:44:40.355330Z"
    }
   },
   "outputs": [],
   "source": [
    "class Vector(Iterable):\n",
    "    def __init__(self, elems=None):\n",
    "        if elems is None:\n",
    "            elems = []\n",
    "        self.__elems = elems\n",
    "\n",
    "    def __getitem__(self, key):\n",
    "        return self.__elems[key]\n",
    "\n",
    "    def __setitem__(self, key, val):\n",
    "        self.__elems[key] = val\n",
    "\n",
    "    def __len__(self):\n",
    "        return len(self.__elems)\n",
    "\n",
    "    def __iter__(self):\n",
    "        return self.__elems.__iter__()\n",
    "\n",
    "    def __add__(self, other):\n",
    "        if len(self) != len(other):\n",
    "            raise ValueError(\"Vector must be of equal length\")\n",
    "        return Vector([a + b for a, b in zip(self, other)])\n",
    "\n",
    "    def __neg__(self):\n",
    "        return Vector([-a for a in self.__elems])\n",
    "\n",
    "    def __sub__(self, other):\n",
    "        if len(self) != len(other):\n",
    "            raise ValueError(\"Vector must be of equal length\")\n",
    "        return Vector([a - b for a, b in zip(self, other)])\n",
    "\n",
    "    def __mul__(self, other):\n",
    "        \"\"\"\n",
    "        Metoda zwraca wektor, którego wartości na i-tym indeksie to iloczyn wartości wektorów na i-tych indeksach\n",
    "        :param other: drugi wektor, przez którego mnożymy\n",
    "        :return: Funckja zwraca nowy obiekt klasy Vector, który jest iloczynem dwóch wektorów\n",
    "        \"\"\"\n",
    "        if len(self) != len(other):\n",
    "            raise ValueError(\"Vector must be of equal length\")\n",
    "        return Vector([a * b for a, b in zip(self, other)])\n",
    "\n",
    "    def __rmul__(self, scalar):\n",
    "        \"\"\"\n",
    "        Funkcja zwraca wektor pomnożony razy skalar. Jest to mnożenie prawostronne, tzn. działa ono tylko wtedy, gdy skalar znajduje się po prawej stronie od wektora\n",
    "        :param other: skalar, przez który mnożymy wektor\n",
    "        :return: Metoda zwraca nowy wektor pomnożony o skalar\n",
    "        \"\"\"\n",
    "        return Vector([scalar * a for a in self.__elems])\n",
    "\n",
    "    def __str__(self):\n",
    "        comma_list = ''.join([str(a) + ', ' for a in self.__elems])\n",
    "        return '<' + comma_list[:-2] + '>'\n",
    "\n",
    "    def append(self, val):\n",
    "        self.__elems.append(val)\n",
    "\n",
    "\n",
    "class Matrix:\n",
    "    \"\"\"\n",
    "        Klasa przechowuje listę wektorów (wierszy macierzy).\n",
    "    \"\"\"\n",
    "    \n",
    "    def __init__(self):\n",
    "        self.__rows = []\n",
    "\n",
    "    @staticmethod\n",
    "    def create_from_list(list_of_lists):\n",
    "        \"\"\"\n",
    "        Metoda statyczna, umożliwiająca tworzenie macierzy z listy list.\n",
    "        :param list_of_lists: Lista list, która zostanie zamieniona w obiekt klasy Matrix\n",
    "        :return: Obiekt klasy Matrix\n",
    "        \"\"\"\n",
    "        m = Matrix()\n",
    "        for row in list_of_lists:\n",
    "            m.add_row(Vector(row))\n",
    "        return m\n",
    "\n",
    "    @staticmethod\n",
    "    def identity_matrix(n):\n",
    "        \"\"\"\n",
    "        Metoda umożliwiająca stworzenie macierzy identycznościowej rozmiaru n x n.\n",
    "        :param n: Rozmiar macierzy identycznościowej\n",
    "        :return: Obiekt klasy Matrix\n",
    "        \"\"\"\n",
    "        I = [[1 if i == j  else 0 for i in range(n)] for j in range(n)]\n",
    "        return Matrix.create_from_list(I)\n",
    "\n",
    "    def number_of_rows(self):\n",
    "        return len(self.__rows)\n",
    "\n",
    "    def number_of_columns(self):\n",
    "        return 0 if len(self.__rows) == 0 else len(self.__rows[0])\n",
    "\n",
    "    def is_empty(self):\n",
    "        return len(self.__rows) == 0\n",
    "\n",
    "    def __len__(self):\n",
    "        \"\"\"\n",
    "        :return: Funkcja zwraca iloczyn ilości kolumn i ilości rzędów\n",
    "        \"\"\"\n",
    "        return self.number_of_rows() * self.number_of_columns()\n",
    "\n",
    "    def __getitem__(self, item):\n",
    "        return self.__rows[item]\n",
    "\n",
    "    def __setitem__(self, key, new_row):\n",
    "        self.__rows[key] = new_row\n",
    "\n",
    "    def __str__(self):\n",
    "        return ''.join([str(row) + '\\n' for row in self.__rows])\n",
    "\n",
    "    def add_row(self, new_row):\n",
    "        if len(new_row) != self.number_of_columns() and not self.is_empty():\n",
    "            raise ValueError(\"Matrix rows must be of equal length\")\n",
    "        self.__rows.append(new_row)\n",
    "\n",
    "    def add_column(self, new_column):\n",
    "        if len(new_column) != self.number_of_rows():\n",
    "            raise ValueError(\"Matrix columns must be of equal length\")\n",
    "        for i in range(self.number_of_rows()):\n",
    "            self.__rows[i].append(new_column[i])\n",
    "\n",
    "    def subtract_rows(self, row1, row2):\n",
    "        self.__rows[row1] -= self.__rows[row2]\n",
    "\n",
    "    def multiply_row(self, key, scalar):\n",
    "        self.__rows[key] *= scalar\n",
    "\n",
    "    def swap_rows(self, row1, row2):\n",
    "        self.__rows[row1], self.__rows[row2] = self.__rows[row2], self.__rows[row1]\n",
    "\n",
    "    def multiply_column(self, column, scalar):\n",
    "        for row in self.__rows:\n",
    "            row[column] *= scalar\n",
    "\n",
    "    def subtract_column(self, index1, index2):\n",
    "        for row in self.__rows:\n",
    "            row[index1] -= row[index2]\n",
    "\n",
    "    def upper_triangular_matrix(self):\n",
    "        \"\"\"\n",
    "        Metoda obliczająca macierz górnotrójkątną od zadanej macierzy.\n",
    "        :return: Funkcja zwraca nowy obiekt klasy Matrix, który jest macierzą górnotrójkątną od zadanej macierzy.\n",
    "        \"\"\"\n",
    "        matrix = copy.deepcopy(self)\n",
    "        if matrix.number_of_rows() == matrix.number_of_columns():\n",
    "            for column in range(matrix.number_of_columns()):\n",
    "                find_nullifying_row = False\n",
    "                for row in range(column, matrix.number_of_rows()):\n",
    "                    # Sprawdzamy, czy zadanym wierszem można wyzerować wartości w j-tej kolumnie\n",
    "                    if matrix[row][column] != 0 and find_nullifying_row == False:\n",
    "                        matrix.swap_rows(row, column)\n",
    "                        find_nullifying_row = True\n",
    "                        continue\n",
    "                    if find_nullifying_row:\n",
    "                        a = matrix[row][column] / matrix[column][column]\n",
    "                        matrix[row] = matrix[row] - a * matrix[column]\n",
    "                # Jeżeli nie znajdziemy wiersza, który ma w j-tej kolumnie wartość różną od 0 to macierz jest osobliwa.\n",
    "                if not find_nullifying_row:\n",
    "                    raise ValueError(\"Macierz osobliwa\")\n",
    "        return matrix\n",
    "\n",
    "    def det(self):\n",
    "        \"\"\"\n",
    "        Metoda służy do obliczenia wyznacznika macierzy. Wykorzystuje ona wyżej zaimplementowaną metodę do obliczania macierzy górnotrójkątnej, a następnie oblicza wyznacznik jako wartość elementów na przekątnej nowo uzyskanej macierzy.\n",
    "        :return: Wartość wyznacznika macierzy\n",
    "        \"\"\"\n",
    "        matrix = self.upper_triangular_matrix()\n",
    "        det = 1\n",
    "        for i in range(len(self.__rows)):\n",
    "            det *= matrix[i][i]\n",
    "        return det\n",
    "    \n",
    "    def multiply_matrix_by_vector(self, vector: Vector) -> Vector:\n",
    "        \"\"\"\n",
    "        Metoda umożliwiająca mnożenie macierzy razy wektor. Funkcja zwraca obiekt klasy wektor.\n",
    "        :param vector: Wektor, przez który mnożymy macierz. Długość wektora musi wynosić tyle samo co ilość kolumn w macierzy.\n",
    "        :return: Wektor, który jest wynikiem mnożenia macierzy razy dany wektor.\n",
    "        \"\"\"\n",
    "        if self.number_of_columns() != len(vector):\n",
    "            raise ValueError(\"Vector length must be of equal to number of columns in matrix\")\n",
    "        new_vector = Vector()\n",
    "        for row in self.__rows:\n",
    "            new_vector.append(sum(row * vector))\n",
    "        return new_vector\n",
    "    \n",
    "    def inv(self):\n",
    "        \"\"\"\n",
    "        Metoda służąca do wyznaczania macierzy odwrotnej.\n",
    "        :return: Macierz odwrotną do zadanej macierzy\n",
    "        \"\"\"\n",
    "        # Aby wyznaczyć macierz odwrotną musimy sprawdzić, czy wejściowa macierz jest macierzą kwadratową\n",
    "        if self.number_of_rows() != self.number_of_columns():\n",
    "            raise ValueError(\"Matrix must be of equal length\")\n",
    "        matrix = copy.deepcopy(self)\n",
    "        I = Matrix.identity_matrix(matrix.number_of_rows())\n",
    "        for column in range(matrix.number_of_columns()):\n",
    "            find_nullifying_row = False\n",
    "            for row in range(column, matrix.number_of_rows()):\n",
    "                if matrix[row][column] != 0 and find_nullifying_row == False:\n",
    "                    matrix.swap_rows(row, column)\n",
    "                    I.swap_rows(row, column)\n",
    "                    find_nullifying_row = True\n",
    "                    continue\n",
    "                if find_nullifying_row:\n",
    "                    modifier = matrix[row][column] / matrix[column][column]\n",
    "                    matrix[row] = matrix[row] - modifier * matrix[column]\n",
    "                    I[row] = I[row] - modifier * I[column]\n",
    "            if not find_nullifying_row:\n",
    "                raise ValueError(\"Macierz osobliwa\")\n",
    "        # Po doprowadzeniu macierzy do postaci górnotrójkątnej zamieniamy naszą macierz na macierz diagonalną (równolegle wykonujemy te same operacje na macierzy identycznościowej)\n",
    "        for column in range(matrix.number_of_columns() - 1, -1, -1):\n",
    "            for row in range(column):\n",
    "                modifier = matrix[row][column] / matrix[column][column]\n",
    "                matrix[row] = matrix[row] - modifier * matrix[column]\n",
    "                I[row] = I[row] - modifier * I[column]\n",
    "            # Dzielimy wartości we wierszu tak, aby otrzymać macierz identycznościową\n",
    "            modifier = 1 / matrix[column][column]\n",
    "            I[column] = modifier * I[column]\n",
    "            matrix[column] = modifier * matrix[column]\n",
    "        return I"
   ]
  },
  {
   "cell_type": "code",
   "execution_count": 61,
   "id": "812241b02e73c75d",
   "metadata": {
    "ExecuteTime": {
     "end_time": "2024-11-03T13:44:43.799727Z",
     "start_time": "2024-11-03T13:44:43.785418Z"
    }
   },
   "outputs": [],
   "source": [
    "def calculate_upper_triangular_matrix(A: Matrix, b: Vector):\n",
    "    \"\"\"\n",
    "    Funkcja służy do obliczania macierzy górnotrójkątnej, przy jednoczesnej edycji wektora b.\n",
    "    :param A: Macierz współczynników przy niewiadomych.\n",
    "    :param b: Wektor wyrazów wolnych odpowiadający macierzy A.\n",
    "    :return: Funkcja zwraca kopię macierzy i wektora danych na wejściu przekształcone tak, aby macierz była w postaci górnotrójkątnej.\n",
    "    \"\"\"\n",
    "    A, b = copy.deepcopy(A), copy.deepcopy(b)\n",
    "    for column in range(A.number_of_columns()):\n",
    "        find_nullifying_row = False\n",
    "        for row in range(column, A.number_of_rows()):\n",
    "            if A[row][column] != 0 and find_nullifying_row == False:\n",
    "                # Ustawiamy bazowy wiersz, którym zerujemy wartości w kolumnie o indeksie 'column' w odpowiednim rzędzie.\n",
    "                A.swap_rows(row, column)\n",
    "                b[row], b[column] = b[column], b[row]\n",
    "                find_nullifying_row = True\n",
    "                continue\n",
    "            if find_nullifying_row:\n",
    "                # Obliczamy skalar, przez który należy pomnożyć bazowy wiersz, aby wyzerować nim wartość w innym wierszu w danej kolumnie.\n",
    "                multiplier = row_nullify_multiplier_for_column(\n",
    "                    row_to_nullify=A[row],\n",
    "                    base_row=A[column],\n",
    "                    column=column\n",
    "                )\n",
    "                # Zerujemy wartość w kolumnie 'column' w wierszach poniżej bazowego.\n",
    "                A[row] = A[row] - multiplier * A[column]\n",
    "                b[row] = b[row] - multiplier * b[column]\n",
    "        # Jeżeli we wszystkich wierszach w danej kolumnie znajdują się zera, to macierz jest osobliwa.\n",
    "        if not find_nullifying_row:\n",
    "            raise ValueError(\"Macierz osobliwa\")\n",
    "    return A, b\n",
    "\n",
    "\n",
    "def row_nullify_multiplier_for_column(row_to_nullify, base_row, column):\n",
    "    return row_to_nullify[column] / base_row[column]\n",
    "\n",
    "\n",
    "def gaussian_solver(A: Matrix, b: Vector) -> Vector:\n",
    "    \"\"\"\n",
    "    Funkcja obliczająca rozwiązania układu równań.\n",
    "    :param A: Macierz współczynników przy niewiadomych. \n",
    "    :param b: Wektor wyrazów wolnych.\n",
    "    :return: Funkcja zwraca wektor rozwiązań układu równań, obliczony metodą eliminacji Gaussa-Jordana.\n",
    "    \"\"\"\n",
    "    A, b = calculate_upper_triangular_matrix(A, b)\n",
    "    solutions = Vector([0 for _ in range(A.number_of_rows())])\n",
    "    for column in range(A.number_of_columns()-1, -1, -1):\n",
    "        for row in range(column-1, -1, -1):\n",
    "            multiplier = row_nullify_multiplier_for_column(\n",
    "                row_to_nullify=A[row],\n",
    "                base_row=A[column],\n",
    "                column=column\n",
    "            )\n",
    "            A[row] = A[row] - multiplier * A[column]\n",
    "            b[row] = b[row] - multiplier * b[column]\n",
    "        solutions[column] = b[column] / A[column][column]\n",
    "    return solutions"
   ]
  },
  {
   "cell_type": "markdown",
   "id": "4f3610ccdc8b6b3",
   "metadata": {},
   "source": [
    "### Zadanie 4"
   ]
  },
  {
   "cell_type": "code",
   "execution_count": 62,
   "id": "afd3ffd5a8aa3ffb",
   "metadata": {
    "ExecuteTime": {
     "end_time": "2024-11-03T13:44:46.353876Z",
     "start_time": "2024-11-03T13:44:46.347523Z"
    }
   },
   "outputs": [
    {
     "name": "stdout",
     "output_type": "stream",
     "text": [
      "Rozwiązania układu równań obliczone zaimplementowaną metodą: <2.0, -2.0, 1.0, 1.0, -1.0>\n",
      "Rozwiązania układu równań obliczone z użyciem biblioteki scipy: [ 2. -2.  1.  1. -1.]\n",
      "Rozwiązania układu równań obliczone z użyciem biblioteki numpy: [ 2. -2.  1.  1. -1.]\n"
     ]
    }
   ],
   "source": [
    "A = Matrix.create_from_list(\n",
    "    [[0, 0, 2, 1, 2],\n",
    "    [0, 1, 0, 2, -1],\n",
    "    [1, 2, 0, -2, 0],\n",
    "    [0, 0, 0, -1, 1],\n",
    "    [0, 1, -1, 1, -1]])\n",
    "\n",
    "b = Vector([1, 1, -4, -2, -1])\n",
    "\n",
    "print('Rozwiązania układu równań obliczone zaimplementowaną metodą:', gaussian_solver(A, b))\n",
    "print('Rozwiązania układu równań obliczone z użyciem biblioteki scipy:', scipy.linalg.solve(A, b))\n",
    "print('Rozwiązania układu równań obliczone z użyciem biblioteki numpy:', np.linalg.solve(A, b))"
   ]
  },
  {
   "cell_type": "markdown",
   "id": "da5e4543e50e5aec",
   "metadata": {},
   "source": [
    "### Zadanie 5"
   ]
  },
  {
   "cell_type": "code",
   "execution_count": 63,
   "id": "6262c6196b053aaa",
   "metadata": {
    "ExecuteTime": {
     "end_time": "2024-11-03T13:44:48.094223Z",
     "start_time": "2024-11-03T13:44:47.939001Z"
    }
   },
   "outputs": [
    {
     "name": "stdout",
     "output_type": "stream",
     "text": [
      "Rozwiązania układu równań obliczone zaimplementowaną metodą: \n",
      " <-1.0, 2.6833333333333336, -0.8750000000000003, 0.21666666666666679, -0.02500000000000001> \n",
      "\n",
      "Rozwiązania układu równań obliczone zaimplementowaną metodą (po zamianie typu rozwiązania na tablicę z biblioteki numpy): \n",
      " [-1.          2.68333333 -0.875       0.21666667 -0.025     ] \n",
      "\n",
      "Rozwiązania układu równań obliczone z użyciem biblioteki scipy: \n",
      " [-1.          2.68333333 -0.875       0.21666667 -0.025     ] \n",
      "\n",
      "Rozwiązania układu równań obliczone z użyciem biblioteki numpy: \n",
      " [-1.          2.68333333 -0.875       0.21666667 -0.025     ]\n"
     ]
    },
    {
     "data": {
      "image/png": "[encoded data removed]",
      "text/plain": [
       "<Figure size 640x480 with 1 Axes>"
      ]
     },
     "metadata": {},
     "output_type": "display_data"
    }
   ],
   "source": [
    "def fourth_deg_polynomial_coeffs_lst(x0):\n",
    "    \"\"\"\n",
    "    Funkcja obliczająca wartości przy nieznanych współczynnikach wielomianu 4 stopnia, dla zadanego punktu.\n",
    "    :param x0: Punkt, dla którego obliczane są wartości przy współczynnikach.\n",
    "    :return: Funkcja zwraca listę wartości przy współczynnikach a_0, a_1, a_2, a_3 i a_4.\n",
    "    \"\"\"\n",
    "    return [x0 ** i for i in range(5)]\n",
    "\n",
    "\n",
    "def polynomial_value(lst_of_coeffs, x):\n",
    "    \"\"\"\n",
    "    Funkcja obliczająca wartość wielomianu, dla zadanej listy współczynników oraz argumentów.\n",
    "    :param lst_of_coeffs: Lista współczynników wielomianu, zaczynająca się od wyrazu wolnego.\n",
    "    :param x: Argument / argumenty, dla których obliczana jest wartość wielomianu.\n",
    "    :return: Funkcja zwraca listę argumentów i odpowiadających im wartości wielomianu.\n",
    "    \"\"\"\n",
    "    y = np.zeros(len(x))\n",
    "    for i in range(len(lst_of_coeffs)):\n",
    "        y += lst_of_coeffs[i] * np.power(x, i)\n",
    "    return x, y\n",
    "\n",
    "points = [(0, -1), (1, 1), (3, 3), (5, 2), (6, -2)]\n",
    "A = []\n",
    "b = []\n",
    "for x, y in points:\n",
    "    A.append(fourth_deg_polynomial_coeffs_lst(x))\n",
    "    b.append(y)\n",
    "\n",
    "A = Matrix.create_from_list(A)\n",
    "b = Vector(b)\n",
    "\n",
    "coeffs = gaussian_solver(A, b)\n",
    "print('Rozwiązania układu równań obliczone zaimplementowaną metodą:', '\\n', coeffs, '\\n')\n",
    "print('Rozwiązania układu równań obliczone zaimplementowaną metodą (po zamianie typu rozwiązania na tablicę z biblioteki numpy):', '\\n',\n",
    "      np.array(coeffs), '\\n')\n",
    "print('Rozwiązania układu równań obliczone z użyciem biblioteki scipy:', '\\n', scipy.linalg.solve(A, b), '\\n')\n",
    "print('Rozwiązania układu równań obliczone z użyciem biblioteki numpy:', '\\n', np.linalg.solve(A, b))\n",
    "\n",
    "x1 = np.linspace(0, 7, 1000)\n",
    "plt.plot(*polynomial_value(coeffs, x1), label='Wielomian obliczony z wykorzystaniem implementowanej metody')\n",
    "plt.scatter(*zip(*points), color='orange', label='Punkty dane w treści zadania')\n",
    "plt.title('Graficzna weryfikacja wyniku')\n",
    "plt.legend(loc='best')\n",
    "plt.xlabel('x', loc='right')\n",
    "plt.ylabel('y', loc='top')\n",
    "plt.show()"
   ]
  },
  {
   "cell_type": "markdown",
   "id": "e930e437c9d71a02",
   "metadata": {},
   "source": [
    "### Zadanie 6"
   ]
  },
  {
   "cell_type": "code",
   "execution_count": 64,
   "id": "4ac1a6ea6e1bdd05",
   "metadata": {
    "ExecuteTime": {
     "end_time": "2024-11-03T13:44:51.413590Z",
     "start_time": "2024-11-03T13:44:51.407763Z"
    }
   },
   "outputs": [
    {
     "name": "stdout",
     "output_type": "stream",
     "text": [
      "Wektor b obliczony zaimplementowaną metodą (jako iloczyn macierzy A i wektora rozwiązań x): \n",
      " <7.310000000000077, 4.2299999999999605, 13.850000000000003, 11.550000000000038> \n",
      "\n",
      "Wektor b obliczony zaimplementowaną metodą (po zamianie typu na tablicę z biblioteki numpy): \n",
      " [ 7.31  4.23 13.85 11.55] \n",
      "\n",
      "Wektor b \n",
      " <7.31, 4.23, 13.85, 11.55>\n"
     ]
    }
   ],
   "source": [
    "A = Matrix.create_from_list(\n",
    "    [[3.50, 2.77, -0.76, 1.80],\n",
    "     [-1.80, 2.68, 3.44, -0.09],\n",
    "     [0.27, 5.07, 6.90, 1.61],\n",
    "     [1.71, 5.45, 2.68, 1.71]])\n",
    "\n",
    "b = Vector([7.31, 4.23, 13.85, 11.55])\n",
    "\n",
    "x = gaussian_solver(A, b)\n",
    "b1 = A.multiply_matrix_by_vector(x)\n",
    "print('Wektor b obliczony zaimplementowaną metodą (jako iloczyn macierzy A i wektora rozwiązań x):', '\\n', b1, '\\n')\n",
    "print('Wektor b obliczony zaimplementowaną metodą (po zamianie typu na tablicę z biblioteki numpy):', '\\n', np.array(b1), '\\n')\n",
    "print('Wektor b', '\\n', b)"
   ]
  },
  {
   "cell_type": "markdown",
   "id": "54bcc22c2f225edf",
   "metadata": {},
   "source": [
    "Wektor b obliczony jako iloczyn macierzy A i wektora rozwiązań x jest w zaokrągleniu do 13-14 miejsc po przecinku równy wektorowi b. Oznacza to, że metoda działa poprawnie dla tej macierzy, a rozwiązanie układu równań jest obliczone z dużą dokładnością.\n",
    "\n",
    "Warto jednak zauważyć, że dokładność wyniku zależy także od standardu zapisu liczb zmiennoprzecinkowych, takiego jak IEEE 754, który ogranicza liczbę cyfr znaczących w obliczeniach numerycznych. W przypadku arytmetyki podwójnej precyzji (double precision) w standardzie IEEE 754 dokładność obliczeń wynosi około 15-17 cyfr znaczących. W związku z tym przy większych macierzach lub przy bardziej skomplikowanych operacjach numerycznych mogą wystąpić błędy zaokrągleń, które wpłyną na precyzję końcowego wyniku."
   ]
  },
  {
   "cell_type": "markdown",
   "id": "fab9d03708dfe43",
   "metadata": {},
   "source": [
    "### Zadanie 7"
   ]
  },
  {
   "cell_type": "code",
   "execution_count": 65,
   "id": "37d160c94f294602",
   "metadata": {
    "ExecuteTime": {
     "end_time": "2024-11-03T13:44:53.817779Z",
     "start_time": "2024-11-03T13:44:53.806842Z"
    }
   },
   "outputs": [
    {
     "name": "stdout",
     "output_type": "stream",
     "text": [
      "Rozwiązania układu równań obliczone zaimplementowaną metodą: \n",
      " <-0.9999999999999982, 0.9999999999999997, -1.0000000000000018, 0.9999999999999991, -1.000000000000001, 0.9999999999999993, -0.9999999999999991, 0.9999999999999987> \n",
      "\n",
      "Rozwiązania układu równań obliczone zaimplementowaną metodą (po zamianie typu rozwiązania na tablicę z biblioteki numpy): \n",
      " [-1.  1. -1.  1. -1.  1. -1.  1.] \n",
      "\n",
      "Rozwiązania układu równań obliczone z użyciem biblioteki scipy: \n",
      " [-1.  1. -1.  1. -1.  1. -1.  1.] \n",
      "\n",
      "Rozwiązania układu równań obliczone z użyciem biblioteki numpy: \n",
      " [-1.  1. -1.  1. -1.  1. -1.  1.] \n",
      "\n"
     ]
    }
   ],
   "source": [
    "A = Matrix.create_from_list(\n",
    "    [[10, -2, -1, 2, 3, 1, -4, 7],\n",
    "     [5, 11, 3, 10, -3, 3, 3, -4],\n",
    "     [7, 12, 1, 5, 3, -12, 2, 3],\n",
    "     [8, 7, -2, 1, 3, 2, 2, 4],\n",
    "     [2, -15, -1, 1, 4, -1, 8, 3],\n",
    "     [4, 2, 9, 1, 12, -1, 4, 1],\n",
    "     [-1, 4, -7, -1, 1, 1, -1, -3],\n",
    "     [-1, 3, 4, 1, 3, -4, 7, 6]])\n",
    "\n",
    "b = Vector([0, 12, -5, 3, -25, -26, 9, -7])\n",
    "x = gaussian_solver(A, b)\n",
    "\n",
    "print('Rozwiązania układu równań obliczone zaimplementowaną metodą:', '\\n', x, '\\n')\n",
    "print('Rozwiązania układu równań obliczone zaimplementowaną metodą (po zamianie typu rozwiązania na tablicę z biblioteki numpy):', '\\n', np.array(x), '\\n')\n",
    "print('Rozwiązania układu równań obliczone z użyciem biblioteki scipy:', '\\n', scipy.linalg.solve(A, b), '\\n')\n",
    "print('Rozwiązania układu równań obliczone z użyciem biblioteki numpy:', '\\n', np.linalg.solve(A, b), '\\n')"
   ]
  },
  {
   "cell_type": "markdown",
   "id": "2bd8f5df04e976d8",
   "metadata": {},
   "source": [
    "### Zadanie 8"
   ]
  },
  {
   "cell_type": "code",
   "execution_count": 66,
   "id": "15f3ce0518c39a12",
   "metadata": {
    "ExecuteTime": {
     "end_time": "2024-11-03T13:44:58.646551Z",
     "start_time": "2024-11-03T13:44:58.637495Z"
    }
   },
   "outputs": [
    {
     "name": "stdout",
     "output_type": "stream",
     "text": [
      "Macierz odwrotna obliczona zaimplementowaną metodą: \n",
      " <0.84, 0.6799999999999999, 0.5199999999999999, 0.36, 0.19999999999999998, 0.04>\n",
      "<0.6799999999999999, 1.3599999999999999, 1.0399999999999998, 0.72, 0.39999999999999997, 0.08>\n",
      "<0.5199999999999999, 1.0399999999999998, 1.5599999999999998, 1.08, 0.6, 0.12000000000000001>\n",
      "<0.35999999999999993, 0.7199999999999999, 1.0799999999999998, 1.4400000000000002, 0.8, 0.16000000000000003>\n",
      "<0.19999999999999996, 0.3999999999999999, 0.6, 0.8, 1.0, 0.2>\n",
      "<0.03999999999999999, 0.07999999999999997, 0.12, 0.16, 0.2, 0.24>\n",
      " \n",
      "\n",
      "Macierz odwrotna obliczona zaimplementowaną metodą (po zamianie typu rozwiązania na tablicę z biblioteki numpy, w celu lepszej wizualizacji): \n",
      " [[0.84 0.68 0.52 0.36 0.2  0.04]\n",
      " [0.68 1.36 1.04 0.72 0.4  0.08]\n",
      " [0.52 1.04 1.56 1.08 0.6  0.12]\n",
      " [0.36 0.72 1.08 1.44 0.8  0.16]\n",
      " [0.2  0.4  0.6  0.8  1.   0.2 ]\n",
      " [0.04 0.08 0.12 0.16 0.2  0.24]] \n",
      "\n",
      "Macierz odwrotna obliczona metodą z biblioteki scipy: \n",
      " [[0.84 0.68 0.52 0.36 0.2  0.04]\n",
      " [0.68 1.36 1.04 0.72 0.4  0.08]\n",
      " [0.52 1.04 1.56 1.08 0.6  0.12]\n",
      " [0.36 0.72 1.08 1.44 0.8  0.16]\n",
      " [0.2  0.4  0.6  0.8  1.   0.2 ]\n",
      " [0.04 0.08 0.12 0.16 0.2  0.24]] \n",
      "\n",
      "Macierz odwrotna obliczona metodą z biblioteki numpy: \n",
      " [[0.84 0.68 0.52 0.36 0.2  0.04]\n",
      " [0.68 1.36 1.04 0.72 0.4  0.08]\n",
      " [0.52 1.04 1.56 1.08 0.6  0.12]\n",
      " [0.36 0.72 1.08 1.44 0.8  0.16]\n",
      " [0.2  0.4  0.6  0.8  1.   0.2 ]\n",
      " [0.04 0.08 0.12 0.16 0.2  0.24]] \n",
      "\n"
     ]
    }
   ],
   "source": [
    "A = Matrix.create_from_list(\n",
    "        [[2, -1, 0, 0, 0, 0],\n",
    "         [-1, 2, -1, 0, 0, 0],\n",
    "         [0, -1, 2, -1, 0, 0],\n",
    "         [0, 0, -1, 2, -1, 0],\n",
    "         [0, 0, 0, -1, 2, -1],\n",
    "         [0, 0, 0, 0, -1, 5]])\n",
    "\n",
    "A_inversion = A.inv()\n",
    "\n",
    "print('Macierz odwrotna obliczona zaimplementowaną metodą:', '\\n', A_inversion, '\\n')\n",
    "print('Macierz odwrotna obliczona zaimplementowaną metodą (po zamianie typu rozwiązania na tablicę z biblioteki numpy, w celu lepszej wizualizacji):', '\\n', np.array(A_inversion), '\\n')\n",
    "print('Macierz odwrotna obliczona metodą z biblioteki scipy:', '\\n', scipy.linalg.inv(A), '\\n')\n",
    "print('Macierz odwrotna obliczona metodą z biblioteki numpy:', '\\n', np.linalg.inv(A), '\\n')"
   ]
  },
  {
   "cell_type": "markdown",
   "id": "ae499958ee6698ed",
   "metadata": {},
   "source": [
    "Macierz odwrotna do podanej macierzy nie jest macierzą trójdiagonalną, niemniej jednak jest macierzą symetryczną (wartość w i-tym wierszu j-tej kolumny odpowiada wartości w j-tym wierszu i-tej kolumny: $A_{i, j} = A_{j, i}$). Macierz trójdiagonalna to taka, w której tylko elementy na głównej przekątnej oraz na sąsiednich przekątnych (nad i pod główną) są niezerowe. Innymi słowy, wszystkie elementy są równe zero, z wyjątkiem elementów na głównej przekątnej i dwóch przekątnych najbliższych głównej. W podanej macierzy występują niezerowe wartości również poza tymi trzema przekątnymi. \n",
    "\n",
    "Macierzą trójdiagonalną jest macierz A."
   ]
  },
  {
   "cell_type": "markdown",
   "id": "728b7ccbfdceb536",
   "metadata": {},
   "source": [
    "### Zadanie 9"
   ]
  },
  {
   "cell_type": "code",
   "execution_count": 67,
   "id": "5743a1d848e3dadb",
   "metadata": {
    "ExecuteTime": {
     "end_time": "2024-11-03T13:45:01.638653Z",
     "start_time": "2024-11-03T13:45:01.623865Z"
    }
   },
   "outputs": [
    {
     "name": "stdout",
     "output_type": "stream",
     "text": [
      "Macierz odwrotna obliczona zaimplementowaną metodą: \n",
      " <-46385389420483.625, -46385389420483.875, -46385389420481.75, -92770778840965.0, 92770778840965.25>\n",
      "<-220330599747295.88, -220330599747296.34, -220330599747289.28, -440661199494584.7, 440661199494584.9>\n",
      "<-36897468857202.3, -36897468857202.21, -36897468857201.93, -73794937714404.16, 73794937714404.16>\n",
      "<-0.5, -0.5, 0.5, 0.0, 0.0>\n",
      "<93824992236888.66, 93824992236889.0, 93824992236882.33, 187649984473770.44, -187649984473770.66>\n",
      " \n",
      "\n",
      "Macierz odwrotna obliczona zaimplementowaną metodą (po zamianie typu rozwiązania na tablicę z biblioteki numpy, w celu lepszej wizualizacji): \n",
      " [[-4.63853894e+13 -4.63853894e+13 -4.63853894e+13 -9.27707788e+13\n",
      "   9.27707788e+13]\n",
      " [-2.20330600e+14 -2.20330600e+14 -2.20330600e+14 -4.40661199e+14\n",
      "   4.40661199e+14]\n",
      " [-3.68974689e+13 -3.68974689e+13 -3.68974689e+13 -7.37949377e+13\n",
      "   7.37949377e+13]\n",
      " [-5.00000000e-01 -5.00000000e-01  5.00000000e-01  0.00000000e+00\n",
      "   0.00000000e+00]\n",
      " [ 9.38249922e+13  9.38249922e+13  9.38249922e+13  1.87649984e+14\n",
      "  -1.87649984e+14]] \n",
      "\n",
      "Macierz odwrotna obliczona metodą z biblioteki scipy: \n",
      " [[-2.22649869e+15 -2.22649869e+15 -2.22649869e+15 -4.45299738e+15\n",
      "   4.45299738e+15]\n",
      " [-1.05758688e+16 -1.05758688e+16 -1.05758688e+16 -2.11517376e+16\n",
      "   2.11517376e+16]\n",
      " [-1.77107851e+15 -1.77107851e+15 -1.77107851e+15 -3.54215701e+15\n",
      "   3.54215701e+15]\n",
      " [-1.11022302e-16 -0.00000000e+00  1.00000000e+00  1.00000000e+00\n",
      "  -1.00000000e+00]\n",
      " [ 4.50359963e+15  4.50359963e+15  4.50359963e+15  9.00719925e+15\n",
      "  -9.00719925e+15]] \n",
      "\n",
      "Macierz odwrotna obliczona metodą z biblioteki numpy: \n",
      " [[-2.22649869e+15 -2.22649869e+15 -2.22649869e+15 -4.45299738e+15\n",
      "   4.45299738e+15]\n",
      " [-1.05758688e+16 -1.05758688e+16 -1.05758688e+16 -2.11517376e+16\n",
      "   2.11517376e+16]\n",
      " [-1.77107851e+15 -1.77107851e+15 -1.77107851e+15 -3.54215701e+15\n",
      "   3.54215701e+15]\n",
      " [-1.11022302e-16  0.00000000e+00  1.00000000e+00  1.00000000e+00\n",
      "  -1.00000000e+00]\n",
      " [ 4.50359963e+15  4.50359963e+15  4.50359963e+15  9.00719925e+15\n",
      "  -9.00719925e+15]] \n",
      "\n",
      "Wartość wyznacznika macierzy obliczona zaimplementowaną metodą: -9.485745522397344e-13\n",
      "Wartość wyznacznika macierzy obliczona metodą z biblioteki scipy: 1.9761969838327938e-14\n",
      "Wartość wyznacznika macierzy obliczona metodą z biblioteki numpy: 0.0\n"
     ]
    }
   ],
   "source": [
    "A = [[1, 3, -9, 6, 4],\n",
    "     [2, -1, 6, 7, 1],\n",
    "     [3, 2, -3, 15, 5],\n",
    "     [8, -1, 1, 4, 2],\n",
    "     [11, 1, -2, 18, 7]]\n",
    "A = Matrix.create_from_list(A)\n",
    "\n",
    "A_inversion = A.inv()\n",
    "\n",
    "print('Macierz odwrotna obliczona zaimplementowaną metodą:', '\\n', A_inversion, '\\n')\n",
    "print('Macierz odwrotna obliczona zaimplementowaną metodą (po zamianie typu rozwiązania na tablicę z biblioteki numpy, w celu lepszej wizualizacji):', '\\n', np.array(A_inversion), '\\n')\n",
    "print('Macierz odwrotna obliczona metodą z biblioteki scipy:', '\\n', scipy.linalg.inv(A), '\\n')\n",
    "print('Macierz odwrotna obliczona metodą z biblioteki numpy:', '\\n', np.linalg.inv(A), '\\n')\n",
    "\n",
    "print('Wartość wyznacznika macierzy obliczona zaimplementowaną metodą:', A.det())\n",
    "print('Wartość wyznacznika macierzy obliczona metodą z biblioteki scipy:', np.linalg.det(A))\n",
    "print('Wartość wyznacznika macierzy obliczona metodą z biblioteki numpy:', scipy.linalg.det(A))"
   ]
  },
  {
   "cell_type": "markdown",
   "id": "8eeedd36d866063f",
   "metadata": {},
   "source": [
    "Dana macierz jest macierzą osobliwą, co można sprawdzić, obliczając jej wyznacznik – jego wartość wynosi zero. W związku z tym macierz odwrotna do niej nie istnieje. Próby wyznaczenia macierzy odwrotnej, zarówno poprzez metodę implementowaną, jak i za pomocą bibliotek, prowadzą do niepoprawnych wyników. Elementy uzyskanej macierzy odwrotnej mają wartości bliskie zera lub są bardzo duże, co wskazuje, że jest to efekt błędu numerycznego przy obliczeniach."
   ]
  }
 ],
 "metadata": {
  "kernelspec": {
   "display_name": "Python 3 (ipykernel)",
   "language": "python",
   "name": "python3"
  },
  "language_info": {
   "codemirror_mode": {
    "name": "ipython",
    "version": 3
   },
   "file_extension": ".py",
   "mimetype": "text/x-python",
   "name": "python",
   "nbconvert_exporter": "python",
   "pygments_lexer": "ipython3",
   "version": "3.11.3"
  }
 },
 "nbformat": 4,
 "nbformat_minor": 5
}
