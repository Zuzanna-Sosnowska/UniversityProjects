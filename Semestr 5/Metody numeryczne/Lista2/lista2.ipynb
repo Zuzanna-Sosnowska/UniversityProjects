{
 "cells": [
  {
   "metadata": {},
   "cell_type": "markdown",
   "source": "# Lista 2 Zuzanna Sosnowska",
   "id": "e97079692fb8f506"
  },
  {
   "cell_type": "code",
   "id": "initial_id",
   "metadata": {
    "collapsed": true,
    "ExecuteTime": {
     "end_time": "2024-11-02T10:10:28.567020Z",
     "start_time": "2024-11-02T10:10:28.380320Z"
    }
   },
   "source": [
    "import scipy\n",
    "import numpy as np\n",
    "import copy"
   ],
   "outputs": [],
   "execution_count": 1
  },
  {
   "metadata": {
    "ExecuteTime": {
     "end_time": "2024-11-02T10:34:53.362947Z",
     "start_time": "2024-11-02T10:34:53.333107Z"
    }
   },
   "cell_type": "code",
   "source": [
    "def calculate_upper_triangular_matrix(A, b):\n",
    "    \"\"\"\n",
    "    Funkcja, która przekształca zadaną macierz na macierz górnotrójkątną i równolegle przekształca wektor b \n",
    "    :param A: Macierz przekształcana do macierzy górnotrójkątnej\n",
    "    :param b: Równolegle przekształcany wektor b\n",
    "    :return: Przekształcona macierz A i wektor b\n",
    "    \"\"\"\n",
    "    n = len(A)\n",
    "    for column in range(n):\n",
    "        find_nullifying_row = False\n",
    "        for row in range(column, n):\n",
    "            if A[row][column] != 0 and find_nullifying_row == False:\n",
    "                swap_rows(A, row, column)\n",
    "                swap_elements(b, row, column)\n",
    "                find_nullifying_row = True\n",
    "                continue\n",
    "            if find_nullifying_row:\n",
    "                a = calculate_nullify_multiplier_for_index(\n",
    "                    row_to_nullify=A[row],\n",
    "                    base_row=A[column],\n",
    "                    index=column\n",
    "                )\n",
    "                a = multiply_and_change_rows(A[row], A[column], column)\n",
    "                change_elements(b, row, column, a)\n",
    "        if not find_nullifying_row:\n",
    "            raise ValueError(\"Macierz osobliwa\")\n",
    "\n",
    "\n",
    "def upper_triangular_matrix(A):\n",
    "    n = len(A)\n",
    "    for j in range(n):\n",
    "        find_nullifying_row = False\n",
    "        for i in range(j, n):\n",
    "            if A[i][j] != 0 and find_nullifying_row == False:\n",
    "                swap_rows(A, i, j)\n",
    "                find_nullifying_row = True\n",
    "                continue\n",
    "            if find_nullifying_row:\n",
    "                multiply_and_change_rows(A[i], A[j], j)\n",
    "        if not find_nullifying_row:\n",
    "            raise ValueError(\"Macierz osobliwa\")\n",
    "\n",
    "\n",
    "def swap_rows(A, i, j):\n",
    "    A[i], A[j] = A[j], A[i]\n",
    "\n",
    "\n",
    "def calculate_nullify_multiplier_for_index(row_to_nullify, base_row, index):\n",
    "    return row_to_nullify[index] / base_row[index]\n",
    "\n",
    "\n",
    "def multiply_and_change_rows(row1, row2, j):\n",
    "    if len(row1) != len(row2):\n",
    "        raise ValueError(\"Rows must have same length\")\n",
    "    a = row1[j] / row2[j]\n",
    "    for i in range(j, len(row1)):\n",
    "        row1[i] = row1[i] - a * row2[i]\n",
    "    return a\n",
    "\n",
    "\n",
    "def change_rows(row1, row2, a):\n",
    "    if len(row1) != len(row2):\n",
    "        raise ValueError(\"Rows must have same length\")\n",
    "    for i in range(len(row1)):\n",
    "        row1[i] = row1[i] - a * row2[i]\n",
    "\n",
    "\n",
    "def swap_elements(b, i, j):\n",
    "    number_copy = b[i]\n",
    "    b[i] = b[j]\n",
    "    b[j] = number_copy\n",
    "\n",
    "\n",
    "def change_elements(b, i, j, a):\n",
    "    b[i] = b[i] - a * b[j]\n",
    "\n",
    "\n",
    "def subtract_columns(b, a, j):\n",
    "    for i in range(j):\n",
    "        b[i] = b[i] - a[i]\n",
    "\n",
    "\n",
    "def multiply_columns(a, c, j):\n",
    "    a_copy = a.copy()\n",
    "    for i in range(j):\n",
    "        a_copy[i] = a[i] * c\n",
    "    return a_copy\n",
    "\n",
    "\n",
    "def gaussian_solver(A, b):\n",
    "    A, b = copy.deepcopy(A), copy.deepcopy(b)\n",
    "    calculate_upper_triangular_matrix(A, b)\n",
    "    solutions = [0 for _ in range(len(A))]\n",
    "    solutions[-1] = b[-1] / A[-1][-1]\n",
    "    for i in range(len(A)-2, -1, -1):\n",
    "        a_copy =  multiply_columns([A[j][i+1] for j in range(len(A))], solutions[i+1], i+1)\n",
    "        subtract_columns(b, a_copy, i+1)\n",
    "        solutions[i] = b[i] / A[i][i]\n",
    "    return solutions\n",
    "\n",
    "\n",
    "def det(A):\n",
    "    A = copy.deepcopy(A)\n",
    "    upper_triangular_matrix(A)\n",
    "    det = 1\n",
    "    for i in range(len(A)):\n",
    "        det *= A[i][i]\n",
    "    return det\n",
    "\n",
    "\n",
    "def multiply_matrix_by_vector(A, b):\n",
    "    if len(A[0]) != len(b):\n",
    "        raise ValueError(\"Matrix must have same length\")\n",
    "    product = [0] * len(A)\n",
    "    for i in range(len(A)):\n",
    "        product[i] = multiply_vector_by_vector(A[i], b)\n",
    "    return product\n",
    "\n",
    "\n",
    "def multiply_vector_by_vector(a, b):\n",
    "    if len(a) != len(b):\n",
    "        raise ValueError(\"Vector must have same length\")\n",
    "    product = 0\n",
    "    for i in range(len(a)):\n",
    "        product += a[i] * b[i]\n",
    "    return product\n",
    "\n",
    "\n",
    "def generate_identity_matrix(n):\n",
    "    return [[1 if i == j  else 0 for i in range(n)] for j in range(n)]\n",
    "\n",
    "\n",
    "def multiply_row(row, a):\n",
    "    for i in range(len(row)):\n",
    "        row[i] = a * row[i]\n",
    "\n",
    "\n",
    "def inverse_matrix(A):\n",
    "    A = copy.deepcopy(A)\n",
    "    n = len(A)\n",
    "    I = generate_identity_matrix(n)\n",
    "    for j in range(n):\n",
    "        c = False\n",
    "        for i in range(j, n):\n",
    "            if A[i][j] != 0 and c == False:\n",
    "                swap_rows(A, i, j)\n",
    "                swap_rows(I, i, j)\n",
    "                c = True\n",
    "                continue\n",
    "            if c:\n",
    "                a = multiply_and_change_rows(A[i], A[j], j)\n",
    "                change_rows(I[i], I[j], a)\n",
    "        if not c:\n",
    "            raise ValueError(\"Macierz osobliwa\")\n",
    "\n",
    "    for j in range(n-1, -1, -1):\n",
    "        for i in range(j):\n",
    "            a = multiply_and_change_rows(A[i], A[j], j)\n",
    "            change_rows(I[i], I[j], a)\n",
    "        multiply_row(I[j], 1 / A[j][j])\n",
    "        multiply_row(A[j],1 / A[j][j])\n",
    "    return I\n"
   ],
   "id": "82d13b958dfcba17",
   "outputs": [],
   "execution_count": 21
  },
  {
   "metadata": {},
   "cell_type": "markdown",
   "source": "### Zadanie 4",
   "id": "492e1a0ea9a5c845"
  },
  {
   "metadata": {
    "ExecuteTime": {
     "end_time": "2024-11-02T10:10:35.843014Z",
     "start_time": "2024-11-02T10:10:34.290858Z"
    }
   },
   "cell_type": "code",
   "source": [
    "A = [[0, 0, 2, 1, 2],\n",
    "     [0, 1, 0, 2, -1],\n",
    "     [1, 2, 0, -2, 0],\n",
    "     [0, 0, 0, -1, 1],\n",
    "     [0, 1, -1, 1, -1]]\n",
    "b = [1, 1, -4, -2, -1]\n",
    "\n",
    "print(gaussian_solver(A, b))\n",
    "print(scipy.linalg.solve(A, b))"
   ],
   "id": "16520e4fdb969a0d",
   "outputs": [
    {
     "name": "stdout",
     "output_type": "stream",
     "text": [
      "[2.0, -2.0, 1.0, 1.0, -1.0]\n",
      "[ 2. -2.  1.  1. -1.]\n"
     ]
    }
   ],
   "execution_count": 3
  },
  {
   "metadata": {},
   "cell_type": "markdown",
   "source": "### Zadanie 5",
   "id": "940d798e8a254e83"
  },
  {
   "metadata": {
    "ExecuteTime": {
     "end_time": "2024-11-02T10:11:42.257186Z",
     "start_time": "2024-11-02T10:11:42.249992Z"
    }
   },
   "cell_type": "code",
   "source": [
    "def polynomial_coeffs_lst(x0):\n",
    "    return [x0 ** i for i in range(5)]\n",
    "\n",
    "\n",
    "points = [(0, -1), (1, 1), (3, 3), (5, 2), (6, -2)]\n",
    "A = []\n",
    "b = []\n",
    "for x, y in points:\n",
    "    A.append(polynomial_coeffs_lst(x))\n",
    "    b.append(y)\n",
    "\n",
    "print(gaussian_solver(A, b))\n",
    "print(scipy.linalg.solve(A, b))\n"
   ],
   "id": "100e515492f9960b",
   "outputs": [
    {
     "name": "stdout",
     "output_type": "stream",
     "text": [
      "[-1.0, 2.6833333333333336, -0.8750000000000003, 0.21666666666666679, -0.02500000000000001]\n",
      "[-1.          2.68333333 -0.875       0.21666667 -0.025     ]\n"
     ]
    }
   ],
   "execution_count": 4
  },
  {
   "metadata": {},
   "cell_type": "markdown",
   "source": "### Zadanie 6",
   "id": "57d12cad5b618d86"
  },
  {
   "metadata": {
    "ExecuteTime": {
     "end_time": "2024-11-02T10:39:28.655449Z",
     "start_time": "2024-11-02T10:39:28.646455Z"
    }
   },
   "cell_type": "code",
   "source": [
    "A = [[3.50, 2.77, -0.76, 1.80],\n",
    "     [-1.80, 2.68, 3.44, -0.09],\n",
    "     [0.27, 5.07, 6.90, 1.61],\n",
    "     [1.71, 5.45, 2.68, 1.71]]\n",
    "\n",
    "b = [7.31, 4.23, 13.85, 11.55]\n",
    "\n",
    "print(det(A))\n",
    "x = gaussian_solver(A, b)\n",
    "print(multiply_matrix_by_vector(A, x))\n",
    "\n",
    "print('\\n')\n",
    "\n",
    "print(scipy.linalg.det(A, b))\n",
    "x = scipy.linalg.solve(A, b)\n",
    "print(A @ x)"
   ],
   "id": "a9f0a24d578ac9b5",
   "outputs": [
    {
     "name": "stdout",
     "output_type": "stream",
     "text": [
      "-0.22579734000001275\n",
      "[7.31, 4.230000000000002, 13.849999999999998, 11.550000000000002]\n",
      "\n",
      "\n",
      "-0.22579733999999005\n",
      "[ 7.31  4.23 13.85 11.55]\n"
     ]
    }
   ],
   "execution_count": 28
  },
  {
   "metadata": {},
   "cell_type": "markdown",
   "source": "### Zadanie 7",
   "id": "bae2e89f9c9ee6fc"
  },
  {
   "metadata": {
    "ExecuteTime": {
     "end_time": "2024-11-02T10:40:50.811264Z",
     "start_time": "2024-11-02T10:40:50.803205Z"
    }
   },
   "cell_type": "code",
   "source": [
    "A = [[10, -2, -1, 2, 3, 1, -4, 7],\n",
    "     [5, 11, 3, 10, -3, 3, 3, -4],\n",
    "     [7, 12, 1, 5, 3, -12, 2, 3],\n",
    "     [8, 7, -2, 1, 3, 2, 2, 4],\n",
    "     [2, -15, -1, 1, 4, -1, 8, 3],\n",
    "     [4, 2, 9, 1, 12, -1, 4, 1],\n",
    "     [-1, 4, -7, -1, 1, 1, -1, -3],\n",
    "     [-1, 3, 4, 1, 3, -4, 7, 6]]\n",
    "\n",
    "b = [0, 12, -5, 3, -25, -26, 9, -7]\n",
    "\n",
    "print(gaussian_solver(A, b))\n",
    "print(scipy.linalg.solve(A, b))"
   ],
   "id": "928cbdf6aad389cb",
   "outputs": [
    {
     "name": "stdout",
     "output_type": "stream",
     "text": [
      "[-1.  1. -1.  1. -1.  1. -1.  1.]\n",
      "[-1.  1. -1.  1. -1.  1. -1.  1.]\n"
     ]
    }
   ],
   "execution_count": 29
  },
  {
   "metadata": {},
   "cell_type": "markdown",
   "source": "### Zadanie 8",
   "id": "8000dad9df5a4ca"
  },
  {
   "metadata": {
    "ExecuteTime": {
     "end_time": "2024-11-02T10:27:04.388976Z",
     "start_time": "2024-11-02T10:27:04.373402Z"
    }
   },
   "cell_type": "code",
   "source": [
    "A = [[2, -1, 0, 0, 0, 0],\n",
    "     [-1, 2, -1, 0, 0, 0],\n",
    "     [0, -1, 2, -1, 0, 0],\n",
    "     [0, 0, -1, 2, -1, 0],\n",
    "     [0, 0, 0, -1, 2, -1],\n",
    "     [0, 0, 0, 0, -1, 5]]\n",
    "\n",
    "print(np.array(inverse_matrix(A)), '\\n')\n",
    "print(scipy.linalg.inv(A))"
   ],
   "id": "348aacefa6c96422",
   "outputs": [
    {
     "name": "stdout",
     "output_type": "stream",
     "text": [
      "[[0.84 0.68 0.52 0.36 0.2  0.04]\n",
      " [0.68 1.36 1.04 0.72 0.4  0.08]\n",
      " [0.52 1.04 1.56 1.08 0.6  0.12]\n",
      " [0.36 0.72 1.08 1.44 0.8  0.16]\n",
      " [0.2  0.4  0.6  0.8  1.   0.2 ]\n",
      " [0.04 0.08 0.12 0.16 0.2  0.24]] \n",
      "\n",
      "[[0.84 0.68 0.52 0.36 0.2  0.04]\n",
      " [0.68 1.36 1.04 0.72 0.4  0.08]\n",
      " [0.52 1.04 1.56 1.08 0.6  0.12]\n",
      " [0.36 0.72 1.08 1.44 0.8  0.16]\n",
      " [0.2  0.4  0.6  0.8  1.   0.2 ]\n",
      " [0.04 0.08 0.12 0.16 0.2  0.24]]\n"
     ]
    }
   ],
   "execution_count": 12
  },
  {
   "metadata": {},
   "cell_type": "markdown",
   "source": "### Zadanie 9",
   "id": "3f9ad83a141bc62"
  },
  {
   "metadata": {
    "ExecuteTime": {
     "end_time": "2024-11-02T10:41:44.816324Z",
     "start_time": "2024-11-02T10:41:44.809872Z"
    }
   },
   "cell_type": "code",
   "source": [
    "A = [[1, 3, -9, 6, 4],\n",
    "     [2, -1, 6, 7, 1],\n",
    "     [3, 2, -3, 15, 5],\n",
    "     [8, -1, 1, 4, 2],\n",
    "     [11, 1, -2, 18, 7]]\n",
    "\n",
    "\n",
    "print(np.array(inverse_matrix(A)))\n",
    "print(scipy.linalg.inv(A), '\\n')\n",
    "print(np.linalg.inv(A))"
   ],
   "id": "f8ec243e321a5ffb",
   "outputs": [
    {
     "name": "stdout",
     "output_type": "stream",
     "text": [
      "[[-4.63853894e+13 -4.63853894e+13 -4.63853894e+13 -9.27707788e+13\n",
      "   9.27707788e+13]\n",
      " [-2.20330600e+14 -2.20330600e+14 -2.20330600e+14 -4.40661199e+14\n",
      "   4.40661199e+14]\n",
      " [-3.68974689e+13 -3.68974689e+13 -3.68974689e+13 -7.37949377e+13\n",
      "   7.37949377e+13]\n",
      " [-5.00000000e-01 -5.00000000e-01  5.00000000e-01  0.00000000e+00\n",
      "   0.00000000e+00]\n",
      " [ 9.38249922e+13  9.38249922e+13  9.38249922e+13  1.87649984e+14\n",
      "  -1.87649984e+14]]\n",
      "[[-2.22649869e+15 -2.22649869e+15 -2.22649869e+15 -4.45299738e+15\n",
      "   4.45299738e+15]\n",
      " [-1.05758688e+16 -1.05758688e+16 -1.05758688e+16 -2.11517376e+16\n",
      "   2.11517376e+16]\n",
      " [-1.77107851e+15 -1.77107851e+15 -1.77107851e+15 -3.54215701e+15\n",
      "   3.54215701e+15]\n",
      " [-1.11022302e-16 -0.00000000e+00  1.00000000e+00  1.00000000e+00\n",
      "  -1.00000000e+00]\n",
      " [ 4.50359963e+15  4.50359963e+15  4.50359963e+15  9.00719925e+15\n",
      "  -9.00719925e+15]] \n",
      "\n",
      "[[-2.22649869e+15 -2.22649869e+15 -2.22649869e+15 -4.45299738e+15\n",
      "   4.45299738e+15]\n",
      " [-1.05758688e+16 -1.05758688e+16 -1.05758688e+16 -2.11517376e+16\n",
      "   2.11517376e+16]\n",
      " [-1.77107851e+15 -1.77107851e+15 -1.77107851e+15 -3.54215701e+15\n",
      "   3.54215701e+15]\n",
      " [-1.11022302e-16  0.00000000e+00  1.00000000e+00  1.00000000e+00\n",
      "  -1.00000000e+00]\n",
      " [ 4.50359963e+15  4.50359963e+15  4.50359963e+15  9.00719925e+15\n",
      "  -9.00719925e+15]]\n"
     ]
    }
   ],
   "execution_count": 32
  }
 ],
 "metadata": {
  "kernelspec": {
   "display_name": "Python 3",
   "language": "python",
   "name": "python3"
  },
  "language_info": {
   "codemirror_mode": {
    "name": "ipython",
    "version": 2
   },
   "file_extension": ".py",
   "mimetype": "text/x-python",
   "name": "python",
   "nbconvert_exporter": "python",
   "pygments_lexer": "ipython2",
   "version": "2.7.6"
  }
 },
 "nbformat": 4,
 "nbformat_minor": 5
}
